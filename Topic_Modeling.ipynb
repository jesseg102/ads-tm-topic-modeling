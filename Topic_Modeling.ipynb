{
  "cells": [
    {
      "cell_type": "markdown",
      "id": "bce2bb89",
      "metadata": {
        "id": "bce2bb89"
      },
      "source": [
        "# ADS 509 Assignment 5.1: Topic Modeling\n",
        "\n",
        "This notebook holds Assignment 5.1 for Module 5 in ADS 509, Applied Text Mining. Work through this notebook, writing code and answering questions where required.\n",
        "\n",
        "In this assignment you will work with a categorical corpus that accompanies `nltk`. You will build the three types of topic models described in Chapter 8 of _Blueprints for Text Analytics using Python_: NMF, LSA, and LDA. You will compare these models to the true categories.\n"
      ]
    },
    {
      "cell_type": "markdown",
      "id": "d87e2c06",
      "metadata": {
        "id": "d87e2c06"
      },
      "source": [
        "## General Assignment Instructions\n",
        "\n",
        "These instructions are included in every assignment, to remind you of the coding standards for the class. Feel free to delete this cell after reading it.\n",
        "\n",
        "One sign of mature code is conforming to a style guide. We recommend the [Google Python Style Guide](https://google.github.io/styleguide/pyguide.html). If you use a different style guide, please include a cell with a link.\n",
        "\n",
        "Your code should be relatively easy-to-read, sensibly commented, and clean. Writing code is a messy process, so please be sure to edit your final submission. Remove any cells that are not needed or parts of cells that contain unnecessary code. Remove inessential `import` statements and make sure that all such statements are moved into the designated cell.\n",
        "\n",
        "Make use of non-code cells for written commentary. These cells should be grammatical and clearly written. In some of these cells you will have questions to answer. The questions will be marked by a \"Q:\" and will have a corresponding \"A:\" spot for you. *Make sure to answer every question marked with a `Q:` for full credit.*\n"
      ]
    },
    {
      "cell_type": "code",
      "execution_count": 8,
      "id": "a85bce08",
      "metadata": {
        "colab": {
          "base_uri": "https://localhost:8080/"
        },
        "id": "a85bce08",
        "outputId": "4cbf8ffd-3e3e-4d33-914d-cd360d59e7f2"
      },
      "outputs": [
        {
          "output_type": "stream",
          "name": "stderr",
          "text": [
            "/usr/local/lib/python3.10/dist-packages/ipykernel/ipkernel.py:283: DeprecationWarning: `should_run_async` will not call `transform_cell` automatically in the future. Please pass the result to `transformed_cell` argument and any exception that happen during thetransform in `preprocessing_exc_tuple` in IPython 7.17 and above.\n",
            "  and should_run_async(code)\n"
          ]
        }
      ],
      "source": [
        "# These libraries may be useful to you\n",
        "\n",
        "#!pip install pyLDAvis==3.4.1 --user  #You need to restart the Kernel after installation.\n",
        "# You also need a Python version => 3.9.0\n",
        "from nltk.corpus import brown\n",
        "\n",
        "import numpy as np\n",
        "import pandas as pd\n",
        "from tqdm.auto import tqdm\n",
        "\n",
        "import pyLDAvis\n",
        "import pyLDAvis.lda_model\n",
        "import pyLDAvis.gensim_models\n",
        "\n",
        "import spacy\n",
        "from sklearn.feature_extraction.text import TfidfVectorizer, CountVectorizer\n",
        "from sklearn.decomposition import NMF, TruncatedSVD, LatentDirichletAllocation\n",
        "\n",
        "from spacy.lang.en.stop_words import STOP_WORDS as stopwords\n",
        "import en_core_web_sm\n",
        "\n",
        "from collections import Counter, defaultdict\n",
        "\n",
        "nlp = en_core_web_sm.load()"
      ]
    },
    {
      "cell_type": "code",
      "execution_count": 9,
      "id": "a218df60",
      "metadata": {
        "id": "a218df60",
        "colab": {
          "base_uri": "https://localhost:8080/"
        },
        "outputId": "86a70cd7-7641-4d5c-8f3b-c6638edac903"
      },
      "outputs": [
        {
          "output_type": "stream",
          "name": "stderr",
          "text": [
            "/usr/local/lib/python3.10/dist-packages/ipykernel/ipkernel.py:283: DeprecationWarning: `should_run_async` will not call `transform_cell` automatically in the future. Please pass the result to `transformed_cell` argument and any exception that happen during thetransform in `preprocessing_exc_tuple` in IPython 7.17 and above.\n",
            "  and should_run_async(code)\n",
            "[nltk_data] Downloading package brown to /root/nltk_data...\n",
            "[nltk_data]   Unzipping corpora/brown.zip.\n"
          ]
        },
        {
          "output_type": "execute_result",
          "data": {
            "text/plain": [
              "True"
            ]
          },
          "metadata": {},
          "execution_count": 9
        }
      ],
      "source": [
        "# add any additional libaries you need here\n",
        "\n",
        "import nltk\n",
        "nltk.download('brown')"
      ]
    },
    {
      "cell_type": "code",
      "execution_count": 10,
      "id": "494de237",
      "metadata": {
        "id": "494de237",
        "colab": {
          "base_uri": "https://localhost:8080/"
        },
        "outputId": "d83c269b-9a59-4c86-d026-88b9c3a886b6"
      },
      "outputs": [
        {
          "output_type": "stream",
          "name": "stderr",
          "text": [
            "/usr/local/lib/python3.10/dist-packages/ipykernel/ipkernel.py:283: DeprecationWarning: `should_run_async` will not call `transform_cell` automatically in the future. Please pass the result to `transformed_cell` argument and any exception that happen during thetransform in `preprocessing_exc_tuple` in IPython 7.17 and above.\n",
            "  and should_run_async(code)\n"
          ]
        }
      ],
      "source": [
        "# This function comes from the BTAP repo.\n",
        "\n",
        "def display_topics(model, features, no_top_words=5):\n",
        "    for topic, words in enumerate(model.components_):\n",
        "        total = words.sum()\n",
        "        largest = words.argsort()[::-1] # invert sort order\n",
        "        print(\"\\nTopic %02d\" % topic)\n",
        "        for i in range(0, no_top_words):\n",
        "            print(\"  %s (%2.2f)\" % (features[largest[i]], abs(words[largest[i]]*100.0/total)))"
      ]
    },
    {
      "cell_type": "markdown",
      "id": "a30a901c",
      "metadata": {
        "id": "a30a901c"
      },
      "source": [
        "## Getting to Know the Brown Corpus\n",
        "\n",
        "Let's spend a bit of time getting to know what's in the Brown corpus, our NLTK example of an \"overlapping\" corpus."
      ]
    },
    {
      "cell_type": "code",
      "execution_count": 11,
      "id": "457c59ed",
      "metadata": {
        "id": "457c59ed",
        "colab": {
          "base_uri": "https://localhost:8080/"
        },
        "outputId": "6798fe87-62cf-413c-cc36-26c44b473805"
      },
      "outputs": [
        {
          "output_type": "stream",
          "name": "stdout",
          "text": [
            "For adventure we have 29 articles.\n",
            "For belles_lettres we have 75 articles.\n",
            "For editorial we have 27 articles.\n",
            "For fiction we have 29 articles.\n",
            "For government we have 30 articles.\n",
            "For hobbies we have 36 articles.\n",
            "For humor we have 9 articles.\n",
            "For learned we have 80 articles.\n",
            "For lore we have 48 articles.\n",
            "For mystery we have 24 articles.\n",
            "For news we have 44 articles.\n",
            "For religion we have 17 articles.\n",
            "For reviews we have 17 articles.\n",
            "For romance we have 29 articles.\n",
            "For science_fiction we have 6 articles.\n"
          ]
        },
        {
          "output_type": "stream",
          "name": "stderr",
          "text": [
            "/usr/local/lib/python3.10/dist-packages/ipykernel/ipkernel.py:283: DeprecationWarning: `should_run_async` will not call `transform_cell` automatically in the future. Please pass the result to `transformed_cell` argument and any exception that happen during thetransform in `preprocessing_exc_tuple` in IPython 7.17 and above.\n",
            "  and should_run_async(code)\n"
          ]
        }
      ],
      "source": [
        "# categories of articles in Brown corpus\n",
        "for category in brown.categories() :\n",
        "    print(f\"For {category} we have {len(brown.fileids(categories=category))} articles.\")"
      ]
    },
    {
      "cell_type": "markdown",
      "id": "23fb133c",
      "metadata": {
        "id": "23fb133c"
      },
      "source": [
        "Let's create a dataframe of the articles in of hobbies, editorial, government, news, and romance."
      ]
    },
    {
      "cell_type": "code",
      "execution_count": 12,
      "id": "18f50b9d",
      "metadata": {
        "id": "18f50b9d",
        "colab": {
          "base_uri": "https://localhost:8080/"
        },
        "outputId": "87dafbc3-dc3d-4f70-d9a7-59c0114dbefd"
      },
      "outputs": [
        {
          "output_type": "stream",
          "name": "stderr",
          "text": [
            "/usr/local/lib/python3.10/dist-packages/ipykernel/ipkernel.py:283: DeprecationWarning: `should_run_async` will not call `transform_cell` automatically in the future. Please pass the result to `transformed_cell` argument and any exception that happen during thetransform in `preprocessing_exc_tuple` in IPython 7.17 and above.\n",
            "  and should_run_async(code)\n"
          ]
        },
        {
          "output_type": "execute_result",
          "data": {
            "text/plain": [
              "(166, 3)"
            ]
          },
          "metadata": {},
          "execution_count": 12
        }
      ],
      "source": [
        "categories = ['editorial','government','news','romance','hobbies']\n",
        "\n",
        "category_list = []\n",
        "file_ids = []\n",
        "texts = []\n",
        "\n",
        "for category in categories :\n",
        "    for file_id in brown.fileids(categories=category) :\n",
        "\n",
        "        # build some lists for a dataframe\n",
        "        category_list.append(category)\n",
        "        file_ids.append(file_id)\n",
        "\n",
        "        text = brown.words(fileids=file_id)\n",
        "        texts.append(\" \".join(text))\n",
        "\n",
        "\n",
        "\n",
        "df = pd.DataFrame()\n",
        "df['category'] = category_list\n",
        "df['id'] = file_ids\n",
        "df['text'] = texts\n",
        "\n",
        "df.shape"
      ]
    },
    {
      "cell_type": "code",
      "execution_count": 13,
      "id": "586f47de",
      "metadata": {
        "id": "586f47de",
        "colab": {
          "base_uri": "https://localhost:8080/"
        },
        "outputId": "6667aa59-243a-4844-fd02-385672bdd210"
      },
      "outputs": [
        {
          "output_type": "stream",
          "name": "stderr",
          "text": [
            "/usr/local/lib/python3.10/dist-packages/ipykernel/ipkernel.py:283: DeprecationWarning: `should_run_async` will not call `transform_cell` automatically in the future. Please pass the result to `transformed_cell` argument and any exception that happen during thetransform in `preprocessing_exc_tuple` in IPython 7.17 and above.\n",
            "  and should_run_async(code)\n"
          ]
        }
      ],
      "source": [
        "# Let's add some helpful columns on the df\n",
        "df['char_len'] = df['text'].apply(len)\n",
        "df['word_len'] = df['text'].apply(lambda x: len(x.split()))\n"
      ]
    },
    {
      "cell_type": "code",
      "execution_count": 14,
      "id": "2128fd2d",
      "metadata": {
        "id": "2128fd2d",
        "colab": {
          "base_uri": "https://localhost:8080/",
          "height": 684
        },
        "outputId": "4d390385-ee93-4249-9411-c282918358af"
      },
      "outputs": [
        {
          "output_type": "stream",
          "name": "stderr",
          "text": [
            "/usr/local/lib/python3.10/dist-packages/ipykernel/ipkernel.py:283: DeprecationWarning: `should_run_async` will not call `transform_cell` automatically in the future. Please pass the result to `transformed_cell` argument and any exception that happen during thetransform in `preprocessing_exc_tuple` in IPython 7.17 and above.\n",
            "  and should_run_async(code)\n"
          ]
        },
        {
          "output_type": "execute_result",
          "data": {
            "text/plain": [
              "<Axes: xlabel='category'>"
            ]
          },
          "metadata": {},
          "execution_count": 14
        },
        {
          "output_type": "display_data",
          "data": {
            "text/plain": [
              "<Figure size 1000x600 with 1 Axes>"
            ],
            "image/png": "[encoded data removed]"
          },
          "metadata": {}
        }
      ],
      "source": [
        "%matplotlib inline\n",
        "df.groupby('category').agg({'word_len': 'mean'}).plot.bar(figsize=(10,6))"
      ]
    },
    {
      "cell_type": "markdown",
      "id": "554ffeb5",
      "metadata": {
        "id": "554ffeb5"
      },
      "source": [
        "Now do our TF-IDF and Count vectorizations."
      ]
    },
    {
      "cell_type": "code",
      "execution_count": 15,
      "id": "21a7d247",
      "metadata": {
        "id": "21a7d247",
        "colab": {
          "base_uri": "https://localhost:8080/"
        },
        "outputId": "2db18390-f1b2-41c1-9378-7cdd5a2bd73a"
      },
      "outputs": [
        {
          "output_type": "stream",
          "name": "stderr",
          "text": [
            "/usr/local/lib/python3.10/dist-packages/ipykernel/ipkernel.py:283: DeprecationWarning: `should_run_async` will not call `transform_cell` automatically in the future. Please pass the result to `transformed_cell` argument and any exception that happen during thetransform in `preprocessing_exc_tuple` in IPython 7.17 and above.\n",
            "  and should_run_async(code)\n",
            "/usr/local/lib/python3.10/dist-packages/sklearn/feature_extraction/text.py:409: UserWarning: Your stop_words may be inconsistent with your preprocessing. Tokenizing the stop words generated tokens ['ll', 've'] not in stop_words.\n",
            "  warnings.warn(\n"
          ]
        },
        {
          "output_type": "execute_result",
          "data": {
            "text/plain": [
              "(166, 4941)"
            ]
          },
          "metadata": {},
          "execution_count": 15
        }
      ],
      "source": [
        "count_text_vectorizer = CountVectorizer(stop_words=list(stopwords), min_df=5, max_df=0.7)\n",
        "count_text_vectors = count_text_vectorizer.fit_transform(df[\"text\"])\n",
        "count_text_vectors.shape"
      ]
    },
    {
      "cell_type": "code",
      "execution_count": 16,
      "id": "875deba9",
      "metadata": {
        "id": "875deba9",
        "colab": {
          "base_uri": "https://localhost:8080/"
        },
        "outputId": "94ccd06d-fa38-4261-a213-f32700494c63"
      },
      "outputs": [
        {
          "output_type": "stream",
          "name": "stderr",
          "text": [
            "/usr/local/lib/python3.10/dist-packages/ipykernel/ipkernel.py:283: DeprecationWarning: `should_run_async` will not call `transform_cell` automatically in the future. Please pass the result to `transformed_cell` argument and any exception that happen during thetransform in `preprocessing_exc_tuple` in IPython 7.17 and above.\n",
            "  and should_run_async(code)\n"
          ]
        },
        {
          "output_type": "execute_result",
          "data": {
            "text/plain": [
              "(166, 4941)"
            ]
          },
          "metadata": {},
          "execution_count": 16
        }
      ],
      "source": [
        "tfidf_text_vectorizer = TfidfVectorizer(stop_words=list(stopwords), min_df=5, max_df=0.7)\n",
        "tfidf_text_vectors = tfidf_text_vectorizer.fit_transform(df['text'])\n",
        "tfidf_text_vectors.shape"
      ]
    },
    {
      "cell_type": "markdown",
      "id": "a1062b21",
      "metadata": {
        "id": "a1062b21"
      },
      "source": [
        "Q: What do the two data frames `count_text_vectors` and `tfidf_text_vectors` hold?\n",
        "\n",
        "A: The first approach is coun vectorization where each word is assigned a unique integer ID converting the text documents into a matrix containing the word counts. The output shows that there are 166 documents in the brown corpus with 4,941 unique tokens fulfilling the frequency criteria. Now looking at term frequency-inverse document frequency (TD-IDF), this looks at the total frequency of a given term by the corpus by downscaling the importance of commonly found words. Similarly with the previuous shape count, the total words are 4,941 that meet the criteria within the 166 documents."
      ]
    },
    {
      "cell_type": "markdown",
      "id": "f77c3f94",
      "metadata": {
        "id": "f77c3f94"
      },
      "source": [
        "## Fitting a Non-Negative Matrix Factorization Model\n",
        "\n",
        "In this section the code to fit a five-topic NMF model has already been written. This code comes directly from the [BTAP repo](https://github.com/blueprints-for-text-analytics-python/blueprints-text), which will help you tremendously in the coming sections."
      ]
    },
    {
      "cell_type": "code",
      "execution_count": 17,
      "id": "d28745a3",
      "metadata": {
        "id": "d28745a3",
        "colab": {
          "base_uri": "https://localhost:8080/"
        },
        "outputId": "4bc4d7e3-c161-4f13-aa40-5ced24c0204a"
      },
      "outputs": [
        {
          "output_type": "stream",
          "name": "stderr",
          "text": [
            "/usr/local/lib/python3.10/dist-packages/ipykernel/ipkernel.py:283: DeprecationWarning: `should_run_async` will not call `transform_cell` automatically in the future. Please pass the result to `transformed_cell` argument and any exception that happen during thetransform in `preprocessing_exc_tuple` in IPython 7.17 and above.\n",
            "  and should_run_async(code)\n"
          ]
        }
      ],
      "source": [
        "nmf_text_model = NMF(n_components=5, random_state=314)\n",
        "W_text_matrix = nmf_text_model.fit_transform(tfidf_text_vectors)\n",
        "H_text_matrix = nmf_text_model.components_"
      ]
    },
    {
      "cell_type": "code",
      "execution_count": 18,
      "id": "a67185e7",
      "metadata": {
        "id": "a67185e7",
        "colab": {
          "base_uri": "https://localhost:8080/"
        },
        "outputId": "2dd9fdcc-8695-42fb-c0cd-16a10dc41259"
      },
      "outputs": [
        {
          "output_type": "stream",
          "name": "stdout",
          "text": [
            "\n",
            "Topic 00\n",
            "  mr (0.51)\n",
            "  president (0.45)\n",
            "  kennedy (0.43)\n",
            "  united (0.42)\n",
            "  khrushchev (0.40)\n",
            "\n",
            "Topic 01\n",
            "  said (0.88)\n",
            "  didn (0.46)\n",
            "  ll (0.45)\n",
            "  thought (0.42)\n",
            "  man (0.37)\n",
            "\n",
            "Topic 02\n",
            "  state (0.39)\n",
            "  development (0.36)\n",
            "  tax (0.33)\n",
            "  sales (0.30)\n",
            "  program (0.25)\n",
            "\n",
            "Topic 03\n",
            "  mrs (2.61)\n",
            "  mr (0.78)\n",
            "  said (0.63)\n",
            "  miss (0.52)\n",
            "  car (0.51)\n",
            "\n",
            "Topic 04\n",
            "  game (1.02)\n",
            "  league (0.74)\n",
            "  ball (0.72)\n",
            "  baseball (0.71)\n",
            "  team (0.66)\n"
          ]
        },
        {
          "output_type": "stream",
          "name": "stderr",
          "text": [
            "/usr/local/lib/python3.10/dist-packages/ipykernel/ipkernel.py:283: DeprecationWarning: `should_run_async` will not call `transform_cell` automatically in the future. Please pass the result to `transformed_cell` argument and any exception that happen during thetransform in `preprocessing_exc_tuple` in IPython 7.17 and above.\n",
            "  and should_run_async(code)\n"
          ]
        }
      ],
      "source": [
        "display_topics(nmf_text_model, tfidf_text_vectorizer.get_feature_names_out())"
      ]
    },
    {
      "cell_type": "markdown",
      "id": "fee51e9b",
      "metadata": {
        "id": "fee51e9b"
      },
      "source": [
        "Now some work for you to do. Compare the NMF categorization to the original categories from the Brown Corpus.\n",
        "\n",
        "We are interested in the extent to which our NMF categorization agrees or disagrees with the original categories in the corpus. For each topic in your NMF model, tally the Brown categories and interpret the results.\n"
      ]
    },
    {
      "cell_type": "code",
      "execution_count": 19,
      "id": "7c8c8eb0",
      "metadata": {
        "id": "7c8c8eb0",
        "colab": {
          "base_uri": "https://localhost:8080/"
        },
        "outputId": "9ecbfd84-56d4-4f3a-ed85-a35ce46f2640"
      },
      "outputs": [
        {
          "output_type": "stream",
          "name": "stdout",
          "text": [
            "\n",
            "Topic 1:\n",
            "Top words: mr, president, kennedy, united, khrushchev\n",
            "Categories breakdown:\n",
            " - editorial: 20 texts (62.50% of total texts in this topic)\n",
            " - government: 4 texts (12.50% of total texts in this topic)\n",
            " - news: 8 texts (25.00% of total texts in this topic)\n",
            "\n",
            "Topic 2:\n",
            "Top words: said, didn, ll, thought, man\n",
            "Categories breakdown:\n",
            " - editorial: 4 texts (9.76% of total texts in this topic)\n",
            " - romance: 29 texts (70.73% of total texts in this topic)\n",
            " - hobbies: 8 texts (19.51% of total texts in this topic)\n",
            "\n",
            "Topic 3:\n",
            "Top words: state, development, tax, sales, program\n",
            "Categories breakdown:\n",
            " - editorial: 2 texts (3.08% of total texts in this topic)\n",
            " - government: 26 texts (40.00% of total texts in this topic)\n",
            " - news: 11 texts (16.92% of total texts in this topic)\n",
            " - hobbies: 26 texts (40.00% of total texts in this topic)\n",
            "\n",
            "Topic 4:\n",
            "Top words: mrs, mr, said, miss, car\n",
            "Categories breakdown:\n",
            " - news: 17 texts (94.44% of total texts in this topic)\n",
            " - hobbies: 1 texts (5.56% of total texts in this topic)\n",
            "\n",
            "Topic 5:\n",
            "Top words: game, league, ball, baseball, team\n",
            "Categories breakdown:\n",
            " - editorial: 1 texts (10.00% of total texts in this topic)\n",
            " - news: 8 texts (80.00% of total texts in this topic)\n",
            " - hobbies: 1 texts (10.00% of total texts in this topic)\n"
          ]
        },
        {
          "output_type": "stream",
          "name": "stderr",
          "text": [
            "/usr/local/lib/python3.10/dist-packages/ipykernel/ipkernel.py:283: DeprecationWarning: `should_run_async` will not call `transform_cell` automatically in the future. Please pass the result to `transformed_cell` argument and any exception that happen during thetransform in `preprocessing_exc_tuple` in IPython 7.17 and above.\n",
            "  and should_run_async(code)\n"
          ]
        }
      ],
      "source": [
        "# Your code here\n",
        "\n",
        "# Tally the Brown categories for each topic in the NMF model\n",
        "topic_categories = []\n",
        "\n",
        "for topic_idx, topic in enumerate(H_text_matrix):\n",
        "    topic_words = [tfidf_text_vectorizer.get_feature_names_out()[i] for i in topic.argsort()[:-6:-1]]\n",
        "    topic_words_str = \", \".join(topic_words)\n",
        "\n",
        "    topic_categories_count = defaultdict(int)\n",
        "\n",
        "    for idx, text_vector in enumerate(W_text_matrix):\n",
        "        if np.argmax(text_vector) == topic_idx:\n",
        "            category = df.iloc[idx]['category']\n",
        "            topic_categories_count[category] += 1\n",
        "\n",
        "    topic_categories.append((topic_idx, topic_words_str, dict(topic_categories_count)))\n",
        "\n",
        "# Interpret the results\n",
        "for topic_idx, topic_words, categories_count in topic_categories:\n",
        "    print(f\"\\nTopic {topic_idx + 1}:\")\n",
        "    print(f\"Top words: {topic_words}\")\n",
        "    print(\"Categories breakdown:\")\n",
        "    total_texts = sum(categories_count.values())\n",
        "    for category, count in categories_count.items():\n",
        "        percentage = (count / total_texts) * 100\n",
        "        print(f\" - {category}: {count} texts ({percentage:.2f}% of total texts in this topic)\")"
      ]
    },
    {
      "cell_type": "markdown",
      "id": "f8d4e2bc",
      "metadata": {
        "id": "f8d4e2bc"
      },
      "source": [
        "Q: How does your five-topic NMF model compare to the original Brown categories?\n",
        "\n",
        "A: After the top words were selected for each topic based on the TD-IDF, they were then compared to the prevalence found w/in each topic by tallying occurrence. The top words are then shown on the total texts of the original brown categories by showing the total percentage of that given topic. For example, the words mrs, mr, said, miss, and car were found in 17 news texts accounting for 94.44% of prevalence."
      ]
    },
    {
      "cell_type": "markdown",
      "id": "82e37cb5",
      "metadata": {
        "id": "82e37cb5"
      },
      "source": [
        "## Fitting an LSA Model\n",
        "\n",
        "In this section, follow the example from the repository and fit an LSA model (called a \"TruncatedSVD\" in `sklearn`). Again fit a five-topic model and compare it to the actual categories in the Brown corpus. Use the TF-IDF vectors for your fit, as above.\n",
        "\n",
        "To be explicit, we are once again interested in the extent to which this LSA factorization agrees or disagrees with the original categories in the corpus. For each topic in your model, tally the Brown categories and interpret the results.\n"
      ]
    },
    {
      "cell_type": "code",
      "execution_count": 20,
      "id": "00b53d3d",
      "metadata": {
        "id": "00b53d3d",
        "colab": {
          "base_uri": "https://localhost:8080/"
        },
        "outputId": "73a2ccca-0367-4f69-9a07-4d3e2d10ad26"
      },
      "outputs": [
        {
          "output_type": "stream",
          "name": "stderr",
          "text": [
            "/usr/local/lib/python3.10/dist-packages/ipykernel/ipkernel.py:283: DeprecationWarning: `should_run_async` will not call `transform_cell` automatically in the future. Please pass the result to `transformed_cell` argument and any exception that happen during thetransform in `preprocessing_exc_tuple` in IPython 7.17 and above.\n",
            "  and should_run_async(code)\n"
          ]
        },
        {
          "output_type": "stream",
          "name": "stdout",
          "text": [
            "\n",
            "LSA Topic 1:\n",
            "Top words: said, mr, mrs, state, man\n",
            "Categories breakdown:\n",
            " - editorial: 27 texts (18.24% of total texts in this topic)\n",
            " - government: 30 texts (20.27% of total texts in this topic)\n",
            " - news: 34 texts (22.97% of total texts in this topic)\n",
            " - romance: 21 texts (14.19% of total texts in this topic)\n",
            " - hobbies: 36 texts (24.32% of total texts in this topic)\n",
            "\n",
            "LSA Topic 2:\n",
            "Top words: said, ll, didn, thought, got\n",
            "Categories breakdown:\n",
            " - romance: 8 texts (100.00% of total texts in this topic)\n",
            "\n",
            "LSA Topic 3:\n",
            "Top words: mrs, mr, said, kennedy, khrushchev\n",
            "Categories breakdown:\n",
            "\n",
            "LSA Topic 4:\n",
            "Top words: mrs, club, game, jr, university\n",
            "Categories breakdown:\n",
            " - news: 3 texts (100.00% of total texts in this topic)\n",
            "\n",
            "LSA Topic 5:\n",
            "Top words: game, league, baseball, ball, team\n",
            "Categories breakdown:\n",
            " - news: 7 texts (100.00% of total texts in this topic)\n"
          ]
        }
      ],
      "source": [
        "# Your code here\n",
        "\n",
        "## Fitting a TruncatedSVD (LSA) Model\n",
        "\n",
        "# Fit a TruncatedSVD model\n",
        "lsa_model = TruncatedSVD(n_components=5, random_state=314)\n",
        "W_lsa_matrix = lsa_model.fit_transform(tfidf_text_vectors)\n",
        "H_lsa_matrix = lsa_model.components_\n",
        "\n",
        "# Tally the Brown categories for each topic in the LSA model\n",
        "lsa_topic_categories = []\n",
        "\n",
        "for topic_idx, topic in enumerate(H_lsa_matrix):\n",
        "    topic_words = [tfidf_text_vectorizer.get_feature_names_out()[i] for i in topic.argsort()[:-6:-1]]\n",
        "    topic_words_str = \", \".join(topic_words)\n",
        "\n",
        "    topic_categories_count = defaultdict(int)\n",
        "\n",
        "    for idx, text_vector in enumerate(W_lsa_matrix):\n",
        "        if np.argmax(text_vector) == topic_idx:\n",
        "            category = df.iloc[idx]['category']\n",
        "            topic_categories_count[category] += 1\n",
        "\n",
        "    lsa_topic_categories.append((topic_idx, topic_words_str, dict(topic_categories_count)))\n",
        "\n",
        "# Interpret the results\n",
        "for topic_idx, topic_words, categories_count in lsa_topic_categories:\n",
        "    print(f\"\\nLSA Topic {topic_idx + 1}:\")\n",
        "    print(f\"Top words: {topic_words}\")\n",
        "    print(\"Categories breakdown:\")\n",
        "    total_texts = sum(categories_count.values())\n",
        "    for category, count in categories_count.items():\n",
        "        percentage = (count / total_texts) * 100\n",
        "        print(f\" - {category}: {count} texts ({percentage:.2f}% of total texts in this topic)\")"
      ]
    },
    {
      "cell_type": "markdown",
      "id": "4d94d56f",
      "metadata": {
        "id": "4d94d56f"
      },
      "source": [
        "Q: How does your five-topic LSA model compare to the original Brown categories?\n",
        "\n",
        "A: The LSA model did have some differing outcomes from the non-negative matrix factorization model as the top words were predominately similar, and the categories breakdown differed with LSA topic 3 not providing an output to compare. In topic two, the LSA model accounted for a breakdown of only romance classification and none of hobbies or editorial. The same can be shown for LSA topic five."
      ]
    },
    {
      "cell_type": "code",
      "execution_count": 21,
      "id": "377a886e",
      "metadata": {
        "id": "377a886e",
        "colab": {
          "base_uri": "https://localhost:8080/"
        },
        "outputId": "6c77203f-3943-4a2a-f97c-766d01173361"
      },
      "outputs": [
        {
          "output_type": "stream",
          "name": "stderr",
          "text": [
            "/usr/local/lib/python3.10/dist-packages/ipykernel/ipkernel.py:283: DeprecationWarning: `should_run_async` will not call `transform_cell` automatically in the future. Please pass the result to `transformed_cell` argument and any exception that happen during thetransform in `preprocessing_exc_tuple` in IPython 7.17 and above.\n",
            "  and should_run_async(code)\n"
          ]
        },
        {
          "output_type": "stream",
          "name": "stdout",
          "text": [
            "\n",
            "Topic 00\n",
            "  said (0.44)\n",
            "  mr (0.25)\n",
            "  mrs (0.22)\n",
            "  state (0.20)\n",
            "  man (0.17)\n",
            "\n",
            "Topic 01\n",
            "  said (3.89)\n",
            "  ll (2.73)\n",
            "  didn (2.63)\n",
            "  thought (2.20)\n",
            "  got (1.97)\n",
            "\n",
            "Topic 02\n",
            "  mrs (3.12)\n",
            "  mr (1.70)\n",
            "  said (1.06)\n",
            "  kennedy (0.82)\n",
            "  khrushchev (0.77)\n",
            "\n",
            "Topic 03\n",
            "  mrs (29.45)\n",
            "  club (6.53)\n",
            "  game (6.12)\n",
            "  jr (5.60)\n",
            "  university (5.20)\n",
            "\n",
            "Topic 04\n",
            "  game (4.54)\n",
            "  league (3.27)\n",
            "  baseball (3.22)\n",
            "  ball (3.10)\n",
            "  team (2.94)\n"
          ]
        }
      ],
      "source": [
        "# call display_topics on your model\n",
        "\n",
        "display_topics(lsa_model, tfidf_text_vectorizer.get_feature_names_out())"
      ]
    },
    {
      "cell_type": "markdown",
      "id": "ea8b280a",
      "metadata": {
        "id": "ea8b280a"
      },
      "source": [
        "Q: What is your interpretation of the display topics output?\n",
        "\n",
        "A: The output displays the top words among each topic alongside their weight displaying how strongly that word is associated with the corresponding topic. The breakdown can provide a slightly better understanding of the context used for each of the groups. The higher the number the more important that given word is in understanding that topic."
      ]
    },
    {
      "cell_type": "markdown",
      "id": "b4ab4d29",
      "metadata": {
        "id": "b4ab4d29"
      },
      "source": [
        "## Fitting an LDA Model\n",
        "\n",
        "Finally, fit a five-topic LDA model using the count vectors (`count_text_vectors` from above). Display the results using `pyLDAvis.display` and describe what you learn from that visualization."
      ]
    },
    {
      "cell_type": "code",
      "execution_count": 22,
      "id": "802cb8ff",
      "metadata": {
        "id": "802cb8ff",
        "colab": {
          "base_uri": "https://localhost:8080/",
          "height": 916
        },
        "outputId": "fcda8145-7736-4724-fc49-7067aefe9c7b"
      },
      "outputs": [
        {
          "output_type": "stream",
          "name": "stderr",
          "text": [
            "/usr/local/lib/python3.10/dist-packages/ipykernel/ipkernel.py:283: DeprecationWarning: `should_run_async` will not call `transform_cell` automatically in the future. Please pass the result to `transformed_cell` argument and any exception that happen during thetransform in `preprocessing_exc_tuple` in IPython 7.17 and above.\n",
            "  and should_run_async(code)\n"
          ]
        },
        {
          "output_type": "execute_result",
          "data": {
            "text/plain": [
              "<IPython.core.display.HTML object>"
            ],
            "text/html": [
              "\n",
              "<link rel=\"stylesheet\" type=\"text/css\" href=\"https://cdn.jsdelivr.net/gh/bmabey/pyLDAvis@3.4.0/pyLDAvis/js/ldavis.v1.0.0.css\">\n",
              "\n",
              "\n",
              "<div id=\"ldavis_el2131369267600234564339480681\" style=\"background-color:white;\"></div>\n",
              "<script type=\"text/javascript\">\n",
              "\n",
              "var ldavis_el2131369267600234564339480681_data = {\"mdsDat\": {\"x\": [-0.08445527841756865, -0.24634857846584593, 0.11485544426263433, 0.06275023473661354, 0.15319817788416684], \"y\": [0.1487130918412895, -0.0722226639358554, 0.01617087445853958, -0.07856325359517075, -0.014098048768802966], \"topics\": [1, 2, 3, 4, 5], \"cluster\": [1, 1, 1, 1, 1], \"Freq\": [32.006264072526896, 22.896957296534485, 20.43196854284181, 12.368825612932008, 12.295984475164804]}, \"tinfo\": {\"Term\": [\"said\", \"mrs\", \"state\", \"mr\", \"states\", \"development\", \"united\", \"president\", \"ll\", \"don\", \"city\", \"john\", \"000\", \"didn\", \"little\", \"got\", \"mother\", \"sales\", \"kennedy\", \"tax\", \"thought\", \"old\", \"khrushchev\", \"went\", \"soviet\", \"west\", \"equipment\", \"man\", \"rhode\", \"shall\", \"khrushchev\", \"player\", \"rayburn\", \"congo\", \"republican\", \"moscow\", \"southern\", \"baseball\", \"railroad\", \"castro\", \"troops\", \"yards\", \"charter\", \"yankees\", \"laos\", \"premier\", \"alexander\", \"soviet\", \"democrats\", \"captain\", \"chinese\", \"coach\", \"gen\", \"cuban\", \"opposition\", \"berlin\", \"speaker\", \"katanga\", \"republicans\", \"pope\", \"democratic\", \"mayor\", \"eisenhower\", \"cuba\", \"communist\", \"league\", \"police\", \"china\", \"yesterday\", \"race\", \"monday\", \"kennedy\", \"west\", \"st\", \"john\", \"east\", \"city\", \"mr\", \"president\", \"meeting\", \"political\", \"party\", \"week\", \"said\", \"war\", \"committee\", \"nations\", \"game\", \"american\", \"world\", \"york\", \"home\", \"county\", \"united\", \"man\", \"people\", \"state\", \"house\", \"day\", \"old\", \"000\", \"government\", \"men\", \"national\", \"states\", \"school\", \"hair\", \"baby\", \"clothes\", \"walls\", \"anne\", \"fig\", \"pale\", \"pink\", \"couldn\", \"dry\", \"entrance\", \"yellow\", \"ham\", \"flowers\", \"frames\", \"fingers\", \"bed\", \"hadn\", \"windows\", \"bride\", \"hell\", \"handsome\", \"coat\", \"sweet\", \"cloth\", \"stared\", \"liked\", \"studio\", \"colored\", \"wondered\", \"shelter\", \"trees\", \"sat\", \"looked\", \"clay\", \"mother\", \"colors\", \"pieces\", \"wasn\", \"woman\", \"didn\", \"inch\", \"thought\", \"eyes\", \"don\", \"ll\", \"mrs\", \"sure\", \"room\", \"sun\", \"ve\", \"little\", \"black\", \"knew\", \"went\", \"look\", \"door\", \"got\", \"water\", \"way\", \"place\", \"good\", \"know\", \"said\", \"come\", \"came\", \"old\", \"right\", \"away\", \"man\", \"let\", \"life\", \"house\", \"left\", \"day\", \"home\", \"systems\", \"marketing\", \"electronic\", \"boats\", \"missiles\", \"components\", \"assessment\", \"laboratory\", \"shipments\", \"industrial\", \"aircraft\", \"machine\", \"yield\", \"compared\", \"rhode\", \"missile\", \"bankers\", \"savings\", \"forests\", \"procurement\", \"machines\", \"property\", \"investment\", \"utility\", \"banks\", \"precision\", \"conservation\", \"inc\", \"location\", \"mobile\", \"recreation\", \"shares\", \"medical\", \"planning\", \"development\", \"sales\", \"equipment\", \"industry\", \"manufacturers\", \"machinery\", \"products\", \"system\", \"radiation\", \"production\", \"providence\", \"billion\", \"research\", \"island\", \"1960\", \"cost\", \"available\", \"growth\", \"business\", \"program\", \"range\", \"million\", \"000\", \"provide\", \"state\", \"small\", \"company\", \"market\", \"use\", \"service\", \"1961\", \"national\", \"tax\", \"areas\", \"military\", \"public\", \"academic\", \"faculty\", \"trustees\", \"campus\", \"recognition\", \"classical\", \"professors\", \"mathematics\", \"musical\", \"tends\", \"stockholders\", \"feed\", \"fulfill\", \"unions\", \"meat\", \"chemical\", \"motors\", \"prosperity\", \"designer\", \"curriculum\", \"clerical\", \"cattle\", \"authorities\", \"handicapped\", \"prestige\", \"creative\", \"appearances\", \"sept\", \"rep\", \"colleges\", \"trust\", \"music\", \"teachers\", \"student\", \"catholic\", \"students\", \"engineer\", \"interior\", \"college\", \"membership\", \"pool\", \"chamber\", \"courses\", \"education\", \"university\", \"daily\", \"schools\", \"art\", \"general\", \"technical\", \"design\", \"members\", \"level\", \"anti\", \"administration\", \"work\", \"labor\", \"problem\", \"school\", \"president\", \"board\", \"department\", \"american\", \"good\", \"men\", \"aid\", \"world\", \"high\", \"cousin\", \"rehabilitation\", \"coal\", \"vocational\", \"denied\", \"definition\", \"thereof\", \"puerto\", \"rico\", \"bonds\", \"payment\", \"recommendation\", \"coordination\", \"filing\", \"allocation\", \"proceedings\", \"adopting\", \"commodities\", \"calendar\", \"hated\", \"62\", \"sectors\", \"connections\", \"tractor\", \"adjustments\", \"vehicles\", \"islands\", \"payroll\", \"exercise\", \"upstairs\", \"shall\", \"payments\", \"authorized\", \"fiscal\", \"india\", \"treasury\", \"interference\", \"claim\", \"provisions\", \"insurance\", \"claims\", \"stations\", \"class\", \"states\", \"income\", \"tax\", \"act\", \"united\", \"return\", \"department\", \"state\", \"junior\", \"countries\", \"government\", \"title\", \"cars\", \"section\", \"secretary\", \"agreement\", \"hearing\", \"officer\", \"use\", \"service\", \"federal\", \"30\", \"board\", \"services\", \"pay\", \"local\", \"day\"], \"Freq\": [28468053.0, 9823090.0, 13338265.0, 14428477.0, 8150759.0, 4929350.0, 8286344.0, 10070685.0, 5202931.0, 5398137.0, 8078555.0, 6529074.0, 8644330.0, 3773364.0, 7146225.0, 4827252.0, 2927432.0, 3105582.0, 4844286.0, 3563414.0, 4101494.0, 8428620.0, 2977478.0, 4366281.0, 3236974.0, 4171654.0, 2813293.0, 9391511.0, 2334785.0, 2351180.0, 2960499.648776129, 1962672.1429565484, 1883191.5455191466, 1763318.7924245559, 1603846.267401274, 1524090.925329943, 1404225.1812302237, 1597418.9554171748, 1324173.5667234724, 1204810.5271879537, 1085118.1095069007, 1084584.8144475282, 1123320.1802172032, 1045314.3776717924, 2000455.6591770276, 1005381.1644828183, 1005085.1399541098, 3182334.718931501, 965504.6938469459, 965203.4203228983, 925326.6124842397, 924961.7461593846, 885233.024968407, 845695.0312078379, 844979.4375936778, 2549186.416067117, 1639428.7620698938, 805683.0346857029, 805300.0056213314, 805082.1916382975, 2379053.1086338256, 1742527.3711370125, 1558222.6321327428, 1481599.8823873438, 2861201.6984151145, 2338190.9423734727, 1789356.293006948, 1323626.3553948312, 2339741.1892554355, 1633178.1012254478, 2357300.4645532933, 4481490.168608482, 3874090.4401330664, 2881866.4947341573, 5765066.58276977, 3380980.522198665, 6960137.84538534, 11607175.048985193, 8281932.856796431, 3392186.824956843, 2864733.731821263, 3710131.676718039, 5675515.0708598, 18986176.503515124, 4556591.500149097, 3377251.6805984406, 2708083.6994267404, 2978670.0813591387, 5993375.777723776, 5569603.882191173, 3904165.223723221, 5645734.692010313, 3097907.617431773, 5065028.636204733, 5224648.48744001, 4772330.494993085, 6001400.589315044, 4457953.865461941, 4822270.957603496, 4385575.755562938, 4245886.229459426, 4012688.1366291824, 3647551.1938480716, 3692422.0261257584, 3877061.1463528527, 3380584.128050226, 1033213.619987839, 1033032.6444377858, 947570.3551377213, 947452.7006143508, 1002979.603686462, 917827.192732952, 776345.6221786615, 747817.086785909, 1507068.333190671, 690641.6212403063, 633399.5210011059, 744956.6706529466, 576452.7631009629, 682784.0962242145, 603231.8312874412, 519340.1946846123, 1000479.7917802444, 908024.9278313706, 490794.2899527494, 517923.7514606784, 462370.13544011634, 462337.22443289653, 461879.35927916097, 433806.87553899863, 433821.2234251885, 433797.1359475693, 433768.9344245348, 433401.7944464555, 460599.1533812257, 405232.7097642867, 1675950.6123442452, 812790.1266087883, 1023491.4761349729, 2312581.0800572936, 2218151.3360025217, 2638546.710193306, 795190.7402664616, 1415006.3662127592, 1579358.1144588734, 1472234.3543214025, 3185560.593918847, 1707518.1150447142, 3324995.598388368, 2460767.518362718, 4166874.788990189, 3947479.0571471695, 6865401.320818173, 2074493.7972325354, 2481731.7920652116, 1401926.390749673, 2045626.820149229, 4685837.077682607, 1595181.6892238446, 2089776.7610294663, 2943807.9221312352, 2611871.7860610816, 1657205.228458792, 2975112.1697863997, 2743854.9361431883, 4191977.8368452424, 3153515.3605869384, 4298563.388385913, 3304845.6013170634, 8794922.878527494, 3183718.233366728, 2869180.2691875254, 3671954.803068724, 3099890.9100183975, 2397682.121695182, 3587032.4662048314, 2237723.9805737017, 2398195.177887254, 2569740.2107765363, 2380682.4441668205, 2518169.5257457998, 2464254.659746197, 998234.6150098653, 1094822.3964387595, 692774.5239880513, 1008704.083013128, 590152.3628757509, 563154.0588007688, 457090.9383257286, 432269.5982163436, 360855.18249181024, 1911499.497145366, 1439453.107502382, 1337195.1214529362, 401554.7613080979, 652066.9569114057, 2184796.6437895577, 970755.6402055413, 284996.654495892, 451228.41974634235, 396377.3764865861, 462995.9265083118, 767062.1915247189, 2256597.404595311, 661186.7034824002, 300429.77339720976, 431657.7873606079, 539938.6009516004, 208422.4239606241, 402283.5418752803, 683682.443549777, 359765.8647931848, 865657.7296979729, 863074.2750959767, 2232135.725676785, 1918268.7609148575, 4261021.481451114, 2712093.221193415, 2442246.23059573, 2261550.5557188666, 943819.7222877268, 800793.8724494049, 1318657.0338765525, 2945065.819807308, 833710.5473973242, 1694217.2276810147, 1042034.3208801916, 1251192.3818658246, 1927320.9014784351, 2348665.972435536, 2473264.199563946, 1953210.4175687865, 1981115.642776217, 1131436.9659168355, 3003661.6865251632, 3277241.2549903793, 1432460.865687762, 2100501.7442526524, 3837640.601575077, 1764573.5693101224, 4496664.192758089, 2664843.4045052812, 2020027.9476649112, 1481444.0860989736, 2531818.382324819, 2299725.8289420647, 1782069.381956793, 2446503.4284941265, 1800142.5028733986, 1661886.3159477934, 1731475.4918871925, 1741021.2015186248, 465587.4435657072, 819145.194957457, 309726.9684433751, 249064.781065697, 259015.5536282725, 156898.88509945013, 141105.99972560623, 126315.71423132723, 308244.0841594292, 125858.53313038748, 305792.9531925152, 1413452.1862905535, 110846.62970611286, 311126.67327898287, 327105.27818133147, 387438.659282801, 640292.9647417499, 79899.23171987671, 247779.87303094048, 117367.21209191986, 78057.69736409473, 290946.9596025018, 121999.34216403299, 167596.52626006838, 171385.73612848972, 215154.9527653381, 75994.50572073544, 125995.71312373069, 180725.33620755182, 273027.0719183999, 497259.8425326186, 783795.5435554712, 428860.86233002867, 919886.6978883438, 426498.43170631205, 887063.3238057962, 417494.2846644787, 479290.3947203487, 1399702.7155902975, 325162.14458432223, 730270.9101580837, 359054.44625527004, 298683.5864977023, 776987.4430766164, 1121708.9561908443, 557926.0725054243, 825565.07099096, 583451.6768426673, 1132699.3141046106, 521881.95189546904, 586542.0753609847, 864108.7027097828, 589689.2047728222, 537380.0345053489, 744765.1069863866, 945552.8558430778, 567370.6400643898, 663552.1200865909, 789522.039227229, 932148.0240635558, 715009.8579257708, 636323.3903997893, 720022.2855597787, 718138.3646040739, 640379.7152963757, 570271.2864955604, 629861.7438918675, 583282.1912559192, 416058.76009597594, 294281.8199073791, 377984.3433003917, 217065.10935053814, 288383.2314271921, 201912.01975138, 184569.10299118803, 288954.9998247131, 288999.2092770863, 476373.5631431651, 614207.8214455569, 268565.7543189352, 110070.493904186, 259563.1453883538, 170858.572223197, 107233.3325571791, 94754.48586513562, 239707.19583347038, 336347.0855531699, 94033.8145311729, 92460.8744591446, 79576.134554003, 92707.04058178242, 325879.1212503522, 182390.75931026408, 594447.8221184601, 214062.81343852583, 194365.05330809797, 366760.6723589753, 90754.54161671606, 1690737.5924222388, 533167.8739151736, 394744.0854383731, 1374477.0458913306, 494756.8530885204, 382152.6257324486, 476207.5653191677, 548558.8907369784, 297984.1624169703, 430463.55612382235, 371236.013408083, 728221.1423523669, 1061650.61801302, 2929703.870569075, 836280.5376026146, 1448265.940871063, 1086478.7228723415, 2145730.267648923, 687894.645568971, 1103806.769660399, 2612034.5447089584, 666993.0778314886, 792506.7576826978, 1562535.069653033, 501200.98715433077, 671989.0133458485, 696310.210640431, 916486.6135187342, 649091.4272752726, 565139.1284792975, 551234.5237048091, 958909.5861490786, 880756.7202367249, 722523.1546548607, 705662.6266719938, 710725.9885867975, 615498.6162354317, 619972.5393132336, 614083.3075584591, 621298.6099151178], \"Total\": [28468053.0, 9823090.0, 13338265.0, 14428477.0, 8150759.0, 4929350.0, 8286344.0, 10070685.0, 5202931.0, 5398137.0, 8078555.0, 6529074.0, 8644330.0, 3773364.0, 7146225.0, 4827252.0, 2927432.0, 3105582.0, 4844286.0, 3563414.0, 4101494.0, 8428620.0, 2977478.0, 4366281.0, 3236974.0, 4171654.0, 2813293.0, 9391511.0, 2334785.0, 2351180.0, 2977478.3499637004, 1979894.3596982586, 1900173.3554716608, 1780378.594595331, 1620862.4712578047, 1541079.8244702197, 1421319.8775262428, 1616957.931205295, 1341357.8872344985, 1221844.960852031, 1102143.5186928066, 1102020.5747996995, 1141409.474354379, 1062302.0483322632, 2033757.8354350661, 1022373.2095823501, 1022286.4474729017, 3236974.4377654833, 982491.8823497746, 982403.3303846288, 942487.3888284197, 942285.1908246066, 902430.12175868, 862740.8416751978, 862319.4649999043, 2601766.407634616, 1673499.5612792657, 822764.0752291582, 822520.2251535276, 822584.4006291254, 2435711.7490738183, 1783080.208243165, 1592773.7352160888, 1514979.7322079837, 2950209.201332106, 2412070.410144275, 1842753.442157083, 1356577.1966372868, 2437670.971279832, 1684951.616622873, 2473625.3816250567, 4844286.758388144, 4171654.785998673, 3067235.268841164, 6529074.494107098, 3699214.497211963, 8078555.432013533, 14428477.873107098, 10070685.123110408, 3773628.170287645, 3139202.776265531, 4221022.3191042235, 6893142.322211697, 28468053.06385332, 5438781.787019197, 3895904.1955841426, 3049662.8147230702, 3456302.1973112794, 8416746.74778726, 8345291.935570626, 5191005.673506598, 9087137.873662386, 3839278.03882015, 8286344.285524211, 9391511.346943492, 8427365.244331878, 13338265.121260671, 7781972.417285068, 9257936.761318982, 8428620.982008997, 8644330.973274034, 7462736.3256908795, 6081719.974331365, 6736610.507154103, 8150759.71213505, 5299669.267606562, 1052515.381582007, 1052498.4033288225, 966878.6913632182, 966886.2000907318, 1023917.407406125, 938291.727641892, 795603.626016032, 767075.3498302404, 1548499.697628981, 709958.5351819162, 652893.7522406918, 768081.0702725351, 595786.9339130649, 706616.1954053041, 625083.1696894286, 538663.0880768548, 1037770.2250706474, 942736.4323016698, 510149.9937877714, 539308.9352748791, 481640.6422009172, 481639.32498446363, 481535.7984271563, 453076.0586109901, 453093.3076935495, 453103.4155000628, 453097.9599886303, 453071.0242002532, 482152.8751123066, 424518.7619497584, 1794113.936517642, 860773.0779227961, 1095367.8652160955, 2540322.1027047085, 2435667.4507728172, 2927432.66738258, 848564.4888873177, 1548486.6710857272, 1751106.012551394, 1645131.6994821825, 3773364.3472793205, 1937392.428639015, 4101494.422643336, 2976898.85345302, 5398137.644605226, 5202931.119670864, 9823090.307567244, 2580830.2341708136, 3194086.627100829, 1640814.9967619309, 2594264.5677258787, 7146225.943290693, 1928645.5094015466, 2744247.9898883617, 4366281.108898523, 3773701.7905804086, 2106121.2095118747, 4827252.451965785, 4385866.421909045, 8171295.370900476, 5460498.308552156, 8786765.16073457, 5943193.160095932, 28468053.06385332, 5881006.701543096, 5264410.486796378, 8428620.982008997, 6359468.676629564, 3942230.329472023, 9391511.346943492, 3594716.248649108, 4816848.293145382, 7781972.417285068, 5442529.919880513, 9257936.761318982, 9087137.873662386, 1018240.5645324098, 1118004.4079294456, 712653.9209505176, 1038135.6891401226, 611160.9883013399, 584862.1781530463, 480989.69917750254, 455690.8589786703, 381244.9172483172, 2026308.740501126, 1526187.2609391192, 1423780.4015040107, 428177.4454071061, 696522.929153361, 2334785.579458956, 1038248.754360241, 305127.81735398225, 484838.43546701176, 426090.8971817827, 498533.0515252576, 832959.1115871738, 2454433.038458334, 719375.7659478234, 327358.31664027757, 471273.1594315622, 590666.1672864836, 228752.86028816956, 444010.5463577046, 755714.6617190852, 398394.5206939238, 961237.4959430478, 959505.4907838684, 2522879.87720623, 2162888.456347213, 4929350.423564506, 3105582.4440800804, 2813293.6130821975, 2612857.735817722, 1058465.705207844, 900473.1863385574, 1557484.3529871835, 3786351.4686026415, 952697.7757882122, 2124745.5651019914, 1229353.051237718, 1547483.295260751, 2615866.2606435916, 3381804.3219116917, 3666508.9002144616, 2844314.9523158586, 2903422.0403170437, 1412158.4683353538, 5528643.467110696, 6252129.490498352, 1976045.8508709176, 3452436.7526419205, 8644330.973274034, 2776179.818018089, 13338265.121260671, 5989155.985840794, 3728223.413446341, 2132912.8113672365, 6440277.773591711, 5327728.30370051, 3169344.7469906155, 6736610.507154103, 3563414.6630379986, 2794169.7842712076, 3964417.9841410015, 5956429.226620852, 487608.1279361578, 871691.3083180279, 334794.02784425655, 272308.90326895897, 292316.7335599069, 179664.26865215244, 164552.95004819648, 148452.29456236665, 363209.4932579295, 148495.1186077439, 362867.6036019546, 1693397.8154308642, 133070.2278556474, 376723.619710948, 403425.8521132919, 487578.1473374696, 806615.0159555385, 102333.78262349444, 323972.9580402383, 154211.34731851725, 103452.3728388656, 386171.3469180492, 163805.2062904346, 225232.71651423947, 236480.20402423848, 300045.413231803, 107960.90328226777, 179316.06331242516, 258241.57228063466, 394530.47671451455, 719538.5344602262, 1158685.5806612768, 626249.5949028396, 1408228.7907236216, 629313.966040407, 1395739.0552079936, 627694.8905577859, 751075.8310284894, 2620586.5954866568, 498183.82881377137, 1421984.4330316847, 576883.025809656, 469029.49555065366, 1863416.973893978, 3176618.4673925284, 1172629.2885105368, 2130970.3065518592, 1325133.4509819124, 5030478.107110532, 1214985.5546435053, 1710353.1210026597, 4221041.903582143, 1874758.9437479246, 1516487.3779066247, 3528799.2177601717, 6804760.209943281, 1790686.2658487295, 2931522.430584782, 5299669.267606562, 10070685.123110408, 4628770.127870524, 3167376.45467057, 8416746.74778726, 8786765.16073457, 6081719.974331365, 2520631.9591581584, 8345291.935570626, 6162992.652220343, 439578.37665296555, 316195.8406108716, 408339.6696767913, 240412.53538049734, 320189.33596508775, 224567.30813404632, 210486.36370552419, 332590.96361683036, 332684.2110571557, 550075.8352466314, 715820.1853310311, 316524.2677244761, 132469.19918854826, 313723.73732950864, 208997.21062058693, 132397.8049814716, 117116.37087896875, 296691.63317806757, 418817.84034254844, 117805.99648388315, 117213.97849167109, 101703.9517689769, 118489.9624366884, 422870.2275127668, 237419.60631404936, 774707.1721204757, 281652.33582169993, 255775.18762079396, 485122.967731257, 120722.0614215204, 2351180.836256936, 743995.1106977474, 543858.7732757188, 2045371.714790109, 691110.3951890324, 534316.1654644064, 682925.0363790311, 801840.254565554, 407982.92593023926, 622180.4893481289, 534652.9222592989, 1255649.0697523756, 2092746.0288907383, 8150759.71213505, 1565248.294092415, 3563414.6630379986, 2683420.591452746, 8286344.285524211, 1422091.9685788169, 3167376.45467057, 13338265.121260671, 1469191.72273053, 2022742.00629763, 7462736.3256908795, 896817.5142044157, 1594530.8254611464, 1729206.3133429857, 3029139.886585078, 1549816.3114373267, 1168923.8858679417, 1145017.399430336, 6440277.773591711, 5327728.30370051, 2829020.77789631, 3197277.32134168, 4628770.127870524, 2208132.918896742, 2482134.523820104, 3335343.903270416, 9257936.761318982], \"Category\": [\"Default\", \"Default\", \"Default\", \"Default\", \"Default\", \"Default\", \"Default\", \"Default\", \"Default\", \"Default\", \"Default\", \"Default\", \"Default\", \"Default\", \"Default\", \"Default\", \"Default\", \"Default\", \"Default\", \"Default\", \"Default\", \"Default\", \"Default\", \"Default\", \"Default\", \"Default\", \"Default\", \"Default\", \"Default\", \"Default\", \"Topic1\", \"Topic1\", \"Topic1\", \"Topic1\", \"Topic1\", \"Topic1\", \"Topic1\", \"Topic1\", \"Topic1\", \"Topic1\", \"Topic1\", \"Topic1\", \"Topic1\", \"Topic1\", \"Topic1\", \"Topic1\", \"Topic1\", \"Topic1\", \"Topic1\", \"Topic1\", \"Topic1\", \"Topic1\", \"Topic1\", \"Topic1\", \"Topic1\", \"Topic1\", \"Topic1\", \"Topic1\", \"Topic1\", \"Topic1\", \"Topic1\", \"Topic1\", \"Topic1\", \"Topic1\", \"Topic1\", \"Topic1\", \"Topic1\", \"Topic1\", \"Topic1\", \"Topic1\", \"Topic1\", \"Topic1\", \"Topic1\", \"Topic1\", \"Topic1\", \"Topic1\", \"Topic1\", \"Topic1\", \"Topic1\", \"Topic1\", \"Topic1\", \"Topic1\", \"Topic1\", \"Topic1\", \"Topic1\", \"Topic1\", \"Topic1\", \"Topic1\", \"Topic1\", \"Topic1\", \"Topic1\", \"Topic1\", \"Topic1\", \"Topic1\", \"Topic1\", \"Topic1\", \"Topic1\", \"Topic1\", \"Topic1\", \"Topic1\", \"Topic1\", \"Topic1\", \"Topic1\", \"Topic1\", \"Topic1\", \"Topic1\", \"Topic2\", \"Topic2\", \"Topic2\", \"Topic2\", \"Topic2\", \"Topic2\", \"Topic2\", \"Topic2\", \"Topic2\", \"Topic2\", \"Topic2\", \"Topic2\", \"Topic2\", \"Topic2\", \"Topic2\", \"Topic2\", \"Topic2\", \"Topic2\", \"Topic2\", \"Topic2\", \"Topic2\", \"Topic2\", \"Topic2\", \"Topic2\", \"Topic2\", \"Topic2\", \"Topic2\", \"Topic2\", \"Topic2\", \"Topic2\", \"Topic2\", \"Topic2\", \"Topic2\", \"Topic2\", \"Topic2\", \"Topic2\", \"Topic2\", \"Topic2\", \"Topic2\", \"Topic2\", \"Topic2\", \"Topic2\", \"Topic2\", \"Topic2\", \"Topic2\", \"Topic2\", \"Topic2\", \"Topic2\", \"Topic2\", \"Topic2\", \"Topic2\", \"Topic2\", \"Topic2\", \"Topic2\", \"Topic2\", \"Topic2\", \"Topic2\", \"Topic2\", \"Topic2\", \"Topic2\", \"Topic2\", \"Topic2\", \"Topic2\", \"Topic2\", \"Topic2\", \"Topic2\", \"Topic2\", \"Topic2\", \"Topic2\", \"Topic2\", \"Topic2\", \"Topic2\", \"Topic2\", \"Topic2\", \"Topic2\", \"Topic2\", \"Topic3\", \"Topic3\", \"Topic3\", \"Topic3\", \"Topic3\", \"Topic3\", \"Topic3\", \"Topic3\", \"Topic3\", \"Topic3\", \"Topic3\", \"Topic3\", \"Topic3\", \"Topic3\", \"Topic3\", \"Topic3\", \"Topic3\", \"Topic3\", \"Topic3\", \"Topic3\", \"Topic3\", \"Topic3\", \"Topic3\", \"Topic3\", \"Topic3\", \"Topic3\", \"Topic3\", \"Topic3\", \"Topic3\", \"Topic3\", \"Topic3\", \"Topic3\", \"Topic3\", \"Topic3\", \"Topic3\", \"Topic3\", \"Topic3\", \"Topic3\", \"Topic3\", \"Topic3\", \"Topic3\", \"Topic3\", \"Topic3\", \"Topic3\", \"Topic3\", \"Topic3\", \"Topic3\", \"Topic3\", \"Topic3\", \"Topic3\", \"Topic3\", \"Topic3\", \"Topic3\", \"Topic3\", \"Topic3\", \"Topic3\", \"Topic3\", \"Topic3\", \"Topic3\", \"Topic3\", \"Topic3\", \"Topic3\", \"Topic3\", \"Topic3\", \"Topic3\", \"Topic3\", \"Topic3\", \"Topic3\", \"Topic3\", \"Topic3\", \"Topic4\", \"Topic4\", \"Topic4\", \"Topic4\", \"Topic4\", \"Topic4\", \"Topic4\", \"Topic4\", \"Topic4\", \"Topic4\", \"Topic4\", \"Topic4\", \"Topic4\", \"Topic4\", \"Topic4\", \"Topic4\", \"Topic4\", \"Topic4\", \"Topic4\", \"Topic4\", \"Topic4\", \"Topic4\", \"Topic4\", \"Topic4\", \"Topic4\", \"Topic4\", \"Topic4\", \"Topic4\", \"Topic4\", \"Topic4\", \"Topic4\", \"Topic4\", \"Topic4\", \"Topic4\", \"Topic4\", \"Topic4\", \"Topic4\", \"Topic4\", \"Topic4\", \"Topic4\", \"Topic4\", \"Topic4\", \"Topic4\", \"Topic4\", \"Topic4\", \"Topic4\", \"Topic4\", \"Topic4\", \"Topic4\", \"Topic4\", \"Topic4\", \"Topic4\", \"Topic4\", \"Topic4\", \"Topic4\", \"Topic4\", \"Topic4\", \"Topic4\", \"Topic4\", \"Topic4\", \"Topic4\", \"Topic4\", \"Topic4\", \"Topic4\", \"Topic4\", \"Topic4\", \"Topic4\", \"Topic4\", \"Topic5\", \"Topic5\", \"Topic5\", \"Topic5\", \"Topic5\", \"Topic5\", \"Topic5\", \"Topic5\", \"Topic5\", \"Topic5\", \"Topic5\", \"Topic5\", \"Topic5\", \"Topic5\", \"Topic5\", \"Topic5\", \"Topic5\", \"Topic5\", \"Topic5\", \"Topic5\", \"Topic5\", \"Topic5\", \"Topic5\", \"Topic5\", \"Topic5\", \"Topic5\", \"Topic5\", \"Topic5\", \"Topic5\", \"Topic5\", \"Topic5\", \"Topic5\", \"Topic5\", \"Topic5\", \"Topic5\", \"Topic5\", \"Topic5\", \"Topic5\", \"Topic5\", \"Topic5\", \"Topic5\", \"Topic5\", \"Topic5\", \"Topic5\", \"Topic5\", \"Topic5\", \"Topic5\", \"Topic5\", \"Topic5\", \"Topic5\", \"Topic5\", \"Topic5\", \"Topic5\", \"Topic5\", \"Topic5\", \"Topic5\", \"Topic5\", \"Topic5\", \"Topic5\", \"Topic5\", \"Topic5\", \"Topic5\", \"Topic5\", \"Topic5\", \"Topic5\", \"Topic5\", \"Topic5\", \"Topic5\", \"Topic5\", \"Topic5\"], \"logprob\": [30.0, 29.0, 28.0, 27.0, 26.0, 25.0, 24.0, 23.0, 22.0, 21.0, 20.0, 19.0, 18.0, 17.0, 16.0, 15.0, 14.0, 13.0, 12.0, 11.0, 10.0, 9.0, 8.0, 7.0, 6.0, 5.0, 4.0, 3.0, 2.0, 1.0, 4.3067, 3.8957, 3.8544, 3.7886, 3.6938, 3.6428, 3.5609, 3.6898, 3.5022, 3.4077, 3.3031, 3.3026, 3.3377, 3.2657, 3.9148, 3.2268, 3.2265, 4.379, 3.1863, 3.186, 3.1438, 3.1434, 3.0995, 3.0538, 3.0529, 4.1572, 3.7157, 3.0053, 3.0048, 3.0046, 4.0881, 3.7767, 3.6649, 3.6145, 4.2726, 4.0708, 3.8032, 3.5018, 4.0714, 3.7119, 4.0789, 4.7213, 4.5757, 4.2798, 4.9732, 4.4396, 5.1616, 5.673, 5.3355, 4.4429, 4.2739, 4.5325, 4.9575, 6.1651, 4.738, 4.4385, 4.2176, 4.3129, 5.012, 4.9387, 4.5834, 4.9523, 4.3521, 4.8437, 4.8748, 4.7842, 5.0134, 4.7161, 4.7946, 4.6997, 4.6673, 4.6108, 4.5154, 4.5277, 4.5765, 4.4394, 3.589, 3.5888, 3.5025, 3.5023, 3.5593, 3.4706, 3.3032, 3.2657, 3.9665, 3.1862, 3.0997, 3.2619, 3.0055, 3.1747, 3.0509, 2.9011, 3.5568, 3.4598, 2.8446, 2.8984, 2.7849, 2.7849, 2.7839, 2.7212, 2.7212, 2.7211, 2.7211, 2.7202, 2.7811, 2.653, 4.0727, 3.349, 3.5795, 4.3947, 4.353, 4.5265, 3.3271, 3.9034, 4.0133, 3.9431, 4.7149, 4.0914, 4.7578, 4.4568, 4.9835, 4.9294, 5.4828, 4.286, 4.4653, 3.8942, 4.272, 5.1009, 4.0233, 4.2934, 4.636, 4.5164, 4.0614, 4.6466, 4.5657, 4.9895, 4.7048, 5.0146, 4.7517, 5.7305, 4.7144, 4.6103, 4.857, 4.6877, 4.4308, 4.8336, 4.3618, 4.431, 4.5001, 4.4237, 4.4798, 4.4582, 3.6685, 3.7608, 3.3032, 3.6789, 3.1428, 3.096, 2.8873, 2.8315, 2.6509, 4.3181, 4.0345, 3.9608, 2.7578, 3.2426, 4.4517, 3.6405, 2.4149, 2.8744, 2.7448, 2.9002, 3.405, 4.4841, 3.2565, 2.4677, 2.8301, 3.0539, 2.102, 2.7596, 3.29, 2.6479, 3.526, 3.523, 4.4732, 4.3216, 5.1197, 4.6679, 4.5631, 4.4863, 3.6124, 3.4481, 3.9468, 4.7503, 3.4883, 4.1974, 3.7114, 3.8943, 4.3263, 4.5241, 4.5758, 4.3397, 4.3539, 3.7937, 4.7701, 4.8572, 4.0296, 4.4124, 5.0151, 4.2381, 5.1736, 4.6504, 4.3733, 4.0632, 4.5992, 4.503, 4.248, 4.5649, 4.2581, 4.1782, 4.2192, 4.2247, 3.4077, 3.9726, 3.0001, 2.7821, 2.8213, 2.32, 2.2139, 2.1032, 2.9953, 2.0995, 2.9873, 4.5182, 1.9725, 3.0046, 3.0547, 3.2239, 3.7263, 1.6452, 2.7769, 2.0297, 1.6218, 2.9375, 2.0684, 2.3859, 2.4083, 2.6357, 1.595, 2.1006, 2.4614, 2.874, 3.4735, 3.9285, 3.3255, 4.0886, 3.32, 4.0523, 3.2987, 3.4367, 4.5084, 3.0487, 3.8578, 3.1479, 2.9638, 3.9198, 4.287, 3.5886, 3.9805, 3.6333, 4.2967, 3.5218, 3.6386, 4.0261, 3.644, 3.5511, 3.8775, 4.1162, 3.6054, 3.762, 3.9358, 4.1019, 3.8367, 3.7201, 3.8437, 3.841, 3.7264, 3.6105, 3.7099, 3.6331, 3.3011, 2.9548, 3.2051, 2.6505, 2.9346, 2.5781, 2.4883, 2.9366, 2.9367, 3.4365, 3.6906, 2.8634, 1.9714, 2.8293, 2.4111, 1.9453, 1.8216, 2.7497, 3.0884, 1.8139, 1.7971, 1.647, 1.7997, 3.0568, 2.4764, 3.6579, 2.6366, 2.54, 3.175, 1.7784, 4.7032, 3.5491, 3.2485, 4.4961, 3.4744, 3.2161, 3.4361, 3.5776, 2.9673, 3.3352, 3.1871, 3.8609, 4.2379, 5.2529, 3.9993, 4.5484, 4.261, 4.9415, 3.8039, 4.2768, 5.1382, 3.7731, 3.9455, 4.6244, 3.4873, 3.7805, 3.8161, 4.0908, 3.7459, 3.6074, 3.5825, 4.1361, 4.0511, 3.853, 3.8294, 3.8366, 3.6927, 3.7, 3.6904, 3.7021], \"loglift\": [30.0, 29.0, 28.0, 27.0, 26.0, 25.0, 24.0, 23.0, 22.0, 21.0, 20.0, 19.0, 18.0, 17.0, 16.0, 15.0, 14.0, 13.0, 12.0, 11.0, 10.0, 9.0, 8.0, 7.0, 6.0, 5.0, 4.0, 3.0, 2.0, 1.0, 11.4141, 11.4111, 11.4108, 11.4102, 11.4092, 11.4087, 11.4077, 11.4076, 11.4069, 11.4058, 11.4042, 11.4038, 11.4038, 11.4037, 11.4033, 11.403, 11.4028, 11.4028, 11.4023, 11.4021, 11.4014, 11.4012, 11.4006, 11.3998, 11.3995, 11.3994, 11.3992, 11.3988, 11.3986, 11.3983, 11.3963, 11.3968, 11.3979, 11.3975, 11.3892, 11.3887, 11.3904, 11.3952, 11.3788, 11.3886, 11.3716, 11.3419, 11.3458, 11.3575, 11.2953, 11.3298, 11.2708, 11.2022, 11.2242, 11.3132, 11.3283, 11.2908, 11.2254, 11.0147, 11.2428, 11.2769, 11.301, 11.2711, 11.0802, 11.0154, 11.1349, 10.9438, 11.2052, 10.9275, 10.8334, 10.8511, 10.6211, 10.8627, 10.7676, 10.7665, 10.7088, 10.7993, 10.9086, 10.8185, 10.6768, 10.9702, 11.7362, 11.7361, 11.7345, 11.7344, 11.7341, 11.7327, 11.7302, 11.7293, 11.7276, 11.7271, 11.7244, 11.7241, 11.7217, 11.7204, 11.7191, 11.7182, 11.7181, 11.7172, 11.716, 11.7143, 11.7139, 11.7138, 11.713, 11.7113, 11.7113, 11.7112, 11.7111, 11.7103, 11.709, 11.7082, 11.6866, 11.6974, 11.6868, 11.6608, 11.6612, 11.6508, 11.6898, 11.6646, 11.6515, 11.6437, 11.5854, 11.6284, 11.5448, 11.5643, 11.4958, 11.4786, 11.3965, 11.5363, 11.5024, 11.5974, 11.5171, 11.3327, 11.5649, 11.4823, 11.3605, 11.3867, 11.515, 11.2707, 11.2857, 11.0873, 11.2057, 11.0398, 11.1679, 10.5801, 11.141, 11.1478, 10.9238, 11.0361, 11.2575, 10.7922, 11.2807, 11.0573, 10.6467, 10.9279, 10.4528, 10.4497, 11.8488, 11.8477, 11.8403, 11.8399, 11.8336, 11.8308, 11.8177, 11.8159, 11.8137, 11.8103, 11.8101, 11.8059, 11.8044, 11.8027, 11.8022, 11.8014, 11.8004, 11.7968, 11.7963, 11.7947, 11.7862, 11.7846, 11.7843, 11.7828, 11.7808, 11.7788, 11.7755, 11.7699, 11.7685, 11.7666, 11.7639, 11.7627, 11.7462, 11.7486, 11.7229, 11.7331, 11.7272, 11.7242, 11.754, 11.7513, 11.7022, 11.6173, 11.7352, 11.6422, 11.7033, 11.6561, 11.5632, 11.5041, 11.4749, 11.4928, 11.4864, 11.647, 11.2585, 11.2227, 11.5469, 11.3717, 11.0566, 11.4155, 10.7813, 11.0588, 11.2558, 11.5042, 10.935, 11.0285, 11.2929, 10.8557, 11.1858, 11.349, 11.0402, 10.6386, 12.3243, 12.3084, 12.2927, 12.2813, 12.2496, 12.2351, 12.2168, 12.2091, 12.2065, 12.2051, 12.1994, 12.1898, 12.1878, 12.1792, 12.1608, 12.1407, 12.1396, 12.1231, 12.1024, 12.0975, 12.0889, 12.0874, 12.0759, 12.075, 12.0486, 12.038, 12.0194, 12.0176, 12.0136, 12.0024, 12.001, 11.9796, 11.9919, 11.9447, 11.9815, 11.9173, 11.9628, 11.9213, 11.7434, 11.9439, 11.7042, 11.8964, 11.9193, 11.4958, 11.3296, 11.6278, 11.4223, 11.5502, 10.8796, 11.5255, 11.3003, 10.7844, 11.2139, 11.3331, 10.8149, 10.3969, 11.2212, 10.8849, 10.4666, 9.9907, 10.5028, 10.7656, 9.9118, 9.8662, 10.1196, 10.8844, 9.7866, 10.0129, 12.3215, 12.3046, 12.2992, 12.2743, 12.2718, 12.2701, 12.2451, 12.2358, 12.2357, 12.2326, 12.2234, 12.2121, 12.1912, 12.1869, 12.175, 12.1656, 12.1646, 12.1632, 12.1572, 12.1511, 12.1392, 12.1311, 12.1311, 12.1159, 12.1128, 12.1116, 12.102, 12.1019, 12.0968, 12.0911, 12.0467, 12.0433, 12.056, 11.9789, 12.0422, 12.0413, 12.0159, 11.9968, 12.0623, 12.0081, 12.0117, 11.8316, 11.6978, 11.3532, 11.7496, 11.4761, 11.4723, 11.0253, 11.6502, 11.3223, 10.7459, 11.5868, 11.4394, 10.8128, 11.7946, 11.5124, 11.4668, 11.181, 11.5061, 11.6497, 11.6454, 10.4719, 10.5766, 11.0115, 10.8655, 10.5027, 11.099, 10.9893, 10.6842, 9.675]}, \"token.table\": {\"Topic\": [1, 2, 3, 4, 5, 1, 2, 3, 4, 5, 1, 2, 3, 4, 5, 1, 2, 3, 4, 5, 1, 2, 3, 4, 5, 1, 2, 3, 4, 5, 1, 2, 3, 4, 5, 1, 2, 3, 4, 5, 1, 2, 3, 4, 5, 1, 2, 3, 4, 5, 1, 2, 3, 4, 5, 1, 2, 3, 4, 5, 1, 2, 3, 4, 5, 1, 2, 3, 4, 5, 1, 2, 3, 4, 5, 1, 2, 3, 4, 5, 1, 2, 3, 4, 5, 1, 2, 3, 4, 5, 1, 2, 3, 4, 5, 1, 2, 3, 4, 5, 1, 2, 3, 4, 5, 1, 2, 3, 4, 5, 1, 2, 3, 4, 5, 1, 2, 3, 4, 5, 1, 2, 3, 4, 5, 1, 2, 3, 4, 5, 1, 2, 3, 4, 5, 1, 2, 3, 4, 5, 1, 2, 3, 4, 5, 1, 2, 3, 4, 5, 1, 2, 3, 4, 5, 1, 2, 3, 4, 5, 1, 2, 3, 4, 5, 1, 2, 3, 4, 5, 1, 2, 3, 4, 5, 1, 2, 3, 4, 5, 1, 2, 3, 4, 5, 1, 2, 3, 4, 5, 1, 2, 3, 4, 5, 1, 2, 3, 4, 5, 1, 2, 3, 4, 5, 1, 2, 3, 4, 5, 1, 2, 3, 4, 5, 1, 2, 3, 4, 5, 1, 2, 3, 4, 5, 1, 2, 3, 4, 5, 1, 2, 3, 4, 5, 1, 2, 3, 4, 5, 1, 2, 3, 4, 5, 1, 2, 3, 4, 5, 1, 2, 3, 4, 5, 1, 2, 3, 4, 5, 1, 2, 3, 4, 5, 1, 2, 3, 4, 5, 1, 2, 3, 4, 5, 1, 2, 3, 4, 5, 1, 2, 3, 4, 5, 1, 2, 3, 4, 5, 1, 2, 3, 4, 5, 1, 2, 3, 4, 5, 1, 2, 3, 4, 5, 1, 2, 3, 4, 5, 1, 2, 3, 4, 5, 1, 2, 3, 4, 5, 1, 2, 3, 4, 5, 1, 2, 3, 4, 5, 1, 2, 3, 4, 5, 1, 2, 3, 4, 5, 1, 2, 3, 4, 5, 1, 2, 3, 4, 5, 1, 2, 3, 4, 5, 1, 2, 3, 4, 5, 1, 2, 3, 4, 5, 1, 2, 3, 4, 5, 1, 2, 3, 4, 5, 1, 2, 3, 4, 5, 1, 2, 3, 4, 5, 1, 2, 3, 4, 5, 1, 2, 3, 4, 5, 1, 2, 3, 4, 5, 1, 2, 3, 4, 5, 1, 2, 3, 4, 5, 1, 2, 3, 4, 5, 1, 2, 3, 4, 5, 1, 2, 3, 4, 5, 1, 2, 3, 4, 5, 1, 2, 3, 4, 5, 1, 2, 3, 4, 5, 1, 2, 3, 4, 5, 1, 2, 3, 4, 5, 1, 2, 3, 4, 5, 1, 2, 3, 4, 5, 1, 2, 3, 4, 5, 1, 2, 3, 4, 5, 1, 2, 3, 4, 5, 1, 2, 3, 4, 5, 1, 2, 3, 4, 5, 1, 2, 3, 4, 5, 1, 2, 3, 4, 5, 1, 2, 3, 4, 5, 1, 2, 3, 4, 5, 1, 2, 3, 4, 5, 1, 2, 3, 4, 5, 1, 2, 3, 4, 5, 1, 2, 3, 4, 5, 1, 2, 3, 4, 5, 1, 2, 3, 4, 5, 1, 2, 3, 4, 5, 1, 2, 3, 4, 5, 1, 2, 3, 4, 5, 1, 2, 3, 4, 5, 1, 2, 3, 4, 5, 1, 2, 3, 4, 5, 1, 2, 3, 4, 5, 1, 2, 3, 4, 5, 1, 2, 3, 4, 5, 1, 2, 3, 4, 5, 1, 2, 3, 4, 5, 1, 2, 3, 4, 5, 1, 2, 3, 4, 5, 1, 2, 3, 4, 5, 1, 2, 3, 4, 5, 1, 2, 3, 4, 5, 1, 2, 3, 4, 5, 1, 2, 3, 4, 5, 1, 2, 3, 4, 5, 1, 2, 3, 4, 5, 1, 2, 3, 4, 5, 1, 2, 3, 4, 5, 1, 2, 3, 4, 5, 1, 2, 3, 4, 5, 1, 2, 3, 4, 5, 1, 2, 3, 4, 5, 1, 2, 3, 4, 5, 1, 2, 3, 4, 5, 1, 2, 3, 4, 5, 1, 2, 3, 4, 5, 1, 2, 3, 4, 5, 1, 2, 3, 4, 5, 1, 2, 3, 4, 5, 1, 2, 3, 4, 5, 1, 2, 3, 4, 5, 1, 2, 3, 4, 5, 1, 2, 3, 4, 5, 1, 2, 3, 4, 5, 1, 2, 3, 4, 5, 1, 2, 3, 4, 5, 1, 2, 3, 4, 5, 1, 2, 3, 4, 5, 1, 2, 3, 4, 5, 1, 2, 3, 4, 5, 1, 2, 3, 4, 5, 1, 2, 3, 4, 5, 1, 2, 3, 4, 5, 1, 2, 3, 4, 5, 1, 2, 3, 4, 5, 1, 2, 3, 4, 5, 1, 2, 3, 4, 5, 1, 2, 3, 4, 5, 1, 2, 3, 4, 5, 1, 2, 3, 4, 5, 1, 2, 3, 4, 5, 1, 2, 3, 4, 5, 1, 2, 3, 4, 5, 1, 2, 3, 4, 5, 1, 2, 3, 4, 5, 1, 2, 3, 4, 5, 1, 2, 3, 4, 5, 1, 2, 3, 4, 5, 1, 2, 3, 4, 5, 1, 2, 3, 4, 5, 1, 2, 3, 4, 5, 1, 2, 3, 4, 5, 1, 2, 3, 4, 5, 1, 2, 3, 4, 5, 1, 2, 3, 4, 5, 1, 2, 3, 4, 5, 1, 2, 3, 4, 5, 1, 2, 3, 4, 5, 1, 2, 3, 4, 5, 1, 2, 3, 4, 5, 1, 2, 3, 4, 5, 1, 2, 3, 4, 5, 1, 2, 3, 4, 5, 1, 2, 3, 4, 5, 1, 2, 3, 4, 5, 1, 2, 3, 4, 5, 1, 2, 3, 4, 5, 1, 2, 3, 4, 5, 1, 2, 3, 4, 5, 1, 2, 3, 4, 5, 1, 2, 3, 4, 5, 1, 2, 3, 4, 5, 1, 2, 3, 4, 5, 1, 2, 3, 4, 5, 1, 2, 3, 4, 5, 1, 2, 3, 4, 5, 1, 2, 3, 4, 5, 1, 2, 3, 4, 5, 1, 2, 3, 4, 5, 1, 2, 3, 4, 5, 1, 2, 3, 4, 5, 1, 2, 3, 4, 5, 1, 2, 3, 4, 5, 1, 2, 3, 4, 5, 1, 2, 3, 4, 5, 1, 2, 3, 4, 5, 1, 2, 3, 4, 5, 1, 2, 3, 4, 5, 1, 2, 3, 4, 5, 1, 2, 3, 4, 5, 1, 2, 3, 4, 5, 1, 2, 3, 4, 5, 1, 2, 3, 4, 5, 1, 2, 3, 4, 5, 1, 2, 3, 4, 5, 1, 2, 3, 4, 5, 1, 2, 3, 4, 5, 1, 2, 3, 4, 5, 1, 2, 3, 4, 5, 1, 2, 3, 4, 5, 1, 2, 3, 4, 5, 1, 2, 3, 4, 5, 1, 2, 3, 4, 5, 1, 2, 3, 4, 5, 1, 2, 3, 4, 5, 1, 2, 3, 4, 5, 1, 2, 3, 4, 5, 1, 2, 3, 4, 5, 1, 2, 3, 4, 5, 1, 2, 3, 4, 5, 1, 2, 3, 4, 5, 1, 2, 3, 4, 5, 1, 2, 3, 4, 5, 1, 2, 3, 4, 5, 1, 2, 3, 4, 5, 1, 2, 3, 4, 5, 1, 2, 3, 4, 5, 1, 2, 3, 4, 5, 1, 2, 3, 4, 5, 1, 2, 3, 4, 5, 1, 2, 3, 4, 5, 1, 2, 3, 4, 5, 1, 2, 3, 4, 5, 1, 2, 3, 4, 5, 1, 2, 3, 4, 5, 1, 2, 3, 4, 5, 1, 2, 3, 4, 5, 1, 2, 3, 4, 5, 1, 2, 3, 4, 5, 1, 2, 3, 4, 5, 1, 2, 3, 4, 5, 1, 2, 3, 4, 5, 1, 2, 3, 4, 5, 1, 2, 3, 4, 5, 1, 2, 3, 4, 5, 1, 2, 3, 4, 5, 1, 2, 3, 4, 5, 1, 2, 3, 4, 5, 1, 2, 3, 4, 5, 1, 2, 3, 4, 5, 1, 2, 3, 4, 5, 1, 2, 3, 4, 5, 1, 2, 3, 4, 5, 1, 2, 3, 4, 5, 1, 2, 3, 4, 5, 1, 2, 3, 4, 5, 1, 2, 3, 4, 5, 1, 2, 3, 4, 5, 1, 2, 3, 4, 5, 1, 2, 3, 4, 5, 1, 2, 3, 4, 5, 1, 2, 3, 4, 5, 1, 2, 3, 4, 5, 1, 2, 3, 4, 5, 1, 2, 3, 4, 5, 1, 2, 3, 4, 5, 1, 2, 3, 4, 5, 1, 2, 3, 4, 5, 1, 2, 3, 4, 5, 1, 2, 3, 4, 5, 1, 2, 3, 4, 5, 1, 2, 3, 4, 5, 1, 2, 3, 4, 5, 1, 2, 3, 4, 5, 1, 2, 3, 4, 5, 1, 2, 3, 4, 5, 1, 2, 3, 4, 5, 1, 2, 3, 4, 5, 1, 2, 3, 4, 5, 1, 2, 3, 4, 5, 1, 2, 3, 4, 5, 1, 2, 3, 4, 5, 1, 2, 3, 4, 5, 1, 2, 3, 4, 5, 1, 2, 3, 4, 5, 1, 2, 3, 4, 5, 1, 2, 3, 4, 5, 1, 2, 3, 4, 5, 1, 2, 3, 4, 5, 1, 2, 3, 4, 5, 1, 2, 3, 4, 5, 1, 2, 3, 4, 5, 1, 2, 3, 4, 5, 1, 2, 3, 4, 5, 1, 2, 3, 4, 5, 1, 2, 3, 4, 5, 1, 2, 3, 4, 5, 1, 2, 3, 4, 5, 1, 2, 3, 4, 5, 1, 2, 3, 4, 5, 1, 2, 3, 4, 5, 1, 2, 3, 4, 5, 1, 2, 3, 4, 5, 1, 2, 3, 4, 5, 1, 2, 3, 4, 5, 1, 2, 3, 4, 5, 1, 2, 3, 4, 5, 1, 2, 3, 4, 5, 1, 2, 3, 4, 5, 1, 2, 3, 4, 5, 1, 2, 3, 4, 5, 1, 2, 3, 4, 5, 1, 2, 3, 4, 5, 1, 2, 3, 4, 5, 1, 2, 3, 4, 5, 1, 2, 3, 4, 5, 1, 2, 3, 4, 5, 1, 2, 3, 4, 5, 1, 2, 3, 4, 5, 1, 2, 3, 4, 5, 1, 2, 3, 4, 5, 1, 2, 3, 4, 5, 1, 2, 3, 4, 5, 1, 2, 3, 4, 5], \"Freq\": [0.4911757790310375, 0.0024175381605136413, 0.4439488737607297, 0.01098130095822174, 0.05147651118123074, 0.26999088968312535, 0.0015797043339131711, 0.6745555697015583, 0.0008948566850084797, 0.05297873407279554, 0.3122115386593915, 0.0070667604151509866, 0.5622831033740101, 0.031286593260059004, 0.08715176859894247, 0.5685290380870734, 0.016541886950802904, 0.16766734509443307, 0.026554468526481276, 0.22070747360253418, 0.07066563311464227, 0.0487825775865658, 0.04573686576452943, 0.045992807934448446, 0.7888222990960931, 0.01667732659506594, 0.011726629792251236, 0.010453066115967916, 0.9548384723828045, 0.0063021919117852475, 0.16111264904840886, 0.01931340922294351, 0.2722797172859312, 0.14240853678219578, 0.4048858399092047, 0.03403678460030285, 0.02406288212121398, 0.16058488425580328, 0.013094958955864565, 0.7682221482531663, 0.4692803125962795, 0.0016234984328851552, 0.27515223737107203, 0.21105337936249127, 0.042890510527846745, 0.0681373572294752, 0.050889555023517816, 0.04557859810663391, 0.026332783169887408, 0.8090585397144978, 0.39871434791321636, 0.0037062456741553547, 0.17651833832248512, 0.0022422012043331924, 0.4188180206969313, 0.32085802810740827, 0.015277121223544637, 0.3904528768764399, 0.22624127966323943, 0.04717031360647746, 0.048892427495485835, 0.0037505227218826427, 0.9431693192840908, 0.0021740451417202322, 0.00201351438231051, 0.9831735542269745, 0.005792896907358226, 0.004987838792742248, 0.003019701579367586, 0.003025570775828942, 0.038182327775115016, 0.02732093879647954, 0.0247084637381822, 0.09227395878986129, 0.8175180878857615, 0.7120775021032494, 0.03398070639052916, 0.1252810654279475, 0.0855463543784648, 0.043114401665394174, 0.008982169785841054, 0.9795516637819789, 0.005019936142135807, 0.003027587945646109, 0.003419221096034525, 0.6141185304724267, 0.003792316430578368, 0.003488324451010184, 0.35435837305932943, 0.024242865806604612, 0.15157338909267662, 0.06815430193986277, 0.047887706038202034, 0.7039122283120239, 0.028473270476099235, 0.2615313514996735, 0.06772816779613118, 0.5947691544568983, 0.03728513585196224, 0.03868626760209357, 0.2434675539742327, 0.2601903979893616, 0.05372741888542952, 0.4402967863860558, 0.0023182570764655247, 0.01705649832840272, 0.01187343514791662, 0.9503134906664954, 0.014293445393438409, 0.006463755887738184, 0.05063331128373499, 0.034876791338796474, 0.03142757252093896, 0.744780967362477, 0.138280098129718, 0.01505537908432149, 0.010515597579779507, 0.21026598377962677, 0.03834083593872395, 0.7258207817857111, 0.005773876400748624, 0.12764696101829218, 0.6823382796197514, 0.07316056606665591, 0.11108030300850878, 0.36374789907114596, 0.6082044425651603, 0.001324884535779904, 0.011521904151674289, 0.015201039764722677, 0.007734928598705514, 0.9815055269753782, 0.004857014494114064, 0.0029624748029435932, 0.002941572158407109, 0.02682154669138425, 0.018710191845199495, 0.9340249685244914, 0.010202281873201267, 0.010241609654273677, 0.017102607773635505, 0.01450963175634238, 0.9159401323017313, 0.006590657536589563, 0.04585875424364895, 0.9879162402260333, 0.003624707784222412, 0.0031515971452648712, 0.0019165619217378015, 0.0033903170232225323, 0.008276398563482869, 0.9640669734303575, 0.005087831460611194, 0.0029813921475626962, 0.0195871875189098, 0.9797904963795658, 0.0021950471738130133, 0.0019652033268614845, 0.01486605403409906, 0.0011830424095598765, 0.18138547980429318, 0.0036892159143068703, 0.8085334451310986, 0.004383246023251621, 0.002008422326443467, 0.14828489663128483, 0.8270996366226889, 0.002700340718194516, 0.020204853515092915, 0.0017105268873509423, 0.5124706854024081, 0.14374790314033323, 0.03576543993904524, 0.15447083787868765, 0.15354532205447216, 0.007892995189084586, 0.0061196239243659235, 0.9716494775702196, 0.002971673194816445, 0.011365566296803641, 0.014996114119976724, 0.010378568979385031, 0.0965466879238361, 0.012065609093742942, 0.866015137324499, 0.018761046476715577, 0.960347522771935, 0.009445421106185922, 0.005720283492851113, 0.005725846167236381, 0.19599617997546376, 0.11925565537409592, 0.543290956971355, 0.09532935215217186, 0.046127951913903696, 0.01942849424309337, 0.0815605179857228, 0.08852297211044446, 0.007401785935060765, 0.8030866109354461, 0.376825478365614, 0.5450144906435707, 0.07370321918724793, 0.0006006370528914082, 0.003856272236163339, 0.03127330725425736, 0.02103493470554088, 0.02178775621647592, 0.9146414127855342, 0.011262944263598793, 0.9824915797283641, 0.006035199410082097, 0.005195422126675498, 0.0031453476433047196, 0.003131096877283274, 0.4464887029036289, 0.005097424189118038, 0.12493769127504037, 0.0020426071092467333, 0.42143368398391257, 0.9860588197375283, 0.004674897538568922, 0.004208389906043662, 0.0025404205111551003, 0.002517504346750351, 0.29960085136247244, 0.009674026524955751, 0.008124720371566812, 0.6777189495467442, 0.004879917125187108, 0.08309264852529183, 0.14222443078267896, 0.01328684802989505, 0.7534142611097009, 0.007980913199792739, 0.3532969265544796, 0.010000294239725985, 0.008974089665290593, 0.6224034751171041, 0.005325169683556635, 0.9841516346580081, 0.005006967375343193, 0.005394207896760813, 0.0027422236018939975, 0.002705426991261554, 0.016495817222163492, 0.011710943222498264, 0.17087517243125094, 0.7946192874223301, 0.006300528472769644, 0.9757100467861564, 0.004262934696480987, 0.004021149709372952, 0.01373825245345256, 0.002267471403488763, 0.9817924472710968, 0.006187881205762975, 0.005453653874763664, 0.0033008399230330275, 0.0032658261919304593, 0.8615572497551367, 0.05041408744762299, 0.06243133493908483, 0.00040663210491596923, 0.025190766061164174, 0.1048725098561701, 0.0072558093296928045, 0.13126430034000633, 0.0724820182936432, 0.6841250447038424, 0.08162304587355315, 0.010700399758079689, 0.13958027141167853, 0.07374690824354554, 0.6943495201171948, 0.22447396555281024, 0.21323944417495244, 0.00244559059214309, 0.05254101476340239, 0.5073004489525798, 0.04895798182904089, 0.03209319272694972, 0.028525427111622845, 0.8732899489534659, 0.017126388140968486, 0.040771986326988405, 0.910695341146099, 0.04598944735434164, 0.0012752151362101964, 0.0012678249647833505, 0.07890587500312295, 0.05523314587380185, 0.08132244596364979, 0.7545307841472216, 0.030013811329743567, 0.017680684891991948, 0.9574650356420971, 0.0112736160814249, 0.006808752077368014, 0.006771232211787704, 0.00830714346251188, 0.9800298718591113, 0.0052881504636234115, 0.0031968850152669596, 0.003178268408901769, 0.9816157666561152, 0.006087329033559732, 0.005633114105672081, 0.0034119182083149472, 0.00325379198341948, 0.019665000969305527, 0.014509978921934652, 0.012582661890447298, 0.02757998018883174, 0.9256607380301346, 0.01698316101671331, 0.9591789468376777, 0.010709484148103516, 0.006705628139272106, 0.006421121773499335, 0.18876422586147612, 0.24970783301991134, 0.026233821129361738, 0.5341182017837758, 0.0011756909713673636, 0.060489623510806514, 0.130925246713899, 0.1087520547393532, 0.6920301880697661, 0.007799143999277253, 0.02108667297199426, 0.9552965952815564, 0.01061903861676115, 0.006568456113141125, 0.006427422006512267, 0.00944300651858183, 0.9371014347332589, 0.046156774780144086, 0.0036709054418298265, 0.0036273023916379475, 0.38005108877253013, 0.5413559551232335, 0.043529622221452256, 0.026034148194360465, 0.009029236437711764, 0.8668724461520345, 0.0033080895609825444, 0.039085663393005586, 0.08994138007735619, 0.0007923706141180257, 0.027031432986809503, 0.019242200863054296, 0.11119963056119939, 0.03459147091566408, 0.8079331305447812, 0.9698302068572234, 0.0019405403513130508, 0.017514012218750277, 0.0012619444066268102, 0.0094528889637412, 0.3032750118788645, 0.0016313400044816106, 0.5418205338002268, 0.09626756773898083, 0.057005435681103625, 0.011660779078547307, 0.008228013407923493, 0.9361744929095182, 0.004869904288898358, 0.0390669120298388, 0.013733149962550994, 0.011418074632708608, 0.9628832587164395, 0.006705853355717753, 0.005261068530225275, 0.9904179961233422, 0.0032066213429720663, 0.002879162901396884, 0.0017412026910515687, 0.0017546829699500324, 0.07100179481021641, 0.0711874645458428, 0.044147199411891366, 0.031260031852732864, 0.7824038263961409, 0.03641921674555278, 0.025061981707148493, 0.9111230335543874, 0.013953923880903189, 0.013442454866471587, 0.06153128463016058, 0.04322514241102926, 0.04081703545519302, 0.023514900211379, 0.8309101336329009, 0.04202417875793887, 0.09294259054706938, 0.6867066526545116, 0.028558721998723117, 0.14976787280647622, 0.005617049853686205, 0.9732439743498691, 0.0037455609509519415, 0.002086535764228573, 0.01530707434834722, 0.4319656176020671, 0.0028683836010405584, 0.1650937188036343, 0.008273917260774696, 0.391798359619071, 0.8068985805862655, 0.001529454220461857, 0.17870338982035364, 0.005218689502924688, 0.007649875758679282, 0.017197212705205866, 0.012182602702398503, 0.32724594392470097, 0.6368128291150148, 0.006562487070000454, 0.018526843977199208, 0.016042645349608156, 0.011906864117959314, 0.007029463149502155, 0.9464956014623681, 0.08029451188906359, 0.019167098533704328, 0.17321711217044253, 0.7170747843886549, 0.010241782958454774, 0.9779668786992055, 0.0037683672452036745, 0.0034858552149098975, 0.002046231995118478, 0.012733503683171148, 0.9802422224012258, 0.006636987289116548, 0.005954279375513746, 0.0036024723182979793, 0.0035642221295901825, 0.05196115681065593, 0.03703359123245427, 0.1300423110796074, 0.7610788832392681, 0.01988180541388632, 0.35029740773553003, 0.04251556778299933, 0.07475764153166323, 0.47579060617586366, 0.05663767795221944, 0.5208796651267004, 0.27200120987229937, 0.08726706833595786, 0.05274231317285795, 0.06710987728884457, 0.03621186034409752, 0.02683827868837626, 0.024077413782653132, 0.013759794449491063, 0.8991157336199481, 0.9767383192632039, 0.0023451050815729707, 0.0021061605512026154, 0.01754764290817758, 0.0012624646578846088, 0.9827104094650146, 0.00581073503258478, 0.0052071677048000945, 0.0031481176135548655, 0.0031236899308114715, 0.025731650228658302, 0.018926301782457737, 0.04488594211509614, 0.009791081862707097, 0.9006639747410082, 0.11761026999196544, 0.0018081210370668268, 0.3311901868984197, 0.2008990750252269, 0.34849251921802393, 0.004708384427234005, 0.4326346360371563, 0.21790178614198608, 0.3429362000147383, 0.001818922631705574, 0.02519346074244338, 0.01801693584337687, 0.18250905988473318, 0.7648169202110537, 0.009463752834639965, 0.0022159106294783104, 0.009257406367754623, 0.8644183581736061, 0.03869860805352495, 0.08540983371507926, 0.14382284615353824, 0.8442230081218794, 0.001352904074498085, 0.009784901907662742, 0.0008165127235119687, 0.19003942980691124, 0.771909735233276, 0.0147963992877846, 0.008686329079967196, 0.014568172428613782, 0.17948777035848404, 0.7868516743079959, 0.0024405053122233513, 0.029731907032317904, 0.0014875687049018987, 0.011282349043029053, 0.9727920234426555, 0.00721450584249623, 0.00438476311747184, 0.004327013265940731, 0.9139726832678099, 0.021569984671107316, 0.05293448113040844, 0.0008434223001535846, 0.01067956454803446, 0.1420084735232513, 0.014225479520349273, 0.4097655064311141, 0.4169689397946892, 0.017031614740354795, 0.9783078195903316, 0.003588080261271169, 0.003232725330758574, 0.0019506851044216137, 0.012920855953973869, 0.011229854722928943, 0.0080305458677149, 0.9721057860398723, 0.004330292599644973, 0.004305034898156441, 0.012826295260816403, 0.11094562190575759, 0.20620846520668637, 0.6651225082125554, 0.004897283769935365, 0.012479825349892778, 0.9701425351769865, 0.007881833732271507, 0.00478332039368129, 0.00471439646870029, 0.0028742111958734067, 0.1147569519579211, 0.8681091758937725, 0.013037032405521759, 0.0012227660788776303, 0.016626712269925573, 0.14872517856126088, 0.01052104381672454, 0.06811056618185976, 0.7560165656868552, 0.1566401893228983, 0.8266212999295088, 0.0017279727169881084, 0.012447181387106798, 0.0025637417916122168, 0.009351934477504075, 0.041507813207194856, 0.005854136609261935, 0.9397191324307012, 0.0035666295744063016, 0.3493848499532751, 0.0020424028148342487, 0.3487135929533841, 0.04446202763259106, 0.25539685167575044, 0.04279856708186412, 0.09953892609523193, 0.021104314458387858, 0.8346839632838221, 0.0018737475453708846, 0.008797903420449423, 0.9781893764604279, 0.006452151097201793, 0.003288955778983273, 0.003271903513116866, 0.025739206311694258, 0.01822941435251758, 0.11883385145588528, 0.009836679960110029, 0.8273616851866621, 0.01485529670980221, 0.9641276922355262, 0.009462315337398384, 0.005732711352145617, 0.005821820855028709, 0.003988028161833191, 0.002791668604151958, 0.31870979503933067, 0.00251690192192194, 0.6719937457143556, 0.012022085051599192, 0.9662727863297355, 0.007237309353016865, 0.004401257741079869, 0.01006628498787817, 0.01894431458965492, 0.013595690586951306, 0.9302639474855857, 0.007240239161185013, 0.029958396399522427, 0.016919348516861627, 0.9650427803066824, 0.008189310236177636, 0.004935343246455949, 0.004911346439747087, 0.061967279480013654, 0.0433305036965509, 0.0385510724875661, 0.8329962440602806, 0.023160702808319437, 0.8618083228709462, 0.05559872633518256, 0.07801574764202115, 0.0036724219340178404, 0.0009050134569926578, 0.9809435419496351, 0.006355062693190558, 0.005713461769152662, 0.003577008260439254, 0.0034107904044708873, 0.42113989066078455, 0.02350174227632362, 0.23003161436372277, 0.22516726559229847, 0.10015946581455407, 0.30539304862628963, 0.4892088181904525, 0.07585465046664334, 0.08172950873993359, 0.04781384187635184, 0.3809214492710425, 0.6163158089626027, 0.0014693658702501758, 0.0006434301978002321, 0.0006498520703474977, 0.5376966068312103, 0.0007718348536810665, 0.19763421024572492, 0.054518876487617836, 0.20937829394037244, 0.009119373136062082, 0.0040852355662325006, 0.8012110718237826, 0.07913063760593704, 0.10645405835876787, 0.0248881863435739, 0.9631801306151682, 0.005403419052728357, 0.003271327907069936, 0.0032564775209807727, 0.007641693547424254, 0.9816616631739903, 0.004840784362069697, 0.002935824078271907, 0.002919672295317013, 0.013488043363456145, 0.9675489125179674, 0.008570177876282612, 0.005198167035418577, 0.005194810130649175, 0.03574525106565061, 0.025440353820168675, 0.0227142844928417, 0.7441059300521482, 0.17199987905642836, 0.016699217822920595, 0.9599236939693696, 0.010580531396941857, 0.006413512850304826, 0.0063823692139323525, 0.06896083597163435, 0.06326503083414461, 0.043393376844780264, 0.026178633448611564, 0.7982106412797471, 0.4664615092497136, 0.0055889011072343345, 0.004523818927759859, 0.03995640825263842, 0.48346946010122527, 0.016655571181332346, 0.9599895845316176, 0.010576349987248438, 0.006409342836795432, 0.0063678181018631645, 0.3635746667964531, 0.21705137024917132, 0.27741019606506495, 0.09464265705231059, 0.047321328526155296, 0.6212885815635371, 0.2711805448822614, 0.06991288223339699, 0.021290972216978617, 0.016327143052381542, 0.5728565665560745, 0.33021705323603767, 0.053738432568988234, 0.03386043869992651, 0.009327455316954645, 0.01870000626811896, 0.01293212525491257, 0.9060235242158217, 0.05300549771410089, 0.009339868239659078, 0.024427678822532464, 0.8813485459935972, 0.03725522972684672, 0.05538268778895508, 0.0015856364227447857, 0.005155092665140827, 0.023485730755142143, 0.3598758114773209, 0.0772030868559856, 0.5342800903577439, 0.15094115314452364, 0.00834164851249728, 0.09546810532628934, 0.02936289215335773, 0.7158870759926482, 0.0040043256182141955, 0.002822866962803204, 0.9433404504425459, 0.04830655765507497, 0.0015254338779763469, 0.09900309398936448, 0.003751065305104593, 0.8655469331521883, 0.0195119693281137, 0.012186656611074426, 0.06865853354668275, 0.00942170334872078, 0.16589719826821248, 0.06415983895898753, 0.6918635466229516, 0.16713693878496189, 0.00836109337896771, 0.1007709431256005, 0.026424569372478335, 0.6973064020685561, 0.0724800316440153, 0.007651690764872992, 0.1770313921803676, 0.6381379618402604, 0.10469781711963679, 0.011486347457247147, 0.018881648010624228, 0.9191121404108519, 0.04491811029723188, 0.005600689084503056, 0.1943388609866357, 0.08020186095411895, 0.694500857066836, 0.010608538101258249, 0.02034978770181992, 0.09322841198314305, 0.020575011327683523, 0.018160687306488562, 0.10801259613646043, 0.7600256513956718, 0.8829837988834921, 0.09471265805867775, 0.009613307377125239, 0.009256748418868418, 0.0034335647449318676, 0.4739469935930986, 0.01582434725182847, 0.0036884226314103184, 0.05255406684193643, 0.453986358404182, 0.9792394007669809, 0.006955821446635254, 0.006221710638707997, 0.0038127576232910698, 0.0037690026744742135, 0.9251083231685363, 0.0011832495237972303, 0.006125153501415111, 0.023274427304446985, 0.044308689948697265, 0.994297741925174, 0.001917730149093985, 0.00171520978483765, 0.0010387984853148329, 0.0010307379733046306, 0.20650138110260707, 0.7615117174905953, 0.0018868557138710506, 0.007589328689222165, 0.022510720688370827, 0.37374908406378393, 0.5560724531367335, 0.010253915421960864, 0.034836155316321255, 0.025088365123504285, 0.5171704377601076, 0.0032350725587624355, 0.1552577943452468, 0.3168455640838256, 0.0074909827901328, 0.017575511648292422, 0.012699398914804377, 0.94860362344954, 0.014351834958151136, 0.006769940496314412, 0.9836254666829878, 0.002809085674046272, 0.0025740527750100183, 0.0015301723468636441, 0.009461303437773213, 0.9693709562400975, 0.017566236798811204, 0.002119341118111984, 0.009668457397396241, 0.0012748384073150139, 0.5303864273590202, 0.43742194072352775, 0.0009433113047750987, 0.023316546140877442, 0.007931972930880602, 0.27728475102160893, 0.6225036540341494, 0.008518057582850099, 0.06032576286973793, 0.03136770532093441, 0.06150177353974692, 0.10204245225124921, 0.4859952811738699, 0.3145412384704367, 0.03591928456966165, 0.36235934656356833, 0.49787638182683736, 0.03618174984834214, 0.08432380994394353, 0.019258858563598966, 0.0178018899052258, 0.9573404391643799, 0.011242601931219962, 0.006835166505886969, 0.006777783771255693, 0.27254889720197195, 0.6557079271191174, 0.007273909391124541, 0.027216044041064893, 0.037253230182281515, 0.2299109814230391, 0.7587029136472051, 0.0009859826859142664, 0.0037453888109963565, 0.00665490263153635, 0.29071155122842124, 0.021183422774101762, 0.4786268061997119, 0.025364400929405766, 0.18411384786974175, 0.010592622328896437, 0.009043095689653748, 0.9046827256795221, 0.04458561108680032, 0.031095069594845398, 0.14758081875736737, 0.6921246417826473, 0.11103421077041564, 0.02764447372614329, 0.02161564546610719, 0.06657069188979842, 0.9103495173063959, 0.01637745070032803, 0.0012494478541207857, 0.00545285181955927, 0.05191601171214168, 0.00410526791478913, 0.9391862667778359, 0.0026190836705301396, 0.0021730879261518507, 0.07653087403991828, 0.006345552634647431, 0.889303548566653, 0.0034626239262916855, 0.024356083371208866, 0.009643930762331667, 0.04309695338057788, 0.9208879395513074, 0.02260375057801327, 0.003767291763002212, 0.5563159971797706, 0.3819440628336583, 0.01757810792122693, 0.04183703617925939, 0.002324652464707432, 0.00755905454530423, 0.005477740064201215, 0.8916868967565351, 0.09236199105837171, 0.002914596084522378, 0.0038595107854986046, 0.002778829011862273, 0.6945637871856407, 0.18692887860916546, 0.11186908284687384, 0.007166340260534658, 0.0051082088402288365, 0.9792644753768193, 0.00284435372297806, 0.005616256926597244, 0.05543194885777192, 0.03853089652041018, 0.034448777063877216, 0.8508861407119113, 0.020700252623639944, 0.9772566550536046, 0.003257284766635659, 0.0028652665070147353, 0.014888842283857348, 0.001731273773175668, 0.11406557056010702, 0.017239847083589638, 0.012817720958913302, 0.8108181423835498, 0.04505908559101257, 0.003400082610948187, 0.0028709254314639447, 0.8847571460563584, 0.04024765543432955, 0.06872463551138266, 0.8989192487773459, 0.02716457355473532, 0.05903999809896942, 0.012824262968206315, 0.0020518714750345393, 0.6850488732523734, 0.048306556688517834, 0.0611995819754299, 0.20471462253589168, 0.0007303883899810719, 0.2738426904077558, 0.011459625282486056, 0.055820760112218384, 0.6526948110183449, 0.0061824567997997995, 0.5997564858946038, 0.15776688240327744, 0.13287030698726665, 0.10529587069164666, 0.0043104582438263485, 0.5429573795222301, 0.0014418257668252724, 0.4367538960136089, 0.0008291254890753447, 0.018017272720922944, 0.24900963047103944, 0.010574270469129845, 0.608411435312356, 0.017796415807757603, 0.11420860923759717, 0.007754403717017652, 0.005502534894463029, 0.9349936572745234, 0.04879081220878937, 0.002958828495674851, 0.014894602525761448, 0.009388688266815246, 0.9656244611428287, 0.005064132134157056, 0.005026498842045388, 0.025826158407195494, 0.019121748930509795, 0.9030395281876853, 0.00783143300908251, 0.044179824484891425, 0.9529737273521036, 0.02040122986078306, 0.002141391351878884, 0.008107937502979591, 0.01637555965462676, 0.9889760256409431, 0.003704545286589937, 0.0033171545813711263, 0.002008980943647302, 0.0019934074479601134, 0.09481242834123454, 0.901317741445827, 0.0017458983965529596, 0.0010609979298950288, 0.0010630475073513618, 0.009908072428496085, 0.007117397874373876, 0.1852494647932967, 0.7938024799122927, 0.003923804959483247, 0.8044628894385555, 0.09187635810640996, 0.09311377207044823, 0.004543999760515372, 0.006002989418685515, 0.29986754756095735, 0.698904396176753, 0.0005211191020056656, 0.000385622027426736, 0.00032138562317481664, 0.006969966775102977, 0.3095145102222859, 0.0044153479471801425, 0.6764527090711507, 0.0026486909401672904, 0.03959422941015333, 0.01589165511128607, 0.08739859664807087, 0.8486672449971006, 0.008446915779872777, 0.5481127335592202, 0.02177341258548802, 0.363165273901746, 0.059981351092049516, 0.006967153578221016, 0.8879945635058386, 0.0018775846209476634, 0.10067834336232376, 0.006282661777393858, 0.0031672353918500663, 0.3821129707004243, 0.0050200110521112775, 0.030361984033863705, 0.101084926794636, 0.4814206319259847, 0.5203195171975428, 0.4356531166649724, 0.0077004293037423845, 0.025074208515379937, 0.011252849096245998, 0.9798909038891912, 0.006687776669868678, 0.005953709974528489, 0.003881392147399075, 0.003585678075816534, 0.010047716901479929, 0.9757949494116007, 0.0064064564732103065, 0.003888871165021128, 0.003862476111864876, 0.8789652646961972, 0.11085063395241591, 0.0015562580586861382, 0.00789713900566962, 0.0007306286882307886, 0.2110413416247078, 0.08881186651428119, 0.37460096988175534, 0.07577188028896337, 0.24977413353319658, 0.0112444440167299, 0.007979657624992071, 0.11840543440501627, 0.004322314546870706, 0.8580478904991474, 0.010931523450970744, 0.007677469808427995, 0.26059042218459433, 0.004173414522963747, 0.7166283653396248, 0.034702349678888085, 0.022547144051165795, 0.021018457849673544, 0.16182570477229122, 0.7599056101100815, 0.5662896838617264, 0.22245469914347196, 0.12433364042275707, 0.06561469498096242, 0.021307252598405192, 0.03877786042413773, 0.9137992766885512, 0.021238800833164716, 0.024200402043967846, 0.001983226628516445, 0.01044095603094592, 0.9748937965031697, 0.006642111496774811, 0.004025680137790111, 0.0039983034270085075, 0.2398493554972393, 0.5775141428138544, 0.07951105841750908, 0.04149438150088492, 0.06163082213081608, 0.00410469618715039, 0.028762925715117477, 0.886901492479026, 0.04215011630972657, 0.03808102066396057, 0.9913013744324807, 0.003013797160829019, 0.0025733696219915956, 0.0015591740967788137, 0.0015521030124396808, 0.9710230132064889, 0.003110562633539438, 0.0031360679447355916, 0.009489603763556202, 0.013241055174173462, 0.912567363172364, 0.0018246670916920388, 0.04296982693181404, 0.022515270607680396, 0.02012262491534469, 0.005631566572727428, 0.22605381081048553, 0.03942870167746113, 0.5135576614176114, 0.21532865823797478, 0.9787226689252321, 0.007456985563194027, 0.006224285308697982, 0.003802649305782673, 0.0037929238599878324, 0.013516941450495536, 0.00974323622840704, 0.914118718667223, 0.05742837812403045, 0.005194135316898835, 0.9833796411886696, 0.005585044626054504, 0.00499328420595591, 0.003035095179447833, 0.003006729803938975, 0.8223802947621166, 0.01307587303050626, 0.053241362771791007, 0.09256053472080944, 0.018742021788255916, 0.21622951574736854, 0.024488307695330138, 0.02156628721225759, 0.7247371961097998, 0.012982059165025647, 0.3788673040371195, 0.002394660169323571, 0.2909795235064398, 0.2263506473896003, 0.10140771801657292, 0.06159467674816249, 0.04333153409003166, 0.039003667777745075, 0.04614124834512871, 0.8099303460129623, 0.01606312756095026, 0.011483691968836193, 0.9287167592669487, 0.0061941730654613385, 0.03754214478405907, 0.0243497390227599, 0.05405588409569725, 0.7973740610766611, 0.06746313645940913, 0.05675738402786652, 0.005157676213307103, 0.021355591750380626, 0.8466582649584097, 0.04088451988481967, 0.08594372055377014, 0.053399224975464406, 0.03858940236647308, 0.031837776220149994, 0.8575112142241812, 0.018656608703161003, 0.3240940551662322, 0.001059319070416772, 0.5241799622001709, 0.05665573634364465, 0.09401084876652954, 0.0033449680114951614, 0.015749462052662238, 0.9193964409057183, 0.004432795610848642, 0.05707631775034801, 0.08197683878123352, 0.056227766163692655, 0.05061867026901772, 0.7807685590394299, 0.030410289937680142, 0.13487094660435295, 0.013315419901867156, 0.6356122858279861, 0.10709608868645076, 0.10910532453054032, 0.12040397984205907, 0.004651226915037217, 0.8476279445931953, 0.02472519994919049, 0.0025907935859380087, 0.019817005776811475, 0.01404470539284227, 0.10355090204736604, 0.13220161083217116, 0.7303835064189723, 0.5598134172563135, 0.0011295357913312888, 0.29229273676566464, 0.08376226444027525, 0.06300200769998791, 0.02480524398583666, 0.022351779853419358, 0.015382257967459435, 0.06866091535279586, 0.8687999122336281, 0.969272935725809, 0.0034457962725581944, 0.0030351019872309, 0.0023828577392905875, 0.021862942316310502, 0.008983961354290696, 0.10944499152812037, 0.8751054334206158, 0.003246569981168492, 0.0032192790598912914, 0.9871891853784623, 0.004276263668770766, 0.0038520666625764554, 0.002301399223412719, 0.0023811691349466223, 0.15410725407296866, 0.0576327720076974, 0.7249128350785286, 0.03621727702748281, 0.027129937281754904, 0.9910632598742836, 0.0030055152513084344, 0.002681860570945155, 0.0016324826316860032, 0.0016172208662704989, 0.027651513143169014, 0.05787899924152871, 0.017771818728041944, 0.8860799614364797, 0.010618618928169815, 0.025400895981216056, 0.018820041960211944, 0.016478989233584942, 0.0908145217636885, 0.8484847052352327, 0.008680477025934049, 0.06491215777926425, 0.9005662010206157, 0.004723078343449255, 0.021118610214101295, 0.025303938168644288, 0.018055265967352862, 0.01619249636588661, 0.009753448982889512, 0.9306953545987975, 0.0317338526389329, 0.02223886707814419, 0.0410081146365222, 0.6998292273546246, 0.20518772222474393, 0.9895015946389334, 0.0035240497582545876, 0.003168066440587764, 0.0019057755082717825, 0.0019002229088627678, 0.9790640708557491, 0.006942078535435648, 0.006215044741356748, 0.004026648705667752, 0.0037518834256312452, 0.08816085266655048, 0.04077387349831802, 0.7367811684400921, 0.0998766656884516, 0.03440734006709339, 0.2585149259842857, 0.20555210665603238, 0.004049667762173862, 0.04816355166427754, 0.4837204732176748, 0.057289200848583265, 0.002640927738395942, 0.9357591631631915, 0.001331599795438369, 0.0029792885741618835, 0.024801297223517666, 0.02295269732138903, 0.015377946502910722, 0.06817876907330356, 0.868688655471989, 0.3799095683698628, 0.4874449671230871, 0.018421350266338284, 0.05831163244230894, 0.055912689892900005, 0.2124184717606853, 0.7769770484442338, 0.0019038306439169844, 0.0009752396737052139, 0.0077255262241893614, 0.666929240205305, 0.3089400943672948, 0.0132066635943354, 0.001580332869939876, 0.009343736974332996, 0.0717610960304145, 0.0020031669137808876, 0.8732960882007311, 0.006107066980673254, 0.04683276088105347, 0.03181031789089954, 0.9343810718767841, 0.004746350669119123, 0.026244151314708104, 0.0028173183621661114, 0.016972664289854757, 0.03935331567024289, 0.9306770400027442, 0.006459883893039871, 0.006536197974790342, 0.6378858433040936, 0.16809313091386938, 0.03424345762654725, 0.1489757115271014, 0.0108018061334332, 0.42799094722055187, 0.013430032277788348, 0.11195932635309758, 0.3874127187327418, 0.05920683156029212, 0.5365932445703008, 0.0019005394981907533, 0.06391682366913433, 0.09503225693697749, 0.30255684263997723, 0.004772709847470369, 0.19301456247563373, 0.3419233410367067, 0.05761313686589549, 0.40267606856804705, 0.0801345459861081, 0.056222004165468235, 0.05058800479736518, 0.03062811174806463, 0.7824278075325815, 0.047597520502830455, 0.03184879198496365, 0.028865233289121314, 0.7026475914791595, 0.18904050966666042, 0.3363133211495543, 0.010749234333181432, 0.43165226695262715, 0.055969633397574686, 0.16531567486056817, 0.203107338404284, 0.0026221247599953717, 0.46757194332117125, 0.04795725795932122, 0.27874182515585344, 0.15031042893434837, 0.027160820220729888, 0.06923925097108521, 0.034188352831239124, 0.719101642003702, 0.025991513586468458, 0.0059541087100322505, 0.8994987608616094, 0.0033319246535923517, 0.06522318069162232, 0.05945051639642685, 0.9341385549086167, 0.002949645444631973, 0.0017373478554266553, 0.001723970778580252, 0.021075690813122484, 0.01507167634252667, 0.9465175368225655, 0.00808928817270314, 0.009246024905570223, 0.15600545422575626, 0.35867574748070746, 0.44494466437342145, 0.032116044473501394, 0.008257924842319296, 0.9879725332794221, 0.0040786033402202704, 0.0035980640817468456, 0.0021859963046514373, 0.002164185591602131, 0.9831202133918606, 0.0017661554361691233, 0.0016027312231669429, 0.012562348199471966, 0.0009487254406988591, 0.9796411292434273, 0.003425157754817882, 0.003070810485347016, 0.00759904591207589, 0.00626411876199509, 0.9395647048257897, 0.05597255670083078, 0.001673820085519453, 0.0017846690978055096, 0.0010038356142022587, 0.017775191544542403, 0.9573907085234493, 0.011242466566662404, 0.0068063931864128105, 0.006784323169595648, 0.44993864984989707, 0.007934015333922064, 0.33712510278660557, 0.009172032411096435, 0.1958301905272912, 0.4756686661033249, 0.0007055784004327561, 0.13082596440825267, 0.033360448547534685, 0.3594393778580155, 0.35181008025364663, 0.004590454561589178, 0.061117394858687835, 0.002526183530423468, 0.5799558312448009, 0.024981563275468913, 0.015793639176140357, 0.10800357929717619, 0.8427123197678396, 0.008509990887440486, 0.1162595176852421, 0.17608928437869673, 0.012289906380274159, 0.6532226908436618, 0.04213874932176858, 0.19027267239464363, 0.02032471606648034, 0.14310124751093667, 0.6355507476057618, 0.010751293333812887, 0.018273073222049085, 0.9565873270422174, 0.011307277946196095, 0.0069989026678484905, 0.006833365707870995, 0.12991653563666758, 0.854408329255055, 0.003149044840641282, 0.0018850388411270533, 0.010640443946730431, 0.10188504323860795, 0.8038087792576203, 0.0020167928642049163, 0.010895331133252266, 0.08139396277163143, 0.01766149379980922, 0.957470587454866, 0.011245352525622091, 0.006835496913022888, 0.00678693994431559, 0.12309528153021891, 0.023894506558681725, 0.7778110469725836, 0.03509394230880495, 0.0401053629752025, 0.007869456667815706, 0.005631282233028236, 0.9803528112812943, 0.003102410284990617, 0.0030444671995792693, 0.002277310043137538, 0.0024790827998862615, 0.5051735961779097, 0.0836439281377065, 0.4064264580326099, 0.1740567992174293, 0.009338129792973831, 0.008287430510522262, 0.6848084270083021, 0.12350986033292408, 0.006648638717659656, 0.004707051847771177, 0.5565374809730991, 0.4295376171391008, 0.0025695778752826744, 0.05507925160560444, 0.03872854578601677, 0.03548938207134557, 0.8475632140640382, 0.023138807741393427, 0.037912194688128224, 0.027122897177258652, 0.04344699504046775, 0.014651780503532262, 0.87686915556305, 0.13280208233197097, 0.8106791470063984, 0.011413888494289176, 0.029046729733992842, 0.016058293200738413, 0.21882155164430636, 0.08501729592963896, 0.011869750346527728, 0.12542462454001677, 0.5588662041737946, 0.02004160957333922, 0.014969131398140089, 0.18701955080914834, 0.007333219030905595, 0.7706359511681665, 0.2583114809562958, 0.011004720388516296, 0.009657203606248995, 0.005807423021354774, 0.7152188623524947, 0.04249900576384092, 0.9442558333276546, 0.006019007950972057, 0.0036432366211635535, 0.003581664063471695, 0.984552357833579, 0.005185350095583065, 0.00464821496757166, 0.002815422807803018, 0.0027990909964783475, 0.19840494033734246, 0.008009300022163802, 0.04498716670439742, 0.6910818200626709, 0.05751603009148863, 0.026697011465682072, 0.017126948281966994, 0.02185821547391602, 0.9251270161368663, 0.009190725473249468, 0.021848908773799396, 0.015196817243348506, 0.0974480974359069, 0.8258760102133259, 0.03963117579793767, 0.6112501273750269, 0.0006922232292496557, 0.10615489408721236, 0.02295511668906799, 0.25894772484272377, 0.5346786267959209, 0.029087219931653956, 0.08214363880286422, 0.35311417203990986, 0.0009761952944085858, 0.06997892432024048, 0.1104603404131637, 0.042196098542531375, 0.0255959843927016, 0.751768143546807, 0.12703116678517745, 0.28479284038351443, 0.39312248462041377, 0.04616089716176999, 0.1488926462041746, 0.02835119661920354, 0.017757300500746708, 0.9177405452329835, 0.026683299479446497, 0.009469745665287252, 0.1835583794822569, 0.7885190375140451, 0.019671856384615462, 0.0011953291266350384, 0.0070559495849901255, 0.08287776634913513, 0.007715173184262852, 0.13810379437582107, 0.0039847314070301865, 0.7673196033191708, 0.0388956423807116, 0.023771638991099006, 0.02155461649201663, 0.012894502339878726, 0.9028855323889599, 0.008373270814331901, 0.9799012540577079, 0.005346027277579249, 0.003205134171642115, 0.0031741067353241855, 0.8377964364879045, 0.02666038198959796, 0.11567351378235749, 0.014843029774181131, 0.005026860990314539, 0.09097564559662798, 0.9019202656376275, 0.002948422290251527, 0.0017725939935968893, 0.0023830653142009727, 0.0018561896822330603, 0.6256129886431143, 0.2974534275560877, 0.019242036095405313, 0.05583526182573703, 0.31869683835856993, 0.5130126631976154, 0.0831745725922894, 0.05924470699272391, 0.025871295847760243, 0.8233567123243416, 0.09525626620013294, 0.03779756572854327, 0.030070900949204872, 0.01351865312569099, 0.31228108451862147, 0.6742140339980609, 0.0011794934571446281, 0.011602780200466798, 0.0007225828849109324, 0.9286698441593514, 0.002114508618883309, 0.057587938677550105, 0.0007421515343002748, 0.010885368595793114, 0.01568558286277061, 0.9620582298863583, 0.010147995811117652, 0.006064882951438674, 0.0060413604577679355, 0.0864672415252677, 0.8949034295937502, 0.0031511155013496505, 0.012633031146710992, 0.002845364903900022, 0.018851934748992674, 0.9545702954065411, 0.011999469650302222, 0.007264696584517482, 0.007311808754326286, 0.2576712398238372, 0.31281469652517596, 0.22532021007288075, 0.1389546392271597, 0.065239330454482, 0.667394747002241, 0.09835126276428797, 0.14593953206224453, 0.07547513075190364, 0.012839335139768666, 0.9840082692498492, 0.005396770164380641, 0.004800894442410827, 0.002906894517287183, 0.0028861847765552146, 0.9841785396766585, 0.005578843209091124, 0.004659622621776662, 0.0028003106934377372, 0.0027821622119507785, 0.015291354590775906, 0.969893711526662, 0.0067271544632217205, 0.004090714016536219, 0.003995671965865581, 0.9598264193840662, 0.011853527543477073, 0.0021056984558113106, 0.02488276749185483, 0.0013311886789611734, 0.019092551669150404, 0.013335592664324014, 0.9378238025083414, 0.007216634208889878, 0.022535049670413733, 0.7521018557012443, 0.054291021379220185, 0.15743750852961985, 0.029053329833508282, 0.007116154811490797], \"Term\": [\"000\", \"000\", \"000\", \"000\", \"000\", \"1960\", \"1960\", \"1960\", \"1960\", \"1960\", \"1961\", \"1961\", \"1961\", \"1961\", \"1961\", \"30\", \"30\", \"30\", \"30\", \"30\", \"62\", \"62\", \"62\", \"62\", \"62\", \"academic\", \"academic\", \"academic\", \"academic\", \"academic\", \"act\", \"act\", \"act\", \"act\", \"act\", \"adjustments\", \"adjustments\", \"adjustments\", \"adjustments\", \"adjustments\", \"administration\", \"administration\", \"administration\", \"administration\", \"administration\", \"adopting\", \"adopting\", \"adopting\", \"adopting\", \"adopting\", \"agreement\", \"agreement\", \"agreement\", \"agreement\", \"agreement\", \"aid\", \"aid\", \"aid\", \"aid\", \"aid\", \"aircraft\", \"aircraft\", \"aircraft\", \"aircraft\", \"aircraft\", \"alexander\", \"alexander\", \"alexander\", \"alexander\", \"alexander\", \"allocation\", \"allocation\", \"allocation\", \"allocation\", \"allocation\", \"american\", \"american\", \"american\", \"american\", \"american\", \"anne\", \"anne\", \"anne\", \"anne\", \"anne\", \"anti\", \"anti\", \"anti\", \"anti\", \"anti\", \"appearances\", \"appearances\", \"appearances\", \"appearances\", \"appearances\", \"areas\", \"areas\", \"areas\", \"areas\", \"areas\", \"art\", \"art\", \"art\", \"art\", \"art\", \"assessment\", \"assessment\", \"assessment\", \"assessment\", \"assessment\", \"authorities\", \"authorities\", \"authorities\", \"authorities\", \"authorities\", \"authorized\", \"authorized\", \"authorized\", \"authorized\", \"authorized\", \"available\", \"available\", \"available\", \"available\", \"available\", \"away\", \"away\", \"away\", \"away\", \"away\", \"baby\", \"baby\", \"baby\", \"baby\", \"baby\", \"bankers\", \"bankers\", \"bankers\", \"bankers\", \"bankers\", \"banks\", \"banks\", \"banks\", \"banks\", \"banks\", \"baseball\", \"baseball\", \"baseball\", \"baseball\", \"baseball\", \"bed\", \"bed\", \"bed\", \"bed\", \"bed\", \"berlin\", \"berlin\", \"berlin\", \"berlin\", \"berlin\", \"billion\", \"billion\", \"billion\", \"billion\", \"billion\", \"black\", \"black\", \"black\", \"black\", \"black\", \"board\", \"board\", \"board\", \"board\", \"board\", \"boats\", \"boats\", \"boats\", \"boats\", \"boats\", \"bonds\", \"bonds\", \"bonds\", \"bonds\", \"bonds\", \"bride\", \"bride\", \"bride\", \"bride\", \"bride\", \"business\", \"business\", \"business\", \"business\", \"business\", \"calendar\", \"calendar\", \"calendar\", \"calendar\", \"calendar\", \"came\", \"came\", \"came\", \"came\", \"came\", \"campus\", \"campus\", \"campus\", \"campus\", \"campus\", \"captain\", \"captain\", \"captain\", \"captain\", \"captain\", \"cars\", \"cars\", \"cars\", \"cars\", \"cars\", \"castro\", \"castro\", \"castro\", \"castro\", \"castro\", \"catholic\", \"catholic\", \"catholic\", \"catholic\", \"catholic\", \"cattle\", \"cattle\", \"cattle\", \"cattle\", \"cattle\", \"chamber\", \"chamber\", \"chamber\", \"chamber\", \"chamber\", \"charter\", \"charter\", \"charter\", \"charter\", \"charter\", \"chemical\", \"chemical\", \"chemical\", \"chemical\", \"chemical\", \"china\", \"china\", \"china\", \"china\", \"china\", \"chinese\", \"chinese\", \"chinese\", \"chinese\", \"chinese\", \"city\", \"city\", \"city\", \"city\", \"city\", \"claim\", \"claim\", \"claim\", \"claim\", \"claim\", \"claims\", \"claims\", \"claims\", \"claims\", \"claims\", \"class\", \"class\", \"class\", \"class\", \"class\", \"classical\", \"classical\", \"classical\", \"classical\", \"classical\", \"clay\", \"clay\", \"clay\", \"clay\", \"clay\", \"clerical\", \"clerical\", \"clerical\", \"clerical\", \"clerical\", \"cloth\", \"cloth\", \"cloth\", \"cloth\", \"cloth\", \"clothes\", \"clothes\", \"clothes\", \"clothes\", \"clothes\", \"coach\", \"coach\", \"coach\", \"coach\", \"coach\", \"coal\", \"coal\", \"coal\", \"coal\", \"coal\", \"coat\", \"coat\", \"coat\", \"coat\", \"coat\", \"college\", \"college\", \"college\", \"college\", \"college\", \"colleges\", \"colleges\", \"colleges\", \"colleges\", \"colleges\", \"colored\", \"colored\", \"colored\", \"colored\", \"colored\", \"colors\", \"colors\", \"colors\", \"colors\", \"colors\", \"come\", \"come\", \"come\", \"come\", \"come\", \"committee\", \"committee\", \"committee\", \"committee\", \"committee\", \"commodities\", \"commodities\", \"commodities\", \"commodities\", \"commodities\", \"communist\", \"communist\", \"communist\", \"communist\", \"communist\", \"company\", \"company\", \"company\", \"company\", \"company\", \"compared\", \"compared\", \"compared\", \"compared\", \"compared\", \"components\", \"components\", \"components\", \"components\", \"components\", \"congo\", \"congo\", \"congo\", \"congo\", \"congo\", \"connections\", \"connections\", \"connections\", \"connections\", \"connections\", \"conservation\", \"conservation\", \"conservation\", \"conservation\", \"conservation\", \"coordination\", \"coordination\", \"coordination\", \"coordination\", \"coordination\", \"cost\", \"cost\", \"cost\", \"cost\", \"cost\", \"couldn\", \"couldn\", \"couldn\", \"couldn\", \"couldn\", \"countries\", \"countries\", \"countries\", \"countries\", \"countries\", \"county\", \"county\", \"county\", \"county\", \"county\", \"courses\", \"courses\", \"courses\", \"courses\", \"courses\", \"cousin\", \"cousin\", \"cousin\", \"cousin\", \"cousin\", \"creative\", \"creative\", \"creative\", \"creative\", \"creative\", \"cuba\", \"cuba\", \"cuba\", \"cuba\", \"cuba\", \"cuban\", \"cuban\", \"cuban\", \"cuban\", \"cuban\", \"curriculum\", \"curriculum\", \"curriculum\", \"curriculum\", \"curriculum\", \"daily\", \"daily\", \"daily\", \"daily\", \"daily\", \"day\", \"day\", \"day\", \"day\", \"day\", \"definition\", \"definition\", \"definition\", \"definition\", \"definition\", \"democratic\", \"democratic\", \"democratic\", \"democratic\", \"democratic\", \"democrats\", \"democrats\", \"democrats\", \"democrats\", \"democrats\", \"denied\", \"denied\", \"denied\", \"denied\", \"denied\", \"department\", \"department\", \"department\", \"department\", \"department\", \"design\", \"design\", \"design\", \"design\", \"design\", \"designer\", \"designer\", \"designer\", \"designer\", \"designer\", \"development\", \"development\", \"development\", \"development\", \"development\", \"didn\", \"didn\", \"didn\", \"didn\", \"didn\", \"don\", \"don\", \"don\", \"don\", \"don\", \"door\", \"door\", \"door\", \"door\", \"door\", \"dry\", \"dry\", \"dry\", \"dry\", \"dry\", \"east\", \"east\", \"east\", \"east\", \"east\", \"education\", \"education\", \"education\", \"education\", \"education\", \"eisenhower\", \"eisenhower\", \"eisenhower\", \"eisenhower\", \"eisenhower\", \"electronic\", \"electronic\", \"electronic\", \"electronic\", \"electronic\", \"engineer\", \"engineer\", \"engineer\", \"engineer\", \"engineer\", \"entrance\", \"entrance\", \"entrance\", \"entrance\", \"entrance\", \"equipment\", \"equipment\", \"equipment\", \"equipment\", \"equipment\", \"exercise\", \"exercise\", \"exercise\", \"exercise\", \"exercise\", \"eyes\", \"eyes\", \"eyes\", \"eyes\", \"eyes\", \"faculty\", \"faculty\", \"faculty\", \"faculty\", \"faculty\", \"federal\", \"federal\", \"federal\", \"federal\", \"federal\", \"feed\", \"feed\", \"feed\", \"feed\", \"feed\", \"fig\", \"fig\", \"fig\", \"fig\", \"fig\", \"filing\", \"filing\", \"filing\", \"filing\", \"filing\", \"fingers\", \"fingers\", \"fingers\", \"fingers\", \"fingers\", \"fiscal\", \"fiscal\", \"fiscal\", \"fiscal\", \"fiscal\", \"flowers\", \"flowers\", \"flowers\", \"flowers\", \"flowers\", \"forests\", \"forests\", \"forests\", \"forests\", \"forests\", \"frames\", \"frames\", \"frames\", \"frames\", \"frames\", \"fulfill\", \"fulfill\", \"fulfill\", \"fulfill\", \"fulfill\", \"game\", \"game\", \"game\", \"game\", \"game\", \"gen\", \"gen\", \"gen\", \"gen\", \"gen\", \"general\", \"general\", \"general\", \"general\", \"general\", \"good\", \"good\", \"good\", \"good\", \"good\", \"got\", \"got\", \"got\", \"got\", \"got\", \"government\", \"government\", \"government\", \"government\", \"government\", \"growth\", \"growth\", \"growth\", \"growth\", \"growth\", \"hadn\", \"hadn\", \"hadn\", \"hadn\", \"hadn\", \"hair\", \"hair\", \"hair\", \"hair\", \"hair\", \"ham\", \"ham\", \"ham\", \"ham\", \"ham\", \"handicapped\", \"handicapped\", \"handicapped\", \"handicapped\", \"handicapped\", \"handsome\", \"handsome\", \"handsome\", \"handsome\", \"handsome\", \"hated\", \"hated\", \"hated\", \"hated\", \"hated\", \"hearing\", \"hearing\", \"hearing\", \"hearing\", \"hearing\", \"hell\", \"hell\", \"hell\", \"hell\", \"hell\", \"high\", \"high\", \"high\", \"high\", \"high\", \"home\", \"home\", \"home\", \"home\", \"home\", \"house\", \"house\", \"house\", \"house\", \"house\", \"inc\", \"inc\", \"inc\", \"inc\", \"inc\", \"inch\", \"inch\", \"inch\", \"inch\", \"inch\", \"income\", \"income\", \"income\", \"income\", \"income\", \"india\", \"india\", \"india\", \"india\", \"india\", \"industrial\", \"industrial\", \"industrial\", \"industrial\", \"industrial\", \"industry\", \"industry\", \"industry\", \"industry\", \"industry\", \"insurance\", \"insurance\", \"insurance\", \"insurance\", \"insurance\", \"interference\", \"interference\", \"interference\", \"interference\", \"interference\", \"interior\", \"interior\", \"interior\", \"interior\", \"interior\", \"investment\", \"investment\", \"investment\", \"investment\", \"investment\", \"island\", \"island\", \"island\", \"island\", \"island\", \"islands\", \"islands\", \"islands\", \"islands\", \"islands\", \"john\", \"john\", \"john\", \"john\", \"john\", \"junior\", \"junior\", \"junior\", \"junior\", \"junior\", \"katanga\", \"katanga\", \"katanga\", \"katanga\", \"katanga\", \"kennedy\", \"kennedy\", \"kennedy\", \"kennedy\", \"kennedy\", \"khrushchev\", \"khrushchev\", \"khrushchev\", \"khrushchev\", \"khrushchev\", \"knew\", \"knew\", \"knew\", \"knew\", \"knew\", \"know\", \"know\", \"know\", \"know\", \"know\", \"labor\", \"labor\", \"labor\", \"labor\", \"labor\", \"laboratory\", \"laboratory\", \"laboratory\", \"laboratory\", \"laboratory\", \"laos\", \"laos\", \"laos\", \"laos\", \"laos\", \"league\", \"league\", \"league\", \"league\", \"league\", \"left\", \"left\", \"left\", \"left\", \"left\", \"let\", \"let\", \"let\", \"let\", \"let\", \"level\", \"level\", \"level\", \"level\", \"level\", \"life\", \"life\", \"life\", \"life\", \"life\", \"liked\", \"liked\", \"liked\", \"liked\", \"liked\", \"little\", \"little\", \"little\", \"little\", \"little\", \"ll\", \"ll\", \"ll\", \"ll\", \"ll\", \"local\", \"local\", \"local\", \"local\", \"local\", \"location\", \"location\", \"location\", \"location\", \"location\", \"look\", \"look\", \"look\", \"look\", \"look\", \"looked\", \"looked\", \"looked\", \"looked\", \"looked\", \"machine\", \"machine\", \"machine\", \"machine\", \"machine\", \"machinery\", \"machinery\", \"machinery\", \"machinery\", \"machinery\", \"machines\", \"machines\", \"machines\", \"machines\", \"machines\", \"man\", \"man\", \"man\", \"man\", \"man\", \"manufacturers\", \"manufacturers\", \"manufacturers\", \"manufacturers\", \"manufacturers\", \"market\", \"market\", \"market\", \"market\", \"market\", \"marketing\", \"marketing\", \"marketing\", \"marketing\", \"marketing\", \"mathematics\", \"mathematics\", \"mathematics\", \"mathematics\", \"mathematics\", \"mayor\", \"mayor\", \"mayor\", \"mayor\", \"mayor\", \"meat\", \"meat\", \"meat\", \"meat\", \"meat\", \"medical\", \"medical\", \"medical\", \"medical\", \"medical\", \"meeting\", \"meeting\", \"meeting\", \"meeting\", \"meeting\", \"members\", \"members\", \"members\", \"members\", \"members\", \"membership\", \"membership\", \"membership\", \"membership\", \"membership\", \"men\", \"men\", \"men\", \"men\", \"men\", \"military\", \"military\", \"military\", \"military\", \"military\", \"million\", \"million\", \"million\", \"million\", \"million\", \"missile\", \"missile\", \"missile\", \"missile\", \"missile\", \"missiles\", \"missiles\", \"missiles\", \"missiles\", \"missiles\", \"mobile\", \"mobile\", \"mobile\", \"mobile\", \"mobile\", \"monday\", \"monday\", \"monday\", \"monday\", \"monday\", \"moscow\", \"moscow\", \"moscow\", \"moscow\", \"moscow\", \"mother\", \"mother\", \"mother\", \"mother\", \"mother\", \"motors\", \"motors\", \"motors\", \"motors\", \"motors\", \"mr\", \"mr\", \"mr\", \"mr\", \"mr\", \"mrs\", \"mrs\", \"mrs\", \"mrs\", \"mrs\", \"music\", \"music\", \"music\", \"music\", \"music\", \"musical\", \"musical\", \"musical\", \"musical\", \"musical\", \"national\", \"national\", \"national\", \"national\", \"national\", \"nations\", \"nations\", \"nations\", \"nations\", \"nations\", \"officer\", \"officer\", \"officer\", \"officer\", \"officer\", \"old\", \"old\", \"old\", \"old\", \"old\", \"opposition\", \"opposition\", \"opposition\", \"opposition\", \"opposition\", \"pale\", \"pale\", \"pale\", \"pale\", \"pale\", \"party\", \"party\", \"party\", \"party\", \"party\", \"pay\", \"pay\", \"pay\", \"pay\", \"pay\", \"payment\", \"payment\", \"payment\", \"payment\", \"payment\", \"payments\", \"payments\", \"payments\", \"payments\", \"payments\", \"payroll\", \"payroll\", \"payroll\", \"payroll\", \"payroll\", \"people\", \"people\", \"people\", \"people\", \"people\", \"pieces\", \"pieces\", \"pieces\", \"pieces\", \"pieces\", \"pink\", \"pink\", \"pink\", \"pink\", \"pink\", \"place\", \"place\", \"place\", \"place\", \"place\", \"planning\", \"planning\", \"planning\", \"planning\", \"planning\", \"player\", \"player\", \"player\", \"player\", \"player\", \"police\", \"police\", \"police\", \"police\", \"police\", \"political\", \"political\", \"political\", \"political\", \"political\", \"pool\", \"pool\", \"pool\", \"pool\", \"pool\", \"pope\", \"pope\", \"pope\", \"pope\", \"pope\", \"precision\", \"precision\", \"precision\", \"precision\", \"precision\", \"premier\", \"premier\", \"premier\", \"premier\", \"premier\", \"president\", \"president\", \"president\", \"president\", \"president\", \"prestige\", \"prestige\", \"prestige\", \"prestige\", \"prestige\", \"problem\", \"problem\", \"problem\", \"problem\", \"problem\", \"proceedings\", \"proceedings\", \"proceedings\", \"proceedings\", \"proceedings\", \"procurement\", \"procurement\", \"procurement\", \"procurement\", \"procurement\", \"production\", \"production\", \"production\", \"production\", \"production\", \"products\", \"products\", \"products\", \"products\", \"products\", \"professors\", \"professors\", \"professors\", \"professors\", \"professors\", \"program\", \"program\", \"program\", \"program\", \"program\", \"property\", \"property\", \"property\", \"property\", \"property\", \"prosperity\", \"prosperity\", \"prosperity\", \"prosperity\", \"prosperity\", \"provide\", \"provide\", \"provide\", \"provide\", \"provide\", \"providence\", \"providence\", \"providence\", \"providence\", \"providence\", \"provisions\", \"provisions\", \"provisions\", \"provisions\", \"provisions\", \"public\", \"public\", \"public\", \"public\", \"public\", \"puerto\", \"puerto\", \"puerto\", \"puerto\", \"puerto\", \"race\", \"race\", \"race\", \"race\", \"race\", \"radiation\", \"radiation\", \"radiation\", \"radiation\", \"radiation\", \"railroad\", \"railroad\", \"railroad\", \"railroad\", \"railroad\", \"range\", \"range\", \"range\", \"range\", \"range\", \"rayburn\", \"rayburn\", \"rayburn\", \"rayburn\", \"rayburn\", \"recognition\", \"recognition\", \"recognition\", \"recognition\", \"recognition\", \"recommendation\", \"recommendation\", \"recommendation\", \"recommendation\", \"recommendation\", \"recreation\", \"recreation\", \"recreation\", \"recreation\", \"recreation\", \"rehabilitation\", \"rehabilitation\", \"rehabilitation\", \"rehabilitation\", \"rehabilitation\", \"rep\", \"rep\", \"rep\", \"rep\", \"rep\", \"republican\", \"republican\", \"republican\", \"republican\", \"republican\", \"republicans\", \"republicans\", \"republicans\", \"republicans\", \"republicans\", \"research\", \"research\", \"research\", \"research\", \"research\", \"return\", \"return\", \"return\", \"return\", \"return\", \"rhode\", \"rhode\", \"rhode\", \"rhode\", \"rhode\", \"rico\", \"rico\", \"rico\", \"rico\", \"rico\", \"right\", \"right\", \"right\", \"right\", \"right\", \"room\", \"room\", \"room\", \"room\", \"room\", \"said\", \"said\", \"said\", \"said\", \"said\", \"sales\", \"sales\", \"sales\", \"sales\", \"sales\", \"sat\", \"sat\", \"sat\", \"sat\", \"sat\", \"savings\", \"savings\", \"savings\", \"savings\", \"savings\", \"school\", \"school\", \"school\", \"school\", \"school\", \"schools\", \"schools\", \"schools\", \"schools\", \"schools\", \"secretary\", \"secretary\", \"secretary\", \"secretary\", \"secretary\", \"section\", \"section\", \"section\", \"section\", \"section\", \"sectors\", \"sectors\", \"sectors\", \"sectors\", \"sectors\", \"sept\", \"sept\", \"sept\", \"sept\", \"sept\", \"service\", \"service\", \"service\", \"service\", \"service\", \"services\", \"services\", \"services\", \"services\", \"services\", \"shall\", \"shall\", \"shall\", \"shall\", \"shall\", \"shares\", \"shares\", \"shares\", \"shares\", \"shares\", \"shelter\", \"shelter\", \"shelter\", \"shelter\", \"shelter\", \"shipments\", \"shipments\", \"shipments\", \"shipments\", \"shipments\", \"small\", \"small\", \"small\", \"small\", \"small\", \"southern\", \"southern\", \"southern\", \"southern\", \"southern\", \"soviet\", \"soviet\", \"soviet\", \"soviet\", \"soviet\", \"speaker\", \"speaker\", \"speaker\", \"speaker\", \"speaker\", \"st\", \"st\", \"st\", \"st\", \"st\", \"stared\", \"stared\", \"stared\", \"stared\", \"stared\", \"state\", \"state\", \"state\", \"state\", \"state\", \"states\", \"states\", \"states\", \"states\", \"states\", \"stations\", \"stations\", \"stations\", \"stations\", \"stations\", \"stockholders\", \"stockholders\", \"stockholders\", \"stockholders\", \"stockholders\", \"student\", \"student\", \"student\", \"student\", \"student\", \"students\", \"students\", \"students\", \"students\", \"students\", \"studio\", \"studio\", \"studio\", \"studio\", \"studio\", \"sun\", \"sun\", \"sun\", \"sun\", \"sun\", \"sure\", \"sure\", \"sure\", \"sure\", \"sure\", \"sweet\", \"sweet\", \"sweet\", \"sweet\", \"sweet\", \"system\", \"system\", \"system\", \"system\", \"system\", \"systems\", \"systems\", \"systems\", \"systems\", \"systems\", \"tax\", \"tax\", \"tax\", \"tax\", \"tax\", \"teachers\", \"teachers\", \"teachers\", \"teachers\", \"teachers\", \"technical\", \"technical\", \"technical\", \"technical\", \"technical\", \"tends\", \"tends\", \"tends\", \"tends\", \"tends\", \"thereof\", \"thereof\", \"thereof\", \"thereof\", \"thereof\", \"thought\", \"thought\", \"thought\", \"thought\", \"thought\", \"title\", \"title\", \"title\", \"title\", \"title\", \"tractor\", \"tractor\", \"tractor\", \"tractor\", \"tractor\", \"treasury\", \"treasury\", \"treasury\", \"treasury\", \"treasury\", \"trees\", \"trees\", \"trees\", \"trees\", \"trees\", \"troops\", \"troops\", \"troops\", \"troops\", \"troops\", \"trust\", \"trust\", \"trust\", \"trust\", \"trust\", \"trustees\", \"trustees\", \"trustees\", \"trustees\", \"trustees\", \"unions\", \"unions\", \"unions\", \"unions\", \"unions\", \"united\", \"united\", \"united\", \"united\", \"united\", \"university\", \"university\", \"university\", \"university\", \"university\", \"upstairs\", \"upstairs\", \"upstairs\", \"upstairs\", \"upstairs\", \"use\", \"use\", \"use\", \"use\", \"use\", \"utility\", \"utility\", \"utility\", \"utility\", \"utility\", \"ve\", \"ve\", \"ve\", \"ve\", \"ve\", \"vehicles\", \"vehicles\", \"vehicles\", \"vehicles\", \"vehicles\", \"vocational\", \"vocational\", \"vocational\", \"vocational\", \"vocational\", \"walls\", \"walls\", \"walls\", \"walls\", \"walls\", \"war\", \"war\", \"war\", \"war\", \"war\", \"wasn\", \"wasn\", \"wasn\", \"wasn\", \"wasn\", \"water\", \"water\", \"water\", \"water\", \"water\", \"way\", \"way\", \"way\", \"way\", \"way\", \"week\", \"week\", \"week\", \"week\", \"week\", \"went\", \"went\", \"went\", \"went\", \"went\", \"west\", \"west\", \"west\", \"west\", \"west\", \"windows\", \"windows\", \"windows\", \"windows\", \"windows\", \"woman\", \"woman\", \"woman\", \"woman\", \"woman\", \"wondered\", \"wondered\", \"wondered\", \"wondered\", \"wondered\", \"work\", \"work\", \"work\", \"work\", \"work\", \"world\", \"world\", \"world\", \"world\", \"world\", \"yankees\", \"yankees\", \"yankees\", \"yankees\", \"yankees\", \"yards\", \"yards\", \"yards\", \"yards\", \"yards\", \"yellow\", \"yellow\", \"yellow\", \"yellow\", \"yellow\", \"yesterday\", \"yesterday\", \"yesterday\", \"yesterday\", \"yesterday\", \"yield\", \"yield\", \"yield\", \"yield\", \"yield\", \"york\", \"york\", \"york\", \"york\", \"york\"]}, \"R\": 30, \"lambda.step\": 0.01, \"plot.opts\": {\"xlab\": \"PC1\", \"ylab\": \"PC2\"}, \"topic.order\": [3, 1, 2, 4, 5]};\n",
              "\n",
              "function LDAvis_load_lib(url, callback){\n",
              "  var s = document.createElement('script');\n",
              "  s.src = url;\n",
              "  s.async = true;\n",
              "  s.onreadystatechange = s.onload = callback;\n",
              "  s.onerror = function(){console.warn(\"failed to load library \" + url);};\n",
              "  document.getElementsByTagName(\"head\")[0].appendChild(s);\n",
              "}\n",
              "\n",
              "if(typeof(LDAvis) !== \"undefined\"){\n",
              "   // already loaded: just create the visualization\n",
              "   !function(LDAvis){\n",
              "       new LDAvis(\"#\" + \"ldavis_el2131369267600234564339480681\", ldavis_el2131369267600234564339480681_data);\n",
              "   }(LDAvis);\n",
              "}else if(typeof define === \"function\" && define.amd){\n",
              "   // require.js is available: use it to load d3/LDAvis\n",
              "   require.config({paths: {d3: \"https://d3js.org/d3.v5\"}});\n",
              "   require([\"d3\"], function(d3){\n",
              "      window.d3 = d3;\n",
              "      LDAvis_load_lib(\"https://cdn.jsdelivr.net/gh/bmabey/pyLDAvis@3.4.0/pyLDAvis/js/ldavis.v3.0.0.js\", function(){\n",
              "        new LDAvis(\"#\" + \"ldavis_el2131369267600234564339480681\", ldavis_el2131369267600234564339480681_data);\n",
              "      });\n",
              "    });\n",
              "}else{\n",
              "    // require.js not available: dynamically load d3 & LDAvis\n",
              "    LDAvis_load_lib(\"https://d3js.org/d3.v5.js\", function(){\n",
              "         LDAvis_load_lib(\"https://cdn.jsdelivr.net/gh/bmabey/pyLDAvis@3.4.0/pyLDAvis/js/ldavis.v3.0.0.js\", function(){\n",
              "                 new LDAvis(\"#\" + \"ldavis_el2131369267600234564339480681\", ldavis_el2131369267600234564339480681_data);\n",
              "            })\n",
              "         });\n",
              "}\n",
              "</script>"
            ]
          },
          "metadata": {},
          "execution_count": 22
        }
      ],
      "source": [
        "# 1. Fit the LDA model\n",
        "from sklearn.decomposition import LatentDirichletAllocation\n",
        "\n",
        "lda_model = LatentDirichletAllocation(n_components=5, random_state=314)\n",
        "lda_model.fit(count_text_vectors)\n",
        "\n",
        "# 2. Get the topic-term distribution matrix from the LDA model\n",
        "topic_term_dists = lda_model.components_\n",
        "\n",
        "# 3. Get the document-topic distribution matrix from the LDA model\n",
        "doc_topic_dists = lda_model.transform(count_text_vectors)\n",
        "\n",
        "# 4. Get vocabulary and term frequency from the count vectorizer\n",
        "vocab = count_text_vectorizer.get_feature_names_out()\n",
        "term_frequency = np.ravel(count_text_vectors.sum(axis=0))  # Convert to 1-dimensional array\n",
        "\n",
        "# Get the lengths of each document\n",
        "doc_lengths = np.squeeze(np.asarray(count_text_vectors.sum(axis=1)))\n",
        "\n",
        "# Display the topic-term distribution using pyLDAvis.display\n",
        "pyLDAvis.display(pyLDAvis.prepare(topic_term_dists, doc_topic_dists, doc_lengths, vocab=vocab, term_frequency=term_frequency))\n"
      ]
    },
    {
      "cell_type": "code",
      "execution_count": 23,
      "id": "ab18adf5",
      "metadata": {
        "id": "ab18adf5",
        "colab": {
          "base_uri": "https://localhost:8080/"
        },
        "outputId": "7a3afab9-9ea3-461c-9a51-07a55e58b9ac"
      },
      "outputs": [
        {
          "output_type": "stream",
          "name": "stdout",
          "text": [
            "Topic 0:\n",
            "said mrs little good way don ll old man thought\n",
            "\n",
            "Topic 1:\n",
            "state development 000 program business system sales small use 1960\n",
            "\n",
            "Topic 2:\n",
            "said mr president city state american john week home world\n",
            "\n",
            "Topic 3:\n",
            "feed college general university work president student students members schools\n",
            "\n",
            "Topic 4:\n",
            "states state united shall government tax fiscal department act class\n",
            "\n"
          ]
        },
        {
          "output_type": "stream",
          "name": "stderr",
          "text": [
            "/usr/local/lib/python3.10/dist-packages/ipykernel/ipkernel.py:283: DeprecationWarning: `should_run_async` will not call `transform_cell` automatically in the future. Please pass the result to `transformed_cell` argument and any exception that happen during thetransform in `preprocessing_exc_tuple` in IPython 7.17 and above.\n",
            "  and should_run_async(code)\n"
          ]
        }
      ],
      "source": [
        "# Call `display_topics` on your fitted model here\n",
        "\n",
        "def display_topics(model, feature_names, no_top_words):\n",
        "    for topic_idx, topic in enumerate(model.components_):\n",
        "        print(f\"Topic {topic_idx}:\")\n",
        "        print(\" \".join([feature_names[i] for i in topic.argsort()[:-no_top_words - 1:-1]]))\n",
        "        print()\n",
        "\n",
        "# Define the number of top words to display for each topic\n",
        "no_top_words = 10\n",
        "\n",
        "# Call the display_topics function on your fitted LDA model\n",
        "display_topics(lda_model, vocab, no_top_words)"
      ]
    },
    {
      "cell_type": "markdown",
      "id": "f2c67876",
      "metadata": {
        "id": "f2c67876"
      },
      "source": [
        "Q: What inference do you draw from the displayed topics for your LDA model?\n",
        "\n",
        "A: The initial inference is predominately on the usage of those specific terms and the context. For example, topic zero seems to display more of a conversational context while topic 1 is economically or business driven. Topic 2 is more politically focused while topic 3 revolves around education. Lastly, topic 4 appears to be a combination of both economical and political.\n",
        "\n",
        "Q: Repeat the tallying of Brown categories within your topics. How does your five-topic LDA model compare to the original Brown categories?\n",
        "\n",
        "A: I pasted the comparative code below to compare to the original brown categories and found that the categories did align with the perceived types.This output does show the category where the category were the words reside within and see if the context does match."
      ]
    },
    {
      "cell_type": "code",
      "source": [
        "from collections import defaultdict\n",
        "\n",
        "# Tally the Brown categories for each topic in the LDA model\n",
        "topic_categories = []\n",
        "\n",
        "for topic_idx, topic in enumerate(lda_model.components_):\n",
        "    topic_words = [vocab[i] for i in topic.argsort()[:-6:-1]]\n",
        "    topic_words_str = \", \".join(topic_words)\n",
        "\n",
        "    topic_categories_count = defaultdict(int)\n",
        "\n",
        "    for idx, text_vector in enumerate(doc_topic_dists):\n",
        "        if np.argmax(text_vector) == topic_idx:\n",
        "            category = df.iloc[idx]['category']\n",
        "            topic_categories_count[category] += 1\n",
        "\n",
        "    topic_categories.append((topic_idx, topic_words_str, dict(topic_categories_count)))\n",
        "\n",
        "# Interpret the results\n",
        "for topic_idx, topic_words, categories_count in topic_categories:\n",
        "    print(f\"\\nTopic {topic_idx + 1}:\")\n",
        "    print(f\"Top words: {topic_words}\")\n",
        "    print(\"Categories breakdown:\")\n",
        "    total_texts = sum(categories_count.values())\n",
        "    for category, count in categories_count.items():\n",
        "        percentage = (count / total_texts) * 100\n",
        "        print(f\" - {category}: {count} texts ({percentage:.2f}% of total texts in this topic)\")"
      ],
      "metadata": {
        "id": "Lby4XggDdBOE",
        "colab": {
          "base_uri": "https://localhost:8080/"
        },
        "outputId": "67a332d0-3e83-4494-cd9b-702953feb538"
      },
      "id": "Lby4XggDdBOE",
      "execution_count": 24,
      "outputs": [
        {
          "output_type": "stream",
          "name": "stdout",
          "text": [
            "\n",
            "Topic 1:\n",
            "Top words: said, mrs, little, good, way\n",
            "Categories breakdown:\n",
            " - editorial: 3 texts (6.38% of total texts in this topic)\n",
            " - government: 1 texts (2.13% of total texts in this topic)\n",
            " - news: 4 texts (8.51% of total texts in this topic)\n",
            " - romance: 28 texts (59.57% of total texts in this topic)\n",
            " - hobbies: 11 texts (23.40% of total texts in this topic)\n",
            "\n",
            "Topic 2:\n",
            "Top words: state, development, 000, program, business\n",
            "Categories breakdown:\n",
            " - editorial: 1 texts (4.00% of total texts in this topic)\n",
            " - government: 12 texts (48.00% of total texts in this topic)\n",
            " - news: 3 texts (12.00% of total texts in this topic)\n",
            " - hobbies: 9 texts (36.00% of total texts in this topic)\n",
            "\n",
            "Topic 3:\n",
            "Top words: said, mr, president, city, state\n",
            "Categories breakdown:\n",
            " - editorial: 21 texts (35.59% of total texts in this topic)\n",
            " - government: 3 texts (5.08% of total texts in this topic)\n",
            " - news: 32 texts (54.24% of total texts in this topic)\n",
            " - romance: 1 texts (1.69% of total texts in this topic)\n",
            " - hobbies: 2 texts (3.39% of total texts in this topic)\n",
            "\n",
            "Topic 4:\n",
            "Top words: feed, college, general, university, work\n",
            "Categories breakdown:\n",
            " - editorial: 2 texts (11.76% of total texts in this topic)\n",
            " - government: 4 texts (23.53% of total texts in this topic)\n",
            " - news: 3 texts (17.65% of total texts in this topic)\n",
            " - hobbies: 8 texts (47.06% of total texts in this topic)\n",
            "\n",
            "Topic 5:\n",
            "Top words: states, state, united, shall, government\n",
            "Categories breakdown:\n",
            " - government: 10 texts (55.56% of total texts in this topic)\n",
            " - news: 2 texts (11.11% of total texts in this topic)\n",
            " - hobbies: 6 texts (33.33% of total texts in this topic)\n"
          ]
        },
        {
          "output_type": "stream",
          "name": "stderr",
          "text": [
            "/usr/local/lib/python3.10/dist-packages/ipykernel/ipkernel.py:283: DeprecationWarning: `should_run_async` will not call `transform_cell` automatically in the future. Please pass the result to `transformed_cell` argument and any exception that happen during thetransform in `preprocessing_exc_tuple` in IPython 7.17 and above.\n",
            "  and should_run_async(code)\n"
          ]
        }
      ]
    },
    {
      "cell_type": "code",
      "execution_count": 26,
      "id": "6aae75ca",
      "metadata": {
        "id": "6aae75ca",
        "colab": {
          "base_uri": "https://localhost:8080/"
        },
        "outputId": "44fe56f3-dcc4-4187-ec89-cc86e8a90625"
      },
      "outputs": [
        {
          "output_type": "stream",
          "name": "stderr",
          "text": [
            "/usr/local/lib/python3.10/dist-packages/ipykernel/ipkernel.py:283: DeprecationWarning: `should_run_async` will not call `transform_cell` automatically in the future. Please pass the result to `transformed_cell` argument and any exception that happen during thetransform in `preprocessing_exc_tuple` in IPython 7.17 and above.\n",
            "  and should_run_async(code)\n"
          ]
        }
      ],
      "source": [
        "lda_display = pyLDAvis.lda_model.prepare(lda_model, count_text_vectors, count_text_vectorizer, sort_topics=False)"
      ]
    },
    {
      "cell_type": "code",
      "source": [
        "# 1. Get the topic-term distribution matrix from the LDA model\n",
        "topic_term_dists = lda_model.components_\n",
        "\n",
        "# 2. Display the topic-term distribution using pyLDAvis.display\n",
        "lda_display = pyLDAvis.prepare(topic_term_dists, doc_topic_dists, doc_lengths, vocab=vocab, term_frequency=term_frequency, sort_topics=False)"
      ],
      "metadata": {
        "id": "c2pOefaz21uc",
        "colab": {
          "base_uri": "https://localhost:8080/"
        },
        "outputId": "e41c5ba2-a16e-4acd-d8e6-fe6c8e7af5d7"
      },
      "id": "c2pOefaz21uc",
      "execution_count": 27,
      "outputs": [
        {
          "output_type": "stream",
          "name": "stderr",
          "text": [
            "/usr/local/lib/python3.10/dist-packages/ipykernel/ipkernel.py:283: DeprecationWarning: `should_run_async` will not call `transform_cell` automatically in the future. Please pass the result to `transformed_cell` argument and any exception that happen during thetransform in `preprocessing_exc_tuple` in IPython 7.17 and above.\n",
            "  and should_run_async(code)\n"
          ]
        }
      ]
    },
    {
      "cell_type": "code",
      "execution_count": 28,
      "id": "2a89fc15",
      "metadata": {
        "id": "2a89fc15",
        "colab": {
          "base_uri": "https://localhost:8080/",
          "height": 916
        },
        "outputId": "62d7b556-7fe7-43f2-a3b8-030948816894"
      },
      "outputs": [
        {
          "output_type": "stream",
          "name": "stderr",
          "text": [
            "/usr/local/lib/python3.10/dist-packages/ipykernel/ipkernel.py:283: DeprecationWarning: `should_run_async` will not call `transform_cell` automatically in the future. Please pass the result to `transformed_cell` argument and any exception that happen during thetransform in `preprocessing_exc_tuple` in IPython 7.17 and above.\n",
            "  and should_run_async(code)\n"
          ]
        },
        {
          "output_type": "execute_result",
          "data": {
            "text/plain": [
              "<IPython.core.display.HTML object>"
            ],
            "text/html": [
              "\n",
              "<link rel=\"stylesheet\" type=\"text/css\" href=\"https://cdn.jsdelivr.net/gh/bmabey/pyLDAvis@3.4.0/pyLDAvis/js/ldavis.v1.0.0.css\">\n",
              "\n",
              "\n",
              "<div id=\"ldavis_el2131369267218142889436999702\" style=\"background-color:white;\"></div>\n",
              "<script type=\"text/javascript\">\n",
              "\n",
              "var ldavis_el2131369267218142889436999702_data = {\"mdsDat\": {\"x\": [-0.24634857846584604, 0.11485544426263437, -0.08445527841756861, 0.0627502347366135, 0.15319817788416673], \"y\": [0.07222266393585537, -0.016170874458539337, -0.14871309184128945, 0.07856325359517057, 0.014098048768802952], \"topics\": [1, 2, 3, 4, 5], \"cluster\": [1, 1, 1, 1, 1], \"Freq\": [22.896957296534485, 20.43196854284181, 32.006264072526896, 12.368825612932008, 12.295984475164804]}, \"tinfo\": {\"Term\": [\"said\", \"mrs\", \"state\", \"mr\", \"states\", \"development\", \"united\", \"president\", \"ll\", \"don\", \"city\", \"john\", \"000\", \"didn\", \"little\", \"got\", \"mother\", \"sales\", \"kennedy\", \"tax\", \"thought\", \"old\", \"khrushchev\", \"went\", \"soviet\", \"west\", \"equipment\", \"man\", \"rhode\", \"shall\", \"hair\", \"baby\", \"clothes\", \"walls\", \"anne\", \"fig\", \"pale\", \"pink\", \"couldn\", \"dry\", \"entrance\", \"yellow\", \"ham\", \"flowers\", \"frames\", \"fingers\", \"bed\", \"hadn\", \"windows\", \"bride\", \"hell\", \"handsome\", \"coat\", \"sweet\", \"cloth\", \"stared\", \"liked\", \"studio\", \"colored\", \"wondered\", \"shelter\", \"trees\", \"sat\", \"looked\", \"clay\", \"mother\", \"colors\", \"pieces\", \"wasn\", \"woman\", \"didn\", \"inch\", \"thought\", \"eyes\", \"don\", \"ll\", \"mrs\", \"sure\", \"room\", \"sun\", \"ve\", \"little\", \"black\", \"knew\", \"went\", \"look\", \"door\", \"got\", \"water\", \"way\", \"place\", \"good\", \"know\", \"said\", \"come\", \"came\", \"old\", \"right\", \"away\", \"man\", \"let\", \"life\", \"house\", \"left\", \"day\", \"home\", \"systems\", \"marketing\", \"electronic\", \"boats\", \"missiles\", \"components\", \"assessment\", \"laboratory\", \"shipments\", \"industrial\", \"aircraft\", \"machine\", \"yield\", \"compared\", \"rhode\", \"missile\", \"bankers\", \"savings\", \"forests\", \"procurement\", \"machines\", \"property\", \"investment\", \"utility\", \"banks\", \"precision\", \"conservation\", \"inc\", \"location\", \"mobile\", \"recreation\", \"shares\", \"medical\", \"planning\", \"development\", \"sales\", \"equipment\", \"industry\", \"manufacturers\", \"machinery\", \"products\", \"system\", \"radiation\", \"production\", \"providence\", \"billion\", \"research\", \"island\", \"1960\", \"cost\", \"available\", \"growth\", \"business\", \"program\", \"range\", \"million\", \"000\", \"provide\", \"state\", \"small\", \"company\", \"market\", \"use\", \"service\", \"1961\", \"national\", \"tax\", \"areas\", \"military\", \"public\", \"khrushchev\", \"player\", \"rayburn\", \"congo\", \"republican\", \"moscow\", \"southern\", \"baseball\", \"railroad\", \"castro\", \"troops\", \"yards\", \"charter\", \"yankees\", \"laos\", \"premier\", \"alexander\", \"soviet\", \"democrats\", \"captain\", \"chinese\", \"coach\", \"gen\", \"cuban\", \"opposition\", \"berlin\", \"speaker\", \"katanga\", \"republicans\", \"pope\", \"democratic\", \"mayor\", \"eisenhower\", \"cuba\", \"communist\", \"league\", \"police\", \"china\", \"yesterday\", \"race\", \"monday\", \"kennedy\", \"west\", \"st\", \"john\", \"east\", \"city\", \"mr\", \"president\", \"meeting\", \"political\", \"party\", \"week\", \"said\", \"war\", \"committee\", \"nations\", \"game\", \"american\", \"world\", \"york\", \"home\", \"county\", \"united\", \"man\", \"people\", \"state\", \"house\", \"day\", \"old\", \"000\", \"government\", \"men\", \"national\", \"states\", \"school\", \"academic\", \"faculty\", \"trustees\", \"campus\", \"recognition\", \"classical\", \"professors\", \"mathematics\", \"musical\", \"tends\", \"stockholders\", \"feed\", \"fulfill\", \"unions\", \"meat\", \"chemical\", \"motors\", \"prosperity\", \"designer\", \"curriculum\", \"clerical\", \"cattle\", \"authorities\", \"handicapped\", \"prestige\", \"creative\", \"appearances\", \"sept\", \"rep\", \"colleges\", \"trust\", \"music\", \"teachers\", \"student\", \"catholic\", \"students\", \"engineer\", \"interior\", \"college\", \"membership\", \"pool\", \"chamber\", \"courses\", \"education\", \"university\", \"daily\", \"schools\", \"art\", \"general\", \"technical\", \"design\", \"members\", \"level\", \"anti\", \"administration\", \"work\", \"labor\", \"problem\", \"school\", \"president\", \"board\", \"department\", \"american\", \"good\", \"men\", \"aid\", \"world\", \"high\", \"cousin\", \"rehabilitation\", \"coal\", \"vocational\", \"denied\", \"definition\", \"thereof\", \"puerto\", \"rico\", \"bonds\", \"payment\", \"recommendation\", \"coordination\", \"filing\", \"allocation\", \"proceedings\", \"adopting\", \"commodities\", \"calendar\", \"hated\", \"62\", \"sectors\", \"connections\", \"tractor\", \"adjustments\", \"vehicles\", \"islands\", \"payroll\", \"exercise\", \"upstairs\", \"shall\", \"payments\", \"authorized\", \"fiscal\", \"india\", \"treasury\", \"interference\", \"claim\", \"provisions\", \"insurance\", \"claims\", \"stations\", \"class\", \"states\", \"income\", \"tax\", \"act\", \"united\", \"return\", \"department\", \"state\", \"junior\", \"countries\", \"government\", \"title\", \"cars\", \"section\", \"secretary\", \"agreement\", \"hearing\", \"officer\", \"use\", \"service\", \"federal\", \"30\", \"board\", \"services\", \"pay\", \"local\", \"day\"], \"Freq\": [28468053.0, 9823090.0, 13338265.0, 14428477.0, 8150759.0, 4929350.0, 8286344.0, 10070685.0, 5202931.0, 5398137.0, 8078555.0, 6529074.0, 8644330.0, 3773364.0, 7146225.0, 4827252.0, 2927432.0, 3105582.0, 4844286.0, 3563414.0, 4101494.0, 8428620.0, 2977478.0, 4366281.0, 3236974.0, 4171654.0, 2813293.0, 9391511.0, 2334785.0, 2351180.0, 1033213.619987839, 1033032.6444377858, 947570.3551377213, 947452.7006143508, 1002979.603686462, 917827.192732952, 776345.6221786615, 747817.086785909, 1507068.333190671, 690641.6212403063, 633399.5210011059, 744956.6706529466, 576452.7631009629, 682784.0962242145, 603231.8312874412, 519340.1946846123, 1000479.7917802444, 908024.9278313706, 490794.2899527494, 517923.7514606784, 462370.13544011634, 462337.22443289653, 461879.35927916097, 433806.87553899863, 433821.2234251885, 433797.1359475693, 433768.9344245348, 433401.7944464555, 460599.1533812257, 405232.7097642867, 1675950.6123442452, 812790.1266087883, 1023491.4761349729, 2312581.0800572936, 2218151.3360025217, 2638546.710193306, 795190.7402664616, 1415006.3662127592, 1579358.1144588734, 1472234.3543214025, 3185560.593918847, 1707518.1150447142, 3324995.598388368, 2460767.518362718, 4166874.788990189, 3947479.0571471695, 6865401.320818173, 2074493.7972325354, 2481731.7920652116, 1401926.390749673, 2045626.820149229, 4685837.077682607, 1595181.6892238446, 2089776.7610294663, 2943807.9221312352, 2611871.7860610816, 1657205.228458792, 2975112.1697863997, 2743854.9361431883, 4191977.8368452424, 3153515.3605869384, 4298563.388385913, 3304845.6013170634, 8794922.878527494, 3183718.233366728, 2869180.2691875254, 3671954.803068724, 3099890.9100183975, 2397682.121695182, 3587032.4662048314, 2237723.9805737017, 2398195.177887254, 2569740.2107765363, 2380682.4441668205, 2518169.5257457998, 2464254.659746197, 998234.6150098653, 1094822.3964387595, 692774.5239880513, 1008704.083013128, 590152.3628757509, 563154.0588007688, 457090.9383257286, 432269.5982163436, 360855.18249181024, 1911499.497145366, 1439453.107502382, 1337195.1214529362, 401554.7613080979, 652066.9569114057, 2184796.6437895577, 970755.6402055413, 284996.654495892, 451228.41974634235, 396377.3764865861, 462995.9265083118, 767062.1915247189, 2256597.404595311, 661186.7034824002, 300429.77339720976, 431657.7873606079, 539938.6009516004, 208422.4239606241, 402283.5418752803, 683682.443549777, 359765.8647931848, 865657.7296979729, 863074.2750959767, 2232135.725676785, 1918268.7609148575, 4261021.481451114, 2712093.221193415, 2442246.23059573, 2261550.5557188666, 943819.7222877268, 800793.8724494049, 1318657.0338765525, 2945065.819807308, 833710.5473973242, 1694217.2276810147, 1042034.3208801916, 1251192.3818658246, 1927320.9014784351, 2348665.972435536, 2473264.199563946, 1953210.4175687865, 1981115.642776217, 1131436.9659168355, 3003661.6865251632, 3277241.2549903793, 1432460.865687762, 2100501.7442526524, 3837640.601575077, 1764573.5693101224, 4496664.192758089, 2664843.4045052812, 2020027.9476649112, 1481444.0860989736, 2531818.382324819, 2299725.8289420647, 1782069.381956793, 2446503.4284941265, 1800142.5028733986, 1661886.3159477934, 1731475.4918871925, 1741021.2015186248, 2960499.648776129, 1962672.1429565484, 1883191.5455191466, 1763318.7924245559, 1603846.267401274, 1524090.925329943, 1404225.1812302237, 1597418.9554171748, 1324173.5667234724, 1204810.5271879537, 1085118.1095069007, 1084584.8144475282, 1123320.1802172032, 1045314.3776717924, 2000455.6591770276, 1005381.1644828183, 1005085.1399541098, 3182334.718931501, 965504.6938469459, 965203.4203228983, 925326.6124842397, 924961.7461593846, 885233.024968407, 845695.0312078379, 844979.4375936778, 2549186.416067117, 1639428.7620698938, 805683.0346857029, 805300.0056213314, 805082.1916382975, 2379053.1086338256, 1742527.3711370125, 1558222.6321327428, 1481599.8823873438, 2861201.6984151145, 2338190.9423734727, 1789356.293006948, 1323626.3553948312, 2339741.1892554355, 1633178.1012254478, 2357300.4645532933, 4481490.168608482, 3874090.4401330664, 2881866.4947341573, 5765066.58276977, 3380980.522198665, 6960137.84538534, 11607175.048985193, 8281932.856796431, 3392186.824956843, 2864733.731821263, 3710131.676718039, 5675515.0708598, 18986176.503515124, 4556591.500149097, 3377251.6805984406, 2708083.6994267404, 2978670.0813591387, 5993375.777723776, 5569603.882191173, 3904165.223723221, 5645734.692010313, 3097907.617431773, 5065028.636204733, 5224648.48744001, 4772330.494993085, 6001400.589315044, 4457953.865461941, 4822270.957603496, 4385575.755562938, 4245886.229459426, 4012688.1366291824, 3647551.1938480716, 3692422.0261257584, 3877061.1463528527, 3380584.128050226, 465587.4435657072, 819145.194957457, 309726.9684433751, 249064.781065697, 259015.5536282725, 156898.88509945013, 141105.99972560623, 126315.71423132723, 308244.0841594292, 125858.53313038748, 305792.9531925152, 1413452.1862905535, 110846.62970611286, 311126.67327898287, 327105.27818133147, 387438.659282801, 640292.9647417499, 79899.23171987671, 247779.87303094048, 117367.21209191986, 78057.69736409473, 290946.9596025018, 121999.34216403299, 167596.52626006838, 171385.73612848972, 215154.9527653381, 75994.50572073544, 125995.71312373069, 180725.33620755182, 273027.0719183999, 497259.8425326186, 783795.5435554712, 428860.86233002867, 919886.6978883438, 426498.43170631205, 887063.3238057962, 417494.2846644787, 479290.3947203487, 1399702.7155902975, 325162.14458432223, 730270.9101580837, 359054.44625527004, 298683.5864977023, 776987.4430766164, 1121708.9561908443, 557926.0725054243, 825565.07099096, 583451.6768426673, 1132699.3141046106, 521881.95189546904, 586542.0753609847, 864108.7027097828, 589689.2047728222, 537380.0345053489, 744765.1069863866, 945552.8558430778, 567370.6400643898, 663552.1200865909, 789522.039227229, 932148.0240635558, 715009.8579257708, 636323.3903997893, 720022.2855597787, 718138.3646040739, 640379.7152963757, 570271.2864955604, 629861.7438918675, 583282.1912559192, 416058.76009597594, 294281.8199073791, 377984.3433003917, 217065.10935053814, 288383.2314271921, 201912.01975138, 184569.10299118803, 288954.9998247131, 288999.2092770863, 476373.5631431651, 614207.8214455569, 268565.7543189352, 110070.493904186, 259563.1453883538, 170858.572223197, 107233.3325571791, 94754.48586513562, 239707.19583347038, 336347.0855531699, 94033.8145311729, 92460.8744591446, 79576.134554003, 92707.04058178242, 325879.1212503522, 182390.75931026408, 594447.8221184601, 214062.81343852583, 194365.05330809797, 366760.6723589753, 90754.54161671606, 1690737.5924222388, 533167.8739151736, 394744.0854383731, 1374477.0458913306, 494756.8530885204, 382152.6257324486, 476207.5653191677, 548558.8907369784, 297984.1624169703, 430463.55612382235, 371236.013408083, 728221.1423523669, 1061650.61801302, 2929703.870569075, 836280.5376026146, 1448265.940871063, 1086478.7228723415, 2145730.267648923, 687894.645568971, 1103806.769660399, 2612034.5447089584, 666993.0778314886, 792506.7576826978, 1562535.069653033, 501200.98715433077, 671989.0133458485, 696310.210640431, 916486.6135187342, 649091.4272752726, 565139.1284792975, 551234.5237048091, 958909.5861490786, 880756.7202367249, 722523.1546548607, 705662.6266719938, 710725.9885867975, 615498.6162354317, 619972.5393132336, 614083.3075584591, 621298.6099151178], \"Total\": [28468053.0, 9823090.0, 13338265.0, 14428477.0, 8150759.0, 4929350.0, 8286344.0, 10070685.0, 5202931.0, 5398137.0, 8078555.0, 6529074.0, 8644330.0, 3773364.0, 7146225.0, 4827252.0, 2927432.0, 3105582.0, 4844286.0, 3563414.0, 4101494.0, 8428620.0, 2977478.0, 4366281.0, 3236974.0, 4171654.0, 2813293.0, 9391511.0, 2334785.0, 2351180.0, 1052515.381582007, 1052498.4033288225, 966878.6913632182, 966886.2000907318, 1023917.407406125, 938291.727641892, 795603.626016032, 767075.3498302404, 1548499.697628981, 709958.5351819162, 652893.7522406918, 768081.0702725351, 595786.9339130649, 706616.1954053041, 625083.1696894286, 538663.0880768548, 1037770.2250706474, 942736.4323016698, 510149.9937877714, 539308.9352748791, 481640.6422009172, 481639.32498446363, 481535.7984271563, 453076.0586109901, 453093.3076935495, 453103.4155000628, 453097.9599886303, 453071.0242002532, 482152.8751123066, 424518.7619497584, 1794113.936517642, 860773.0779227961, 1095367.8652160952, 2540322.1027047085, 2435667.4507728172, 2927432.66738258, 848564.4888873177, 1548486.6710857272, 1751106.012551394, 1645131.6994821827, 3773364.3472793205, 1937392.428639015, 4101494.422643336, 2976898.85345302, 5398137.644605226, 5202931.119670864, 9823090.307567244, 2580830.2341708136, 3194086.627100829, 1640814.9967619309, 2594264.5677258787, 7146225.943290693, 1928645.5094015466, 2744247.9898883617, 4366281.108898523, 3773701.790580408, 2106121.209511875, 4827252.451965785, 4385866.421909045, 8171295.370900476, 5460498.308552156, 8786765.16073457, 5943193.160095932, 28468053.063853323, 5881006.701543096, 5264410.486796378, 8428620.982008997, 6359468.676629564, 3942230.329472023, 9391511.346943492, 3594716.248649108, 4816848.293145382, 7781972.417285068, 5442529.919880513, 9257936.761318982, 9087137.873662386, 1018240.5645324098, 1118004.4079294456, 712653.9209505176, 1038135.6891401227, 611160.9883013399, 584862.1781530463, 480989.69917750254, 455690.8589786703, 381244.9172483172, 2026308.7405011263, 1526187.2609391192, 1423780.4015040107, 428177.4454071061, 696522.9291533611, 2334785.579458956, 1038248.754360241, 305127.81735398225, 484838.43546701176, 426090.89718178264, 498533.0515252576, 832959.1115871738, 2454433.038458334, 719375.7659478234, 327358.31664027757, 471273.1594315622, 590666.1672864836, 228752.86028816956, 444010.5463577046, 755714.6617190852, 398394.52069392375, 961237.4959430478, 959505.4907838685, 2522879.87720623, 2162888.4563472127, 4929350.423564506, 3105582.4440800804, 2813293.6130821975, 2612857.735817722, 1058465.7052078443, 900473.1863385574, 1557484.3529871833, 3786351.4686026415, 952697.7757882122, 2124745.5651019914, 1229353.051237718, 1547483.2952607512, 2615866.2606435916, 3381804.3219116917, 3666508.9002144616, 2844314.9523158586, 2903422.0403170437, 1412158.4683353535, 5528643.467110696, 6252129.490498352, 1976045.8508709176, 3452436.752641921, 8644330.973274034, 2776179.8180180895, 13338265.121260671, 5989155.985840794, 3728223.413446341, 2132912.8113672365, 6440277.773591712, 5327728.30370051, 3169344.7469906155, 6736610.507154103, 3563414.6630379986, 2794169.7842712076, 3964417.9841410015, 5956429.226620852, 2977478.349963701, 1979894.3596982588, 1900173.3554716606, 1780378.5945953308, 1620862.4712578047, 1541079.8244702197, 1421319.8775262428, 1616957.9312052953, 1341357.8872344985, 1221844.960852031, 1102143.5186928066, 1102020.5747996995, 1141409.474354379, 1062302.0483322632, 2033757.835435066, 1022373.2095823501, 1022286.4474729015, 3236974.4377654833, 982491.8823497746, 982403.3303846288, 942487.3888284197, 942285.1908246066, 902430.12175868, 862740.8416751978, 862319.4649999043, 2601766.407634616, 1673499.5612792657, 822764.0752291582, 822520.2251535276, 822584.4006291254, 2435711.7490738183, 1783080.2082431647, 1592773.7352160888, 1514979.7322079835, 2950209.201332106, 2412070.410144275, 1842753.442157083, 1356577.196637287, 2437670.971279832, 1684951.616622873, 2473625.3816250567, 4844286.758388144, 4171654.785998673, 3067235.268841164, 6529074.494107098, 3699214.497211963, 8078555.432013533, 14428477.873107096, 10070685.123110406, 3773628.170287645, 3139202.7762655304, 4221022.3191042235, 6893142.322211698, 28468053.063853323, 5438781.787019197, 3895904.1955841426, 3049662.8147230702, 3456302.1973112794, 8416746.74778726, 8345291.935570626, 5191005.673506598, 9087137.873662386, 3839278.0388201494, 8286344.285524211, 9391511.346943492, 8427365.244331876, 13338265.121260671, 7781972.417285068, 9257936.761318982, 8428620.982008997, 8644330.973274034, 7462736.325690879, 6081719.974331365, 6736610.507154103, 8150759.71213505, 5299669.267606563, 487608.1279361578, 871691.3083180279, 334794.02784425655, 272308.90326895897, 292316.7335599069, 179664.26865215244, 164552.95004819648, 148452.29456236665, 363209.4932579295, 148495.1186077439, 362867.6036019546, 1693397.8154308642, 133070.2278556474, 376723.619710948, 403425.8521132919, 487578.1473374696, 806615.0159555385, 102333.78262349444, 323972.9580402383, 154211.34731851725, 103452.3728388656, 386171.3469180492, 163805.2062904346, 225232.71651423947, 236480.20402423848, 300045.413231803, 107960.90328226777, 179316.06331242516, 258241.57228063466, 394530.4767145145, 719538.5344602262, 1158685.5806612768, 626249.5949028396, 1408228.7907236216, 629313.966040407, 1395739.0552079936, 627694.8905577859, 751075.8310284894, 2620586.5954866568, 498183.82881377137, 1421984.4330316847, 576883.025809656, 469029.4955506537, 1863416.9738939777, 3176618.4673925284, 1172629.2885105368, 2130970.3065518592, 1325133.4509819124, 5030478.107110532, 1214985.5546435053, 1710353.1210026597, 4221041.903582143, 1874758.943747925, 1516487.3779066247, 3528799.2177601717, 6804760.209943281, 1790686.2658487295, 2931522.430584782, 5299669.267606563, 10070685.123110406, 4628770.127870524, 3167376.45467057, 8416746.74778726, 8786765.16073457, 6081719.974331365, 2520631.9591581584, 8345291.935570626, 6162992.652220343, 439578.37665296555, 316195.8406108716, 408339.6696767913, 240412.53538049734, 320189.33596508775, 224567.30813404632, 210486.36370552419, 332590.96361683036, 332684.2110571557, 550075.8352466314, 715820.1853310311, 316524.2677244761, 132469.19918854826, 313723.73732950864, 208997.21062058693, 132397.8049814716, 117116.37087896875, 296691.63317806757, 418817.84034254844, 117805.99648388315, 117213.97849167109, 101703.9517689769, 118489.96243668838, 422870.2275127667, 237419.60631404936, 774707.1721204757, 281652.33582169993, 255775.18762079396, 485122.967731257, 120722.0614215204, 2351180.836256936, 743995.1106977474, 543858.7732757188, 2045371.714790109, 691110.3951890324, 534316.1654644064, 682925.0363790311, 801840.254565554, 407982.92593023926, 622180.4893481289, 534652.9222592989, 1255649.0697523756, 2092746.0288907383, 8150759.71213505, 1565248.294092415, 3563414.6630379986, 2683420.5914527467, 8286344.285524211, 1422091.9685788169, 3167376.45467057, 13338265.121260671, 1469191.72273053, 2022742.00629763, 7462736.325690879, 896817.5142044157, 1594530.8254611464, 1729206.3133429857, 3029139.886585078, 1549816.3114373267, 1168923.8858679417, 1145017.399430336, 6440277.773591712, 5327728.30370051, 2829020.77789631, 3197277.32134168, 4628770.127870524, 2208132.918896742, 2482134.523820104, 3335343.903270416, 9257936.761318982], \"Category\": [\"Default\", \"Default\", \"Default\", \"Default\", \"Default\", \"Default\", \"Default\", \"Default\", \"Default\", \"Default\", \"Default\", \"Default\", \"Default\", \"Default\", \"Default\", \"Default\", \"Default\", \"Default\", \"Default\", \"Default\", \"Default\", \"Default\", \"Default\", \"Default\", \"Default\", \"Default\", \"Default\", \"Default\", \"Default\", \"Default\", \"Topic1\", \"Topic1\", \"Topic1\", \"Topic1\", \"Topic1\", \"Topic1\", \"Topic1\", \"Topic1\", \"Topic1\", \"Topic1\", \"Topic1\", \"Topic1\", \"Topic1\", \"Topic1\", \"Topic1\", \"Topic1\", \"Topic1\", \"Topic1\", \"Topic1\", \"Topic1\", \"Topic1\", \"Topic1\", \"Topic1\", \"Topic1\", \"Topic1\", \"Topic1\", \"Topic1\", \"Topic1\", \"Topic1\", \"Topic1\", \"Topic1\", \"Topic1\", \"Topic1\", \"Topic1\", \"Topic1\", \"Topic1\", \"Topic1\", \"Topic1\", \"Topic1\", \"Topic1\", \"Topic1\", \"Topic1\", \"Topic1\", \"Topic1\", \"Topic1\", \"Topic1\", \"Topic1\", \"Topic1\", \"Topic1\", \"Topic1\", \"Topic1\", \"Topic1\", \"Topic1\", \"Topic1\", \"Topic1\", \"Topic1\", \"Topic1\", \"Topic1\", \"Topic1\", \"Topic1\", \"Topic1\", \"Topic1\", \"Topic1\", \"Topic1\", \"Topic1\", \"Topic1\", \"Topic1\", \"Topic1\", \"Topic1\", \"Topic1\", \"Topic1\", \"Topic1\", \"Topic1\", \"Topic1\", \"Topic1\", \"Topic1\", \"Topic2\", \"Topic2\", \"Topic2\", \"Topic2\", \"Topic2\", \"Topic2\", \"Topic2\", \"Topic2\", \"Topic2\", \"Topic2\", \"Topic2\", \"Topic2\", \"Topic2\", \"Topic2\", \"Topic2\", \"Topic2\", \"Topic2\", \"Topic2\", \"Topic2\", \"Topic2\", \"Topic2\", \"Topic2\", \"Topic2\", \"Topic2\", \"Topic2\", \"Topic2\", \"Topic2\", \"Topic2\", \"Topic2\", \"Topic2\", \"Topic2\", \"Topic2\", \"Topic2\", \"Topic2\", \"Topic2\", \"Topic2\", \"Topic2\", \"Topic2\", \"Topic2\", \"Topic2\", \"Topic2\", \"Topic2\", \"Topic2\", \"Topic2\", \"Topic2\", \"Topic2\", \"Topic2\", \"Topic2\", \"Topic2\", \"Topic2\", \"Topic2\", \"Topic2\", \"Topic2\", \"Topic2\", \"Topic2\", \"Topic2\", \"Topic2\", \"Topic2\", \"Topic2\", \"Topic2\", \"Topic2\", \"Topic2\", \"Topic2\", \"Topic2\", \"Topic2\", \"Topic2\", \"Topic2\", \"Topic2\", \"Topic2\", \"Topic2\", \"Topic3\", \"Topic3\", \"Topic3\", \"Topic3\", \"Topic3\", \"Topic3\", \"Topic3\", \"Topic3\", \"Topic3\", \"Topic3\", \"Topic3\", \"Topic3\", \"Topic3\", \"Topic3\", \"Topic3\", \"Topic3\", \"Topic3\", \"Topic3\", \"Topic3\", \"Topic3\", \"Topic3\", \"Topic3\", \"Topic3\", \"Topic3\", \"Topic3\", \"Topic3\", \"Topic3\", \"Topic3\", \"Topic3\", \"Topic3\", \"Topic3\", \"Topic3\", \"Topic3\", \"Topic3\", \"Topic3\", \"Topic3\", \"Topic3\", \"Topic3\", \"Topic3\", \"Topic3\", \"Topic3\", \"Topic3\", \"Topic3\", \"Topic3\", \"Topic3\", \"Topic3\", \"Topic3\", \"Topic3\", \"Topic3\", \"Topic3\", \"Topic3\", \"Topic3\", \"Topic3\", \"Topic3\", \"Topic3\", \"Topic3\", \"Topic3\", \"Topic3\", \"Topic3\", \"Topic3\", \"Topic3\", \"Topic3\", \"Topic3\", \"Topic3\", \"Topic3\", \"Topic3\", \"Topic3\", \"Topic3\", \"Topic3\", \"Topic3\", \"Topic3\", \"Topic3\", \"Topic3\", \"Topic3\", \"Topic3\", \"Topic3\", \"Topic4\", \"Topic4\", \"Topic4\", \"Topic4\", \"Topic4\", \"Topic4\", \"Topic4\", \"Topic4\", \"Topic4\", \"Topic4\", \"Topic4\", \"Topic4\", \"Topic4\", \"Topic4\", \"Topic4\", \"Topic4\", \"Topic4\", \"Topic4\", \"Topic4\", \"Topic4\", \"Topic4\", \"Topic4\", \"Topic4\", \"Topic4\", \"Topic4\", \"Topic4\", \"Topic4\", \"Topic4\", \"Topic4\", \"Topic4\", \"Topic4\", \"Topic4\", \"Topic4\", \"Topic4\", \"Topic4\", \"Topic4\", \"Topic4\", \"Topic4\", \"Topic4\", \"Topic4\", \"Topic4\", \"Topic4\", \"Topic4\", \"Topic4\", \"Topic4\", \"Topic4\", \"Topic4\", \"Topic4\", \"Topic4\", \"Topic4\", \"Topic4\", \"Topic4\", \"Topic4\", \"Topic4\", \"Topic4\", \"Topic4\", \"Topic4\", \"Topic4\", \"Topic4\", \"Topic4\", \"Topic4\", \"Topic4\", \"Topic4\", \"Topic4\", \"Topic4\", \"Topic4\", \"Topic4\", \"Topic4\", \"Topic5\", \"Topic5\", \"Topic5\", \"Topic5\", \"Topic5\", \"Topic5\", \"Topic5\", \"Topic5\", \"Topic5\", \"Topic5\", \"Topic5\", \"Topic5\", \"Topic5\", \"Topic5\", \"Topic5\", \"Topic5\", \"Topic5\", \"Topic5\", \"Topic5\", \"Topic5\", \"Topic5\", \"Topic5\", \"Topic5\", \"Topic5\", \"Topic5\", \"Topic5\", \"Topic5\", \"Topic5\", \"Topic5\", \"Topic5\", \"Topic5\", \"Topic5\", \"Topic5\", \"Topic5\", \"Topic5\", \"Topic5\", \"Topic5\", \"Topic5\", \"Topic5\", \"Topic5\", \"Topic5\", \"Topic5\", \"Topic5\", \"Topic5\", \"Topic5\", \"Topic5\", \"Topic5\", \"Topic5\", \"Topic5\", \"Topic5\", \"Topic5\", \"Topic5\", \"Topic5\", \"Topic5\", \"Topic5\", \"Topic5\", \"Topic5\", \"Topic5\", \"Topic5\", \"Topic5\", \"Topic5\", \"Topic5\", \"Topic5\", \"Topic5\", \"Topic5\", \"Topic5\", \"Topic5\", \"Topic5\", \"Topic5\", \"Topic5\"], \"logprob\": [30.0, 29.0, 28.0, 27.0, 26.0, 25.0, 24.0, 23.0, 22.0, 21.0, 20.0, 19.0, 18.0, 17.0, 16.0, 15.0, 14.0, 13.0, 12.0, 11.0, 10.0, 9.0, 8.0, 7.0, 6.0, 5.0, 4.0, 3.0, 2.0, 1.0, 3.589, 3.5888, 3.5025, 3.5023, 3.5593, 3.4706, 3.3032, 3.2657, 3.9665, 3.1862, 3.0997, 3.2619, 3.0055, 3.1747, 3.0509, 2.9011, 3.5568, 3.4598, 2.8446, 2.8984, 2.7849, 2.7849, 2.7839, 2.7212, 2.7212, 2.7211, 2.7211, 2.7202, 2.7811, 2.653, 4.0727, 3.349, 3.5795, 4.3947, 4.353, 4.5265, 3.3271, 3.9034, 4.0133, 3.9431, 4.7149, 4.0914, 4.7578, 4.4568, 4.9835, 4.9294, 5.4828, 4.286, 4.4653, 3.8942, 4.272, 5.1009, 4.0233, 4.2934, 4.636, 4.5164, 4.0614, 4.6466, 4.5657, 4.9895, 4.7048, 5.0146, 4.7517, 5.7305, 4.7144, 4.6103, 4.857, 4.6877, 4.4308, 4.8336, 4.3618, 4.431, 4.5001, 4.4237, 4.4798, 4.4582, 3.6685, 3.7608, 3.3032, 3.6789, 3.1428, 3.096, 2.8873, 2.8315, 2.6509, 4.3181, 4.0345, 3.9608, 2.7578, 3.2426, 4.4517, 3.6405, 2.4149, 2.8744, 2.7448, 2.9002, 3.405, 4.4841, 3.2565, 2.4677, 2.8301, 3.0539, 2.102, 2.7596, 3.29, 2.6479, 3.526, 3.523, 4.4732, 4.3216, 5.1197, 4.6679, 4.5631, 4.4863, 3.6124, 3.4481, 3.9468, 4.7503, 3.4883, 4.1974, 3.7114, 3.8943, 4.3263, 4.5241, 4.5758, 4.3397, 4.3539, 3.7937, 4.7701, 4.8572, 4.0296, 4.4124, 5.0151, 4.2381, 5.1736, 4.6504, 4.3733, 4.0632, 4.5992, 4.503, 4.248, 4.5649, 4.2581, 4.1782, 4.2192, 4.2247, 4.3067, 3.8957, 3.8544, 3.7886, 3.6938, 3.6428, 3.5609, 3.6898, 3.5022, 3.4077, 3.3031, 3.3026, 3.3377, 3.2657, 3.9148, 3.2268, 3.2265, 4.379, 3.1863, 3.186, 3.1438, 3.1434, 3.0995, 3.0538, 3.0529, 4.1572, 3.7157, 3.0053, 3.0048, 3.0046, 4.0881, 3.7767, 3.6649, 3.6145, 4.2726, 4.0708, 3.8032, 3.5018, 4.0714, 3.7119, 4.0789, 4.7213, 4.5757, 4.2798, 4.9732, 4.4396, 5.1616, 5.673, 5.3355, 4.4429, 4.2739, 4.5325, 4.9575, 6.1651, 4.738, 4.4385, 4.2176, 4.3129, 5.012, 4.9387, 4.5834, 4.9523, 4.3521, 4.8437, 4.8748, 4.7842, 5.0134, 4.7161, 4.7946, 4.6997, 4.6673, 4.6108, 4.5154, 4.5277, 4.5765, 4.4394, 3.4077, 3.9726, 3.0001, 2.7821, 2.8213, 2.32, 2.2139, 2.1032, 2.9953, 2.0995, 2.9873, 4.5182, 1.9725, 3.0046, 3.0547, 3.2239, 3.7263, 1.6452, 2.7769, 2.0297, 1.6218, 2.9375, 2.0684, 2.3859, 2.4083, 2.6357, 1.595, 2.1006, 2.4614, 2.874, 3.4735, 3.9285, 3.3255, 4.0886, 3.32, 4.0523, 3.2987, 3.4367, 4.5084, 3.0487, 3.8578, 3.1479, 2.9638, 3.9198, 4.287, 3.5886, 3.9805, 3.6333, 4.2967, 3.5218, 3.6386, 4.0261, 3.644, 3.5511, 3.8775, 4.1162, 3.6054, 3.762, 3.9358, 4.1019, 3.8367, 3.7201, 3.8437, 3.841, 3.7264, 3.6105, 3.7099, 3.6331, 3.3011, 2.9548, 3.2051, 2.6505, 2.9346, 2.5781, 2.4883, 2.9366, 2.9367, 3.4365, 3.6906, 2.8634, 1.9714, 2.8293, 2.4111, 1.9453, 1.8216, 2.7497, 3.0884, 1.8139, 1.7971, 1.647, 1.7997, 3.0568, 2.4764, 3.6579, 2.6366, 2.54, 3.175, 1.7784, 4.7032, 3.5491, 3.2485, 4.4961, 3.4744, 3.2161, 3.4361, 3.5776, 2.9673, 3.3352, 3.1871, 3.8609, 4.2379, 5.2529, 3.9993, 4.5484, 4.261, 4.9415, 3.8039, 4.2768, 5.1382, 3.7731, 3.9455, 4.6244, 3.4873, 3.7805, 3.8161, 4.0908, 3.7459, 3.6074, 3.5825, 4.1361, 4.0511, 3.853, 3.8294, 3.8366, 3.6927, 3.7, 3.6904, 3.7021], \"loglift\": [30.0, 29.0, 28.0, 27.0, 26.0, 25.0, 24.0, 23.0, 22.0, 21.0, 20.0, 19.0, 18.0, 17.0, 16.0, 15.0, 14.0, 13.0, 12.0, 11.0, 10.0, 9.0, 8.0, 7.0, 6.0, 5.0, 4.0, 3.0, 2.0, 1.0, 11.7362, 11.7361, 11.7345, 11.7344, 11.7341, 11.7327, 11.7302, 11.7293, 11.7276, 11.7271, 11.7244, 11.7241, 11.7217, 11.7204, 11.7191, 11.7182, 11.7181, 11.7172, 11.716, 11.7143, 11.7139, 11.7138, 11.713, 11.7113, 11.7113, 11.7112, 11.7111, 11.7103, 11.709, 11.7082, 11.6866, 11.6974, 11.6868, 11.6608, 11.6612, 11.6508, 11.6898, 11.6646, 11.6515, 11.6437, 11.5854, 11.6284, 11.5448, 11.5643, 11.4958, 11.4786, 11.3965, 11.5363, 11.5024, 11.5974, 11.5171, 11.3327, 11.5649, 11.4823, 11.3605, 11.3867, 11.515, 11.2707, 11.2857, 11.0873, 11.2057, 11.0398, 11.1679, 10.5801, 11.141, 11.1478, 10.9238, 11.0361, 11.2575, 10.7922, 11.2807, 11.0573, 10.6467, 10.9279, 10.4528, 10.4497, 11.8488, 11.8477, 11.8403, 11.8399, 11.8336, 11.8308, 11.8177, 11.8159, 11.8137, 11.8103, 11.8101, 11.8059, 11.8044, 11.8027, 11.8022, 11.8014, 11.8004, 11.7968, 11.7963, 11.7947, 11.7862, 11.7846, 11.7843, 11.7828, 11.7808, 11.7788, 11.7755, 11.7699, 11.7685, 11.7666, 11.7639, 11.7627, 11.7462, 11.7486, 11.7229, 11.7331, 11.7272, 11.7242, 11.754, 11.7513, 11.7022, 11.6173, 11.7352, 11.6422, 11.7033, 11.6561, 11.5632, 11.5041, 11.4749, 11.4928, 11.4864, 11.647, 11.2585, 11.2227, 11.5469, 11.3717, 11.0566, 11.4155, 10.7813, 11.0588, 11.2558, 11.5042, 10.935, 11.0285, 11.2929, 10.8557, 11.1858, 11.349, 11.0402, 10.6386, 11.4141, 11.4111, 11.4108, 11.4102, 11.4092, 11.4087, 11.4077, 11.4076, 11.4069, 11.4058, 11.4042, 11.4038, 11.4038, 11.4037, 11.4033, 11.403, 11.4028, 11.4028, 11.4023, 11.4021, 11.4014, 11.4012, 11.4006, 11.3998, 11.3995, 11.3994, 11.3992, 11.3988, 11.3986, 11.3983, 11.3963, 11.3968, 11.3979, 11.3975, 11.3892, 11.3887, 11.3904, 11.3952, 11.3788, 11.3886, 11.3716, 11.3419, 11.3458, 11.3575, 11.2953, 11.3298, 11.2708, 11.2022, 11.2242, 11.3132, 11.3283, 11.2908, 11.2254, 11.0147, 11.2428, 11.2769, 11.301, 11.2711, 11.0802, 11.0154, 11.1349, 10.9438, 11.2052, 10.9275, 10.8334, 10.8511, 10.6211, 10.8627, 10.7676, 10.7665, 10.7088, 10.7993, 10.9086, 10.8185, 10.6768, 10.9702, 12.3243, 12.3084, 12.2927, 12.2813, 12.2496, 12.2351, 12.2168, 12.2091, 12.2065, 12.2051, 12.1994, 12.1898, 12.1878, 12.1792, 12.1608, 12.1407, 12.1396, 12.1231, 12.1024, 12.0975, 12.0889, 12.0874, 12.0759, 12.075, 12.0486, 12.038, 12.0194, 12.0176, 12.0136, 12.0024, 12.001, 11.9796, 11.9919, 11.9447, 11.9815, 11.9173, 11.9628, 11.9213, 11.7434, 11.9439, 11.7042, 11.8964, 11.9193, 11.4958, 11.3296, 11.6278, 11.4223, 11.5502, 10.8796, 11.5255, 11.3003, 10.7844, 11.2139, 11.3331, 10.8149, 10.3969, 11.2212, 10.8849, 10.4666, 9.9907, 10.5028, 10.7656, 9.9118, 9.8662, 10.1196, 10.8844, 9.7866, 10.0129, 12.3215, 12.3046, 12.2992, 12.2743, 12.2718, 12.2701, 12.2451, 12.2358, 12.2357, 12.2326, 12.2234, 12.2121, 12.1912, 12.1869, 12.175, 12.1656, 12.1646, 12.1632, 12.1572, 12.1511, 12.1392, 12.1311, 12.1311, 12.1159, 12.1128, 12.1116, 12.102, 12.1019, 12.0968, 12.0911, 12.0467, 12.0433, 12.056, 11.9789, 12.0422, 12.0413, 12.0159, 11.9968, 12.0623, 12.0081, 12.0117, 11.8316, 11.6978, 11.3532, 11.7496, 11.4761, 11.4723, 11.0253, 11.6502, 11.3223, 10.7459, 11.5868, 11.4394, 10.8128, 11.7946, 11.5124, 11.4668, 11.181, 11.5061, 11.6497, 11.6454, 10.4719, 10.5766, 11.0115, 10.8655, 10.5027, 11.099, 10.9893, 10.6842, 9.675]}, \"token.table\": {\"Topic\": [1, 2, 3, 4, 5, 1, 2, 3, 4, 5, 1, 2, 3, 4, 5, 1, 2, 3, 4, 5, 1, 2, 3, 4, 5, 1, 2, 3, 4, 5, 1, 2, 3, 4, 5, 1, 2, 3, 4, 5, 1, 2, 3, 4, 5, 1, 2, 3, 4, 5, 1, 2, 3, 4, 5, 1, 2, 3, 4, 5, 1, 2, 3, 4, 5, 1, 2, 3, 4, 5, 1, 2, 3, 4, 5, 1, 2, 3, 4, 5, 1, 2, 3, 4, 5, 1, 2, 3, 4, 5, 1, 2, 3, 4, 5, 1, 2, 3, 4, 5, 1, 2, 3, 4, 5, 1, 2, 3, 4, 5, 1, 2, 3, 4, 5, 1, 2, 3, 4, 5, 1, 2, 3, 4, 5, 1, 2, 3, 4, 5, 1, 2, 3, 4, 5, 1, 2, 3, 4, 5, 1, 2, 3, 4, 5, 1, 2, 3, 4, 5, 1, 2, 3, 4, 5, 1, 2, 3, 4, 5, 1, 2, 3, 4, 5, 1, 2, 3, 4, 5, 1, 2, 3, 4, 5, 1, 2, 3, 4, 5, 1, 2, 3, 4, 5, 1, 2, 3, 4, 5, 1, 2, 3, 4, 5, 1, 2, 3, 4, 5, 1, 2, 3, 4, 5, 1, 2, 3, 4, 5, 1, 2, 3, 4, 5, 1, 2, 3, 4, 5, 1, 2, 3, 4, 5, 1, 2, 3, 4, 5, 1, 2, 3, 4, 5, 1, 2, 3, 4, 5, 1, 2, 3, 4, 5, 1, 2, 3, 4, 5, 1, 2, 3, 4, 5, 1, 2, 3, 4, 5, 1, 2, 3, 4, 5, 1, 2, 3, 4, 5, 1, 2, 3, 4, 5, 1, 2, 3, 4, 5, 1, 2, 3, 4, 5, 1, 2, 3, 4, 5, 1, 2, 3, 4, 5, 1, 2, 3, 4, 5, 1, 2, 3, 4, 5, 1, 2, 3, 4, 5, 1, 2, 3, 4, 5, 1, 2, 3, 4, 5, 1, 2, 3, 4, 5, 1, 2, 3, 4, 5, 1, 2, 3, 4, 5, 1, 2, 3, 4, 5, 1, 2, 3, 4, 5, 1, 2, 3, 4, 5, 1, 2, 3, 4, 5, 1, 2, 3, 4, 5, 1, 2, 3, 4, 5, 1, 2, 3, 4, 5, 1, 2, 3, 4, 5, 1, 2, 3, 4, 5, 1, 2, 3, 4, 5, 1, 2, 3, 4, 5, 1, 2, 3, 4, 5, 1, 2, 3, 4, 5, 1, 2, 3, 4, 5, 1, 2, 3, 4, 5, 1, 2, 3, 4, 5, 1, 2, 3, 4, 5, 1, 2, 3, 4, 5, 1, 2, 3, 4, 5, 1, 2, 3, 4, 5, 1, 2, 3, 4, 5, 1, 2, 3, 4, 5, 1, 2, 3, 4, 5, 1, 2, 3, 4, 5, 1, 2, 3, 4, 5, 1, 2, 3, 4, 5, 1, 2, 3, 4, 5, 1, 2, 3, 4, 5, 1, 2, 3, 4, 5, 1, 2, 3, 4, 5, 1, 2, 3, 4, 5, 1, 2, 3, 4, 5, 1, 2, 3, 4, 5, 1, 2, 3, 4, 5, 1, 2, 3, 4, 5, 1, 2, 3, 4, 5, 1, 2, 3, 4, 5, 1, 2, 3, 4, 5, 1, 2, 3, 4, 5, 1, 2, 3, 4, 5, 1, 2, 3, 4, 5, 1, 2, 3, 4, 5, 1, 2, 3, 4, 5, 1, 2, 3, 4, 5, 1, 2, 3, 4, 5, 1, 2, 3, 4, 5, 1, 2, 3, 4, 5, 1, 2, 3, 4, 5, 1, 2, 3, 4, 5, 1, 2, 3, 4, 5, 1, 2, 3, 4, 5, 1, 2, 3, 4, 5, 1, 2, 3, 4, 5, 1, 2, 3, 4, 5, 1, 2, 3, 4, 5, 1, 2, 3, 4, 5, 1, 2, 3, 4, 5, 1, 2, 3, 4, 5, 1, 2, 3, 4, 5, 1, 2, 3, 4, 5, 1, 2, 3, 4, 5, 1, 2, 3, 4, 5, 1, 2, 3, 4, 5, 1, 2, 3, 4, 5, 1, 2, 3, 4, 5, 1, 2, 3, 4, 5, 1, 2, 3, 4, 5, 1, 2, 3, 4, 5, 1, 2, 3, 4, 5, 1, 2, 3, 4, 5, 1, 2, 3, 4, 5, 1, 2, 3, 4, 5, 1, 2, 3, 4, 5, 1, 2, 3, 4, 5, 1, 2, 3, 4, 5, 1, 2, 3, 4, 5, 1, 2, 3, 4, 5, 1, 2, 3, 4, 5, 1, 2, 3, 4, 5, 1, 2, 3, 4, 5, 1, 2, 3, 4, 5, 1, 2, 3, 4, 5, 1, 2, 3, 4, 5, 1, 2, 3, 4, 5, 1, 2, 3, 4, 5, 1, 2, 3, 4, 5, 1, 2, 3, 4, 5, 1, 2, 3, 4, 5, 1, 2, 3, 4, 5, 1, 2, 3, 4, 5, 1, 2, 3, 4, 5, 1, 2, 3, 4, 5, 1, 2, 3, 4, 5, 1, 2, 3, 4, 5, 1, 2, 3, 4, 5, 1, 2, 3, 4, 5, 1, 2, 3, 4, 5, 1, 2, 3, 4, 5, 1, 2, 3, 4, 5, 1, 2, 3, 4, 5, 1, 2, 3, 4, 5, 1, 2, 3, 4, 5, 1, 2, 3, 4, 5, 1, 2, 3, 4, 5, 1, 2, 3, 4, 5, 1, 2, 3, 4, 5, 1, 2, 3, 4, 5, 1, 2, 3, 4, 5, 1, 2, 3, 4, 5, 1, 2, 3, 4, 5, 1, 2, 3, 4, 5, 1, 2, 3, 4, 5, 1, 2, 3, 4, 5, 1, 2, 3, 4, 5, 1, 2, 3, 4, 5, 1, 2, 3, 4, 5, 1, 2, 3, 4, 5, 1, 2, 3, 4, 5, 1, 2, 3, 4, 5, 1, 2, 3, 4, 5, 1, 2, 3, 4, 5, 1, 2, 3, 4, 5, 1, 2, 3, 4, 5, 1, 2, 3, 4, 5, 1, 2, 3, 4, 5, 1, 2, 3, 4, 5, 1, 2, 3, 4, 5, 1, 2, 3, 4, 5, 1, 2, 3, 4, 5, 1, 2, 3, 4, 5, 1, 2, 3, 4, 5, 1, 2, 3, 4, 5, 1, 2, 3, 4, 5, 1, 2, 3, 4, 5, 1, 2, 3, 4, 5, 1, 2, 3, 4, 5, 1, 2, 3, 4, 5, 1, 2, 3, 4, 5, 1, 2, 3, 4, 5, 1, 2, 3, 4, 5, 1, 2, 3, 4, 5, 1, 2, 3, 4, 5, 1, 2, 3, 4, 5, 1, 2, 3, 4, 5, 1, 2, 3, 4, 5, 1, 2, 3, 4, 5, 1, 2, 3, 4, 5, 1, 2, 3, 4, 5, 1, 2, 3, 4, 5, 1, 2, 3, 4, 5, 1, 2, 3, 4, 5, 1, 2, 3, 4, 5, 1, 2, 3, 4, 5, 1, 2, 3, 4, 5, 1, 2, 3, 4, 5, 1, 2, 3, 4, 5, 1, 2, 3, 4, 5, 1, 2, 3, 4, 5, 1, 2, 3, 4, 5, 1, 2, 3, 4, 5, 1, 2, 3, 4, 5, 1, 2, 3, 4, 5, 1, 2, 3, 4, 5, 1, 2, 3, 4, 5, 1, 2, 3, 4, 5, 1, 2, 3, 4, 5, 1, 2, 3, 4, 5, 1, 2, 3, 4, 5, 1, 2, 3, 4, 5, 1, 2, 3, 4, 5, 1, 2, 3, 4, 5, 1, 2, 3, 4, 5, 1, 2, 3, 4, 5, 1, 2, 3, 4, 5, 1, 2, 3, 4, 5, 1, 2, 3, 4, 5, 1, 2, 3, 4, 5, 1, 2, 3, 4, 5, 1, 2, 3, 4, 5, 1, 2, 3, 4, 5, 1, 2, 3, 4, 5, 1, 2, 3, 4, 5, 1, 2, 3, 4, 5, 1, 2, 3, 4, 5, 1, 2, 3, 4, 5, 1, 2, 3, 4, 5, 1, 2, 3, 4, 5, 1, 2, 3, 4, 5, 1, 2, 3, 4, 5, 1, 2, 3, 4, 5, 1, 2, 3, 4, 5, 1, 2, 3, 4, 5, 1, 2, 3, 4, 5, 1, 2, 3, 4, 5, 1, 2, 3, 4, 5, 1, 2, 3, 4, 5, 1, 2, 3, 4, 5, 1, 2, 3, 4, 5, 1, 2, 3, 4, 5, 1, 2, 3, 4, 5, 1, 2, 3, 4, 5, 1, 2, 3, 4, 5, 1, 2, 3, 4, 5, 1, 2, 3, 4, 5, 1, 2, 3, 4, 5, 1, 2, 3, 4, 5, 1, 2, 3, 4, 5, 1, 2, 3, 4, 5, 1, 2, 3, 4, 5, 1, 2, 3, 4, 5, 1, 2, 3, 4, 5, 1, 2, 3, 4, 5, 1, 2, 3, 4, 5, 1, 2, 3, 4, 5, 1, 2, 3, 4, 5, 1, 2, 3, 4, 5, 1, 2, 3, 4, 5, 1, 2, 3, 4, 5, 1, 2, 3, 4, 5, 1, 2, 3, 4, 5, 1, 2, 3, 4, 5, 1, 2, 3, 4, 5, 1, 2, 3, 4, 5, 1, 2, 3, 4, 5, 1, 2, 3, 4, 5, 1, 2, 3, 4, 5, 1, 2, 3, 4, 5, 1, 2, 3, 4, 5, 1, 2, 3, 4, 5, 1, 2, 3, 4, 5, 1, 2, 3, 4, 5, 1, 2, 3, 4, 5, 1, 2, 3, 4, 5, 1, 2, 3, 4, 5, 1, 2, 3, 4, 5, 1, 2, 3, 4, 5, 1, 2, 3, 4, 5, 1, 2, 3, 4, 5, 1, 2, 3, 4, 5, 1, 2, 3, 4, 5, 1, 2, 3, 4, 5, 1, 2, 3, 4, 5, 1, 2, 3, 4, 5, 1, 2, 3, 4, 5, 1, 2, 3, 4, 5, 1, 2, 3, 4, 5, 1, 2, 3, 4, 5, 1, 2, 3, 4, 5, 1, 2, 3, 4, 5, 1, 2, 3, 4, 5, 1, 2, 3, 4, 5, 1, 2, 3, 4, 5, 1, 2, 3, 4, 5, 1, 2, 3, 4, 5, 1, 2, 3, 4, 5, 1, 2, 3, 4, 5, 1, 2, 3, 4, 5, 1, 2, 3, 4, 5, 1, 2, 3, 4, 5, 1, 2, 3, 4, 5, 1, 2, 3, 4, 5, 1, 2, 3, 4, 5, 1, 2, 3, 4, 5, 1, 2, 3, 4, 5, 1, 2, 3, 4, 5, 1, 2, 3, 4, 5, 1, 2, 3, 4, 5, 1, 2, 3, 4, 5], \"Freq\": [0.0024175381605136413, 0.4439488737607297, 0.4911757790310375, 0.01098130095822174, 0.05147651118123074, 0.0015797043339131711, 0.6745555697015583, 0.26999088968312535, 0.0008948566850084797, 0.05297873407279554, 0.0070667604151509866, 0.5622831033740101, 0.3122115386593915, 0.031286593260059004, 0.08715176859894247, 0.016541886950802904, 0.16766734509443307, 0.5685290380870734, 0.026554468526481276, 0.22070747360253418, 0.0487825775865658, 0.04573686576452943, 0.07066563311464227, 0.045992807934448446, 0.7888222990960931, 0.011726629792251236, 0.010453066115967916, 0.01667732659506594, 0.9548384723828045, 0.0063021919117852475, 0.019313409222943508, 0.27227971728593114, 0.16111264904840883, 0.14240853678219578, 0.4048858399092046, 0.02406288212121398, 0.16058488425580328, 0.03403678460030285, 0.013094958955864565, 0.7682221482531663, 0.0016234984328851552, 0.27515223737107203, 0.4692803125962795, 0.21105337936249127, 0.042890510527846745, 0.050889555023517816, 0.04557859810663391, 0.0681373572294752, 0.026332783169887408, 0.8090585397144978, 0.0037062456741553547, 0.17651833832248512, 0.39871434791321636, 0.0022422012043331924, 0.4188180206969313, 0.015277121223544637, 0.3904528768764399, 0.32085802810740827, 0.22624127966323943, 0.04717031360647746, 0.0037505227218826427, 0.9431693192840908, 0.048892427495485835, 0.0021740451417202322, 0.00201351438231051, 0.005792896907358227, 0.004987838792742249, 0.9831735542269746, 0.0030197015793675865, 0.0030255707758289423, 0.02732093879647954, 0.0247084637381822, 0.038182327775115016, 0.09227395878986129, 0.8175180878857615, 0.03398070639052916, 0.1252810654279475, 0.7120775021032494, 0.0855463543784648, 0.043114401665394174, 0.9795516637819789, 0.005019936142135807, 0.008982169785841054, 0.003027587945646109, 0.003419221096034525, 0.003792316430578368, 0.003488324451010184, 0.6141185304724267, 0.35435837305932943, 0.024242865806604612, 0.06815430193986277, 0.047887706038202034, 0.15157338909267662, 0.7039122283120239, 0.028473270476099235, 0.06772816779613118, 0.5947691544568983, 0.2615313514996735, 0.03728513585196224, 0.03868626760209357, 0.2601903979893616, 0.05372741888542952, 0.2434675539742327, 0.4402967863860558, 0.0023182570764655247, 0.01187343514791662, 0.9503134906664954, 0.01705649832840272, 0.014293445393438409, 0.006463755887738184, 0.034876791338796474, 0.03142757252093896, 0.05063331128373499, 0.744780967362477, 0.138280098129718, 0.010515597579779507, 0.21026598377962677, 0.01505537908432149, 0.03834083593872395, 0.7258207817857111, 0.12764696101829218, 0.6823382796197514, 0.005773876400748624, 0.07316056606665591, 0.11108030300850878, 0.6082044425651603, 0.001324884535779904, 0.36374789907114596, 0.011521904151674289, 0.015201039764722677, 0.9815055269753782, 0.004857014494114064, 0.007734928598705514, 0.0029624748029435932, 0.002941572158407109, 0.018710191845199495, 0.9340249685244914, 0.02682154669138425, 0.010202281873201267, 0.010241609654273677, 0.01450963175634238, 0.9159401323017313, 0.017102607773635505, 0.006590657536589563, 0.04585875424364895, 0.0036247077842224114, 0.003151597145264871, 0.9879162402260331, 0.001916561921737801, 0.003390317023222532, 0.9640669734303575, 0.005087831460611194, 0.008276398563482869, 0.0029813921475626962, 0.0195871875189098, 0.0021950471738130133, 0.0019652033268614845, 0.9797904963795658, 0.01486605403409906, 0.0011830424095598765, 0.00368921591430687, 0.8085334451310985, 0.18138547980429315, 0.00438324602325162, 0.0020084223264434666, 0.8270996366226889, 0.002700340718194516, 0.14828489663128483, 0.020204853515092915, 0.0017105268873509423, 0.14374790314033323, 0.03576543993904524, 0.5124706854024081, 0.15447083787868765, 0.15354532205447216, 0.0061196239243659235, 0.9716494775702195, 0.007892995189084586, 0.002971673194816445, 0.011365566296803641, 0.010378568979385031, 0.0965466879238361, 0.014996114119976724, 0.012065609093742942, 0.866015137324499, 0.960347522771935, 0.009445421106185922, 0.018761046476715577, 0.005720283492851113, 0.005725846167236381, 0.11925565537409592, 0.543290956971355, 0.19599617997546376, 0.09532935215217186, 0.046127951913903696, 0.0815605179857228, 0.08852297211044446, 0.01942849424309337, 0.007401785935060765, 0.8030866109354461, 0.5450144906435707, 0.07370321918724793, 0.376825478365614, 0.0006006370528914082, 0.003856272236163339, 0.02103493470554088, 0.02178775621647592, 0.03127330725425736, 0.9146414127855342, 0.011262944263598793, 0.006035199410082097, 0.005195422126675498, 0.9824915797283641, 0.0031453476433047196, 0.003131096877283274, 0.005097424189118038, 0.12493769127504037, 0.4464887029036289, 0.0020426071092467333, 0.42143368398391257, 0.004674897538568922, 0.004208389906043662, 0.9860588197375283, 0.0025404205111551003, 0.002517504346750351, 0.009674026524955751, 0.008124720371566812, 0.29960085136247244, 0.6777189495467442, 0.004879917125187108, 0.14222443078267896, 0.01328684802989505, 0.08309264852529183, 0.7534142611097009, 0.007980913199792739, 0.010000294239725985, 0.008974089665290593, 0.3532969265544796, 0.6224034751171041, 0.005325169683556635, 0.005006967375343193, 0.005394207896760813, 0.9841516346580081, 0.0027422236018939975, 0.002705426991261554, 0.011710943222498264, 0.17087517243125094, 0.016495817222163492, 0.7946192874223301, 0.006300528472769644, 0.004262934696480986, 0.004021149709372952, 0.9757100467861562, 0.013738252453452556, 0.0022674714034887624, 0.006187881205762975, 0.005453653874763664, 0.9817924472710968, 0.0033008399230330275, 0.0032658261919304593, 0.05041408744762299, 0.06243133493908483, 0.8615572497551367, 0.00040663210491596923, 0.025190766061164174, 0.0072558093296928045, 0.13126430034000633, 0.1048725098561701, 0.0724820182936432, 0.6841250447038424, 0.010700399758079689, 0.13958027141167853, 0.08162304587355315, 0.07374690824354554, 0.6943495201171948, 0.21323944417495244, 0.00244559059214309, 0.22447396555281024, 0.05254101476340239, 0.5073004489525798, 0.03209319272694972, 0.028525427111622845, 0.04895798182904089, 0.8732899489534659, 0.017126388140968486, 0.910695341146099, 0.04598944735434164, 0.040771986326988405, 0.0012752151362101964, 0.0012678249647833505, 0.05523314587380185, 0.08132244596364979, 0.07890587500312295, 0.7545307841472216, 0.030013811329743567, 0.9574650356420971, 0.0112736160814249, 0.017680684891991948, 0.006808752077368014, 0.006771232211787704, 0.9800298718591113, 0.0052881504636234115, 0.00830714346251188, 0.0031968850152669596, 0.003178268408901769, 0.006087329033559732, 0.005633114105672081, 0.9816157666561152, 0.0034119182083149472, 0.00325379198341948, 0.014509978921934652, 0.012582661890447298, 0.019665000969305527, 0.02757998018883174, 0.9256607380301346, 0.9591789468376777, 0.010709484148103516, 0.01698316101671331, 0.006705628139272106, 0.006421121773499335, 0.24970783301991134, 0.026233821129361738, 0.18876422586147612, 0.5341182017837758, 0.0011756909713673636, 0.13092524671389902, 0.10875205473935322, 0.06048962351080652, 0.6920301880697662, 0.0077991439992772535, 0.9552965952815564, 0.01061903861676115, 0.02108667297199426, 0.006568456113141125, 0.006427422006512267, 0.9371014347332589, 0.046156774780144086, 0.00944300651858183, 0.0036709054418298265, 0.0036273023916379475, 0.5413559551232335, 0.043529622221452256, 0.38005108877253013, 0.026034148194360465, 0.009029236437711764, 0.0033080895609825444, 0.039085663393005586, 0.8668724461520345, 0.08994138007735619, 0.0007923706141180257, 0.019242200863054296, 0.11119963056119939, 0.027031432986809503, 0.03459147091566408, 0.8079331305447812, 0.0019405403513130508, 0.017514012218750277, 0.9698302068572234, 0.0012619444066268102, 0.0094528889637412, 0.0016313400044816106, 0.5418205338002268, 0.3032750118788645, 0.09626756773898083, 0.057005435681103625, 0.008228013407923493, 0.936174492909518, 0.011660779078547305, 0.004869904288898357, 0.0390669120298388, 0.011418074632708608, 0.9628832587164395, 0.013733149962550994, 0.006705853355717753, 0.005261068530225275, 0.0032066213429720668, 0.0028791629013968844, 0.9904179961233424, 0.001741202691051569, 0.0017546829699500326, 0.07118746454584281, 0.04414719941189137, 0.07100179481021643, 0.03126003185273287, 0.7824038263961409, 0.025061981707148493, 0.9111230335543874, 0.03641921674555278, 0.013953923880903189, 0.013442454866471587, 0.04322514241102926, 0.04081703545519302, 0.06153128463016058, 0.023514900211379, 0.8309101336329009, 0.09294259054706938, 0.6867066526545116, 0.04202417875793887, 0.028558721998723117, 0.14976787280647622, 0.9732439743498691, 0.0037455609509519415, 0.005617049853686205, 0.002086535764228573, 0.01530707434834722, 0.0028683836010405584, 0.1650937188036343, 0.4319656176020671, 0.008273917260774696, 0.391798359619071, 0.0015294542204618573, 0.17870338982035364, 0.8068985805862656, 0.005218689502924689, 0.007649875758679283, 0.012182602702398501, 0.32724594392470097, 0.017197212705205866, 0.6368128291150147, 0.006562487070000453, 0.016042645349608156, 0.011906864117959314, 0.018526843977199208, 0.007029463149502155, 0.9464956014623681, 0.019167098533704328, 0.17321711217044253, 0.08029451188906359, 0.7170747843886549, 0.010241782958454774, 0.003768367245203675, 0.003485855214909898, 0.9779668786992056, 0.0020462319951184784, 0.01273350368317115, 0.006636987289116548, 0.005954279375513746, 0.9802422224012258, 0.0036024723182979793, 0.0035642221295901825, 0.03703359123245427, 0.1300423110796074, 0.05196115681065593, 0.7610788832392681, 0.01988180541388632, 0.04251556778299933, 0.07475764153166323, 0.35029740773553003, 0.47579060617586366, 0.05663767795221944, 0.27200120987229937, 0.08726706833595786, 0.5208796651267004, 0.05274231317285795, 0.06710987728884457, 0.02683827868837626, 0.024077413782653132, 0.03621186034409752, 0.013759794449491063, 0.8991157336199481, 0.0023451050815729707, 0.0021061605512026154, 0.9767383192632039, 0.01754764290817758, 0.0012624646578846088, 0.00581073503258478, 0.0052071677048000945, 0.9827104094650146, 0.0031481176135548655, 0.0031236899308114715, 0.018926301782457737, 0.04488594211509614, 0.025731650228658302, 0.009791081862707097, 0.9006639747410082, 0.0018081210370668268, 0.3311901868984197, 0.11761026999196544, 0.2008990750252269, 0.34849251921802393, 0.4326346360371563, 0.21790178614198608, 0.004708384427234005, 0.3429362000147383, 0.001818922631705574, 0.01801693584337687, 0.18250905988473318, 0.02519346074244338, 0.7648169202110537, 0.009463752834639965, 0.009257406367754623, 0.8644183581736061, 0.0022159106294783104, 0.03869860805352495, 0.08540983371507926, 0.8442230081218794, 0.001352904074498085, 0.14382284615353824, 0.009784901907662742, 0.0008165127235119687, 0.771909735233276, 0.0147963992877846, 0.19003942980691124, 0.008686329079967196, 0.014568172428613782, 0.7868516743079957, 0.002440505312223351, 0.17948777035848398, 0.0297319070323179, 0.0014875687049018984, 0.9727920234426555, 0.00721450584249623, 0.011282349043029053, 0.00438476311747184, 0.004327013265940731, 0.021569984671107316, 0.05293448113040844, 0.9139726832678099, 0.0008434223001535846, 0.01067956454803446, 0.014225479520349275, 0.40976550643111415, 0.1420084735232513, 0.41696893979468924, 0.017031614740354795, 0.003588080261271169, 0.003232725330758574, 0.9783078195903316, 0.0019506851044216137, 0.012920855953973869, 0.0080305458677149, 0.9721057860398723, 0.011229854722928943, 0.004330292599644973, 0.004305034898156441, 0.11094562190575759, 0.20620846520668637, 0.012826295260816403, 0.6651225082125554, 0.004897283769935365, 0.9701425351769865, 0.007881833732271507, 0.012479825349892778, 0.00478332039368129, 0.00471439646870029, 0.1147569519579211, 0.8681091758937725, 0.0028742111958734067, 0.013037032405521759, 0.0012227660788776303, 0.14872517856126088, 0.01052104381672454, 0.016626712269925573, 0.06811056618185976, 0.7560165656868552, 0.8266212999295088, 0.0017279727169881084, 0.1566401893228983, 0.012447181387106798, 0.0025637417916122168, 0.041507813207194856, 0.005854136609261935, 0.009351934477504075, 0.9397191324307012, 0.0035666295744063016, 0.0020424028148342487, 0.3487135929533841, 0.3493848499532751, 0.04446202763259106, 0.25539685167575044, 0.09953892609523193, 0.021104314458387858, 0.04279856708186412, 0.8346839632838221, 0.0018737475453708846, 0.9781893764604279, 0.006452151097201793, 0.008797903420449423, 0.003288955778983273, 0.003271903513116866, 0.01822941435251758, 0.11883385145588528, 0.025739206311694258, 0.009836679960110029, 0.8273616851866621, 0.9641276922355262, 0.009462315337398384, 0.01485529670980221, 0.005732711352145617, 0.005821820855028709, 0.002791668604151958, 0.31870979503933067, 0.003988028161833191, 0.00251690192192194, 0.6719937457143556, 0.9662727863297355, 0.007237309353016865, 0.012022085051599192, 0.004401257741079869, 0.01006628498787817, 0.013595690586951308, 0.9302639474855858, 0.018944314589654922, 0.007240239161185014, 0.029958396399522434, 0.9650427803066824, 0.008189310236177636, 0.016919348516861627, 0.004935343246455949, 0.004911346439747087, 0.0433305036965509, 0.0385510724875661, 0.061967279480013654, 0.8329962440602806, 0.023160702808319437, 0.05559872633518256, 0.07801574764202115, 0.8618083228709462, 0.0036724219340178404, 0.0009050134569926578, 0.006355062693190558, 0.005713461769152662, 0.9809435419496351, 0.003577008260439254, 0.0034107904044708873, 0.02350174227632362, 0.23003161436372277, 0.42113989066078455, 0.22516726559229847, 0.10015946581455407, 0.4892088181904525, 0.07585465046664334, 0.30539304862628963, 0.08172950873993359, 0.04781384187635184, 0.6163158089626027, 0.0014693658702501758, 0.3809214492710425, 0.0006434301978002321, 0.0006498520703474977, 0.0007718348536810666, 0.19763421024572494, 0.5376966068312103, 0.05451887648761784, 0.20937829394037247, 0.004085235566232501, 0.8012110718237828, 0.009119373136062082, 0.07913063760593705, 0.1064540583587679, 0.9631801306151682, 0.005403419052728357, 0.0248881863435739, 0.003271327907069936, 0.0032564775209807727, 0.9816616631739903, 0.004840784362069697, 0.007641693547424254, 0.002935824078271907, 0.002919672295317013, 0.9675489125179674, 0.008570177876282612, 0.013488043363456145, 0.005198167035418577, 0.005194810130649175, 0.025440353820168675, 0.0227142844928417, 0.03574525106565061, 0.7441059300521482, 0.17199987905642836, 0.9599236939693696, 0.010580531396941857, 0.016699217822920595, 0.006413512850304826, 0.0063823692139323525, 0.06326503083414461, 0.043393376844780264, 0.06896083597163435, 0.026178633448611564, 0.7982106412797471, 0.0055889011072343345, 0.004523818927759859, 0.4664615092497136, 0.03995640825263842, 0.48346946010122527, 0.9599895845316176, 0.010576349987248438, 0.016655571181332346, 0.006409342836795432, 0.0063678181018631645, 0.21705137024917132, 0.27741019606506495, 0.3635746667964531, 0.09464265705231059, 0.047321328526155296, 0.2711805448822614, 0.06991288223339699, 0.6212885815635371, 0.021290972216978617, 0.016327143052381542, 0.33021705323603767, 0.053738432568988234, 0.5728565665560745, 0.03386043869992651, 0.009327455316954645, 0.01293212525491257, 0.9060235242158217, 0.01870000626811896, 0.05300549771410089, 0.009339868239659078, 0.8813485459935972, 0.03725522972684672, 0.024427678822532464, 0.05538268778895508, 0.0015856364227447857, 0.023485730755142143, 0.3598758114773209, 0.005155092665140827, 0.0772030868559856, 0.5342800903577439, 0.00834164851249728, 0.09546810532628934, 0.15094115314452364, 0.02936289215335773, 0.7158870759926482, 0.002822866962803204, 0.9433404504425458, 0.0040043256182141955, 0.048306557655074966, 0.0015254338779763469, 0.003751065305104593, 0.8655469331521883, 0.09900309398936448, 0.0195119693281137, 0.012186656611074426, 0.00942170334872078, 0.16589719826821248, 0.06865853354668275, 0.06415983895898753, 0.6918635466229516, 0.00836109337896771, 0.1007709431256005, 0.16713693878496189, 0.026424569372478335, 0.6973064020685561, 0.007651690764872992, 0.1770313921803676, 0.0724800316440153, 0.6381379618402604, 0.10469781711963679, 0.018881648010624228, 0.9191121404108519, 0.011486347457247147, 0.04491811029723188, 0.005600689084503056, 0.08020186095411895, 0.694500857066836, 0.1943388609866357, 0.010608538101258249, 0.02034978770181992, 0.020575011327683523, 0.018160687306488562, 0.09322841198314305, 0.10801259613646043, 0.7600256513956718, 0.09471265805867775, 0.009613307377125239, 0.8829837988834921, 0.009256748418868418, 0.0034335647449318676, 0.01582434725182847, 0.0036884226314103184, 0.4739469935930986, 0.05255406684193643, 0.453986358404182, 0.006955821446635254, 0.006221710638707997, 0.9792394007669809, 0.0038127576232910698, 0.0037690026744742135, 0.0011832495237972303, 0.006125153501415111, 0.9251083231685363, 0.023274427304446985, 0.044308689948697265, 0.0019177301490939849, 0.0017152097848376498, 0.9942977419251737, 0.0010387984853148327, 0.0010307379733046304, 0.7615117174905953, 0.0018868557138710506, 0.20650138110260707, 0.007589328689222165, 0.022510720688370827, 0.5560724531367335, 0.010253915421960864, 0.37374908406378393, 0.034836155316321255, 0.025088365123504285, 0.0032350725587624355, 0.1552577943452468, 0.5171704377601076, 0.3168455640838256, 0.0074909827901328, 0.012699398914804377, 0.94860362344954, 0.017575511648292422, 0.014351834958151136, 0.006769940496314412, 0.0028090856740462726, 0.0025740527750100187, 0.9836254666829879, 0.0015301723468636444, 0.009461303437773214, 0.017566236798811204, 0.002119341118111984, 0.9693709562400975, 0.009668457397396241, 0.0012748384073150139, 0.43742194072352775, 0.0009433113047750987, 0.5303864273590202, 0.023316546140877442, 0.007931972930880602, 0.6225036540341494, 0.008518057582850099, 0.27728475102160893, 0.06032576286973793, 0.03136770532093441, 0.10204245225124918, 0.4859952811738698, 0.06150177353974691, 0.31454123847043663, 0.03591928456966164, 0.49787638182683736, 0.03618174984834214, 0.36235934656356833, 0.08432380994394353, 0.019258858563598966, 0.9573404391643799, 0.011242601931219962, 0.0178018899052258, 0.006835166505886969, 0.006777783771255693, 0.6557079271191174, 0.007273909391124541, 0.27254889720197195, 0.027216044041064893, 0.037253230182281515, 0.7587029136472051, 0.0009859826859142664, 0.2299109814230391, 0.0037453888109963565, 0.00665490263153635, 0.021183422774101762, 0.4786268061997119, 0.29071155122842124, 0.025364400929405766, 0.18411384786974175, 0.009043095689653748, 0.9046827256795221, 0.010592622328896437, 0.04458561108680032, 0.031095069594845398, 0.6921246417826474, 0.11103421077041566, 0.1475808187573674, 0.027644473726143294, 0.021615645466107194, 0.9103495173063959, 0.01637745070032803, 0.06657069188979842, 0.0012494478541207857, 0.00545285181955927, 0.00410526791478913, 0.9391862667778359, 0.05191601171214168, 0.0026190836705301396, 0.0021730879261518507, 0.006345552634647431, 0.889303548566653, 0.07653087403991828, 0.0034626239262916855, 0.024356083371208866, 0.04309695338057788, 0.9208879395513074, 0.009643930762331667, 0.02260375057801327, 0.003767291763002212, 0.3819440628336583, 0.01757810792122693, 0.5563159971797706, 0.04183703617925939, 0.002324652464707432, 0.005477740064201214, 0.891686896756535, 0.007559054545304228, 0.09236199105837169, 0.0029145960845223776, 0.002778829011862273, 0.6945637871856407, 0.0038595107854986046, 0.18692887860916546, 0.11186908284687384, 0.0051082088402288365, 0.9792644753768193, 0.007166340260534658, 0.00284435372297806, 0.005616256926597244, 0.03853089652041018, 0.034448777063877216, 0.05543194885777192, 0.8508861407119113, 0.020700252623639944, 0.0032572847666356595, 0.0028652665070147357, 0.9772566550536047, 0.01488884228385735, 0.0017312737731756682, 0.017239847083589638, 0.012817720958913302, 0.11406557056010702, 0.8108181423835498, 0.04505908559101257, 0.0028709254314639447, 0.8847571460563584, 0.003400082610948187, 0.04024765543432955, 0.06872463551138266, 0.02716457355473532, 0.05903999809896942, 0.8989192487773459, 0.012824262968206315, 0.0020518714750345393, 0.048306556688517834, 0.0611995819754299, 0.6850488732523734, 0.20471462253589168, 0.0007303883899810719, 0.011459625282486056, 0.055820760112218384, 0.2738426904077558, 0.6526948110183449, 0.0061824567997997995, 0.15776688240327744, 0.13287030698726665, 0.5997564858946038, 0.10529587069164666, 0.0043104582438263485, 0.0014418257668252724, 0.4367538960136089, 0.5429573795222301, 0.0008291254890753447, 0.018017272720922944, 0.010574270469129845, 0.6084114353123559, 0.2490096304710394, 0.0177964158077576, 0.11420860923759715, 0.005502534894463029, 0.9349936572745234, 0.007754403717017652, 0.04879081220878937, 0.002958828495674851, 0.009388688266815246, 0.9656244611428287, 0.014894602525761448, 0.005064132134157056, 0.005026498842045388, 0.0191217489305098, 0.9030395281876855, 0.025826158407195498, 0.007831433009082511, 0.04417982448489143, 0.02040122986078306, 0.002141391351878884, 0.9529737273521036, 0.008107937502979591, 0.01637555965462676, 0.003704545286589937, 0.0033171545813711263, 0.9889760256409431, 0.002008980943647302, 0.0019934074479601134, 0.901317741445827, 0.0017458983965529596, 0.09481242834123454, 0.0010609979298950288, 0.0010630475073513618, 0.007117397874373876, 0.1852494647932967, 0.009908072428496085, 0.7938024799122927, 0.003923804959483247, 0.09187635810640997, 0.09311377207044824, 0.8044628894385556, 0.004543999760515373, 0.006002989418685516, 0.698904396176753, 0.0005211191020056656, 0.29986754756095735, 0.000385622027426736, 0.00032138562317481664, 0.3095145102222859, 0.0044153479471801425, 0.006969966775102977, 0.6764527090711507, 0.0026486909401672904, 0.01589165511128607, 0.08739859664807087, 0.03959422941015333, 0.8486672449971006, 0.008446915779872777, 0.02177341258548802, 0.363165273901746, 0.5481127335592202, 0.059981351092049516, 0.006967153578221016, 0.0018775846209476634, 0.10067834336232376, 0.8879945635058386, 0.006282661777393858, 0.0031672353918500663, 0.0050200110521112775, 0.030361984033863705, 0.3821129707004243, 0.101084926794636, 0.4814206319259847, 0.4356531166649724, 0.0077004293037423845, 0.5203195171975428, 0.025074208515379937, 0.011252849096245998, 0.006687776669868678, 0.005953709974528489, 0.9798909038891912, 0.003881392147399075, 0.003585678075816534, 0.9757949494116007, 0.0064064564732103065, 0.010047716901479929, 0.003888871165021128, 0.003862476111864876, 0.11085063395241591, 0.0015562580586861382, 0.8789652646961972, 0.00789713900566962, 0.0007306286882307886, 0.08881186651428119, 0.37460096988175534, 0.2110413416247078, 0.07577188028896337, 0.24977413353319658, 0.007979657624992071, 0.11840543440501627, 0.0112444440167299, 0.004322314546870706, 0.8580478904991474, 0.007677469808427995, 0.26059042218459433, 0.010931523450970744, 0.004173414522963747, 0.7166283653396248, 0.022547144051165795, 0.021018457849673544, 0.034702349678888085, 0.16182570477229122, 0.7599056101100815, 0.22245469914347202, 0.1243336404227571, 0.5662896838617265, 0.06561469498096244, 0.021307252598405196, 0.9137992766885512, 0.021238800833164716, 0.03877786042413773, 0.024200402043967846, 0.001983226628516445, 0.9748937965031697, 0.006642111496774811, 0.01044095603094592, 0.004025680137790111, 0.0039983034270085075, 0.5775141428138544, 0.07951105841750908, 0.2398493554972393, 0.04149438150088492, 0.06163082213081608, 0.028762925715117484, 0.8869014924790262, 0.004104696187150391, 0.042150116309726586, 0.038081020663960574, 0.0030137971608290184, 0.002573369621991595, 0.9913013744324806, 0.0015591740967788135, 0.0015521030124396806, 0.003110562633539438, 0.0031360679447355916, 0.9710230132064889, 0.009489603763556202, 0.013241055174173462, 0.001824667091692039, 0.042969826931814045, 0.9125673631723641, 0.0225152706076804, 0.020122624915344695, 0.22605381081048553, 0.03942870167746113, 0.005631566572727428, 0.5135576614176114, 0.21532865823797478, 0.007456985563194027, 0.006224285308697982, 0.9787226689252321, 0.003802649305782673, 0.0037929238599878324, 0.00974323622840704, 0.914118718667223, 0.013516941450495536, 0.05742837812403045, 0.005194135316898835, 0.005585044626054504, 0.00499328420595591, 0.9833796411886696, 0.003035095179447833, 0.003006729803938975, 0.013075873030506262, 0.05324136277179101, 0.8223802947621168, 0.09256053472080945, 0.01874202178825592, 0.024488307695330138, 0.02156628721225759, 0.21622951574736854, 0.7247371961097998, 0.012982059165025647, 0.002394660169323571, 0.2909795235064398, 0.3788673040371195, 0.2263506473896003, 0.10140771801657292, 0.04333153409003166, 0.039003667777745075, 0.06159467674816249, 0.04614124834512871, 0.8099303460129623, 0.011483691968836193, 0.9287167592669487, 0.01606312756095026, 0.0061941730654613385, 0.03754214478405907, 0.05405588409569725, 0.7973740610766611, 0.0243497390227599, 0.06746313645940913, 0.05675738402786652, 0.021355591750380626, 0.8466582649584098, 0.005157676213307104, 0.04088451988481968, 0.08594372055377016, 0.03858940236647308, 0.031837776220149994, 0.053399224975464406, 0.8575112142241812, 0.018656608703161003, 0.001059319070416772, 0.5241799622001709, 0.3240940551662322, 0.05665573634364465, 0.09401084876652954, 0.015749462052662238, 0.9193964409057183, 0.0033449680114951614, 0.004432795610848642, 0.05707631775034801, 0.056227766163692655, 0.05061867026901772, 0.08197683878123352, 0.7807685590394299, 0.030410289937680142, 0.013315419901867152, 0.635612285827986, 0.13487094660435295, 0.10709608868645075, 0.10910532453054031, 0.004651226915037217, 0.8476279445931953, 0.12040397984205907, 0.02472519994919049, 0.0025907935859380087, 0.01404470539284227, 0.10355090204736604, 0.019817005776811475, 0.13220161083217116, 0.7303835064189723, 0.0011295357913312888, 0.29229273676566464, 0.5598134172563135, 0.08376226444027525, 0.06300200769998791, 0.022351779853419358, 0.015382257967459435, 0.02480524398583666, 0.06866091535279586, 0.8687999122336281, 0.0034457962725581944, 0.0030351019872309, 0.969272935725809, 0.0023828577392905875, 0.021862942316310502, 0.10944499152812037, 0.8751054334206158, 0.008983961354290696, 0.003246569981168492, 0.0032192790598912914, 0.004276263668770766, 0.0038520666625764554, 0.9871891853784623, 0.002301399223412719, 0.0023811691349466223, 0.0576327720076974, 0.7249128350785286, 0.15410725407296866, 0.03621727702748281, 0.027129937281754904, 0.003005515251308435, 0.0026818605709451556, 0.9910632598742837, 0.0016324826316860034, 0.001617220866270499, 0.05787899924152871, 0.017771818728041944, 0.027651513143169014, 0.8860799614364797, 0.010618618928169815, 0.018820041960211944, 0.016478989233584942, 0.025400895981216056, 0.0908145217636885, 0.8484847052352327, 0.06491215777926425, 0.9005662010206157, 0.008680477025934049, 0.004723078343449255, 0.021118610214101295, 0.018055265967352862, 0.01619249636588661, 0.025303938168644288, 0.009753448982889512, 0.9306953545987975, 0.02223886707814419, 0.0410081146365222, 0.0317338526389329, 0.6998292273546246, 0.20518772222474393, 0.0035240497582545876, 0.003168066440587764, 0.9895015946389334, 0.0019057755082717825, 0.0019002229088627678, 0.006942078535435648, 0.006215044741356748, 0.9790640708557491, 0.004026648705667752, 0.0037518834256312452, 0.04077387349831802, 0.7367811684400921, 0.08816085266655048, 0.0998766656884516, 0.03440734006709339, 0.20555210665603238, 0.004049667762173862, 0.2585149259842857, 0.04816355166427754, 0.4837204732176748, 0.002640927738395942, 0.9357591631631915, 0.057289200848583265, 0.001331599795438369, 0.0029792885741618835, 0.02295269732138903, 0.015377946502910722, 0.024801297223517666, 0.06817876907330356, 0.868688655471989, 0.4874449671230871, 0.018421350266338284, 0.3799095683698628, 0.05831163244230894, 0.055912689892900005, 0.7769770484442338, 0.0019038306439169844, 0.2124184717606853, 0.0009752396737052139, 0.0077255262241893614, 0.30894009436729475, 0.013206663594335399, 0.666929240205305, 0.0015803328699398758, 0.009343736974332995, 0.0020031669137808876, 0.8732960882007311, 0.0717610960304145, 0.006107066980673254, 0.04683276088105347, 0.9343810718767842, 0.004746350669119124, 0.031810317890899546, 0.026244151314708107, 0.002817318362166112, 0.03935331567024289, 0.9306770400027442, 0.016972664289854757, 0.006459883893039871, 0.006536197974790342, 0.16809313091386935, 0.03424345762654724, 0.6378858433040935, 0.14897571152710137, 0.010801806133433199, 0.013430032277788348, 0.11195932635309758, 0.42799094722055187, 0.3874127187327418, 0.05920683156029212, 0.0019005394981907533, 0.06391682366913433, 0.5365932445703008, 0.09503225693697749, 0.30255684263997723, 0.19301456247563373, 0.3419233410367067, 0.004772709847470369, 0.05761313686589549, 0.40267606856804705, 0.056222004165468235, 0.05058800479736518, 0.0801345459861081, 0.03062811174806463, 0.7824278075325815, 0.03184879198496365, 0.028865233289121314, 0.047597520502830455, 0.7026475914791595, 0.18904050966666042, 0.010749234333181432, 0.43165226695262715, 0.3363133211495543, 0.055969633397574686, 0.16531567486056817, 0.0026221247599953717, 0.46757194332117125, 0.203107338404284, 0.04795725795932122, 0.27874182515585344, 0.027160820220729888, 0.06923925097108521, 0.15031042893434837, 0.034188352831239124, 0.719101642003702, 0.00595410871003225, 0.8994987608616093, 0.025991513586468454, 0.0033319246535923512, 0.0652231806916223, 0.9341385549086167, 0.002949645444631973, 0.05945051639642685, 0.0017373478554266553, 0.001723970778580252, 0.01507167634252667, 0.9465175368225655, 0.021075690813122484, 0.00808928817270314, 0.009246024905570223, 0.35867574748070746, 0.44494466437342145, 0.15600545422575626, 0.032116044473501394, 0.008257924842319296, 0.0040786033402202704, 0.0035980640817468456, 0.9879725332794221, 0.0021859963046514373, 0.002164185591602131, 0.0017661554361691233, 0.0016027312231669429, 0.9831202133918606, 0.012562348199471966, 0.0009487254406988591, 0.003425157754817882, 0.003070810485347016, 0.9796411292434273, 0.00759904591207589, 0.00626411876199509, 0.05597255670083078, 0.001673820085519453, 0.9395647048257897, 0.0017846690978055096, 0.0010038356142022587, 0.9573907085234493, 0.011242466566662404, 0.017775191544542403, 0.0068063931864128105, 0.006784323169595648, 0.007934015333922064, 0.33712510278660557, 0.44993864984989707, 0.009172032411096435, 0.1958301905272912, 0.0007055784004327561, 0.13082596440825267, 0.4756686661033249, 0.033360448547534685, 0.3594393778580155, 0.004590454561589178, 0.061117394858687835, 0.35181008025364663, 0.002526183530423468, 0.5799558312448009, 0.015793639176140357, 0.10800357929717619, 0.024981563275468913, 0.8427123197678396, 0.008509990887440486, 0.17608928437869673, 0.012289906380274159, 0.1162595176852421, 0.6532226908436618, 0.04213874932176858, 0.02032471606648034, 0.14310124751093667, 0.19027267239464363, 0.6355507476057618, 0.010751293333812887, 0.9565873270422174, 0.011307277946196095, 0.018273073222049085, 0.0069989026678484905, 0.006833365707870995, 0.854408329255055, 0.003149044840641282, 0.12991653563666758, 0.0018850388411270533, 0.010640443946730431, 0.8038087792576203, 0.0020167928642049163, 0.10188504323860795, 0.010895331133252266, 0.08139396277163143, 0.957470587454866, 0.011245352525622091, 0.01766149379980922, 0.006835496913022888, 0.00678693994431559, 0.023894506558681725, 0.7778110469725836, 0.12309528153021891, 0.03509394230880495, 0.0401053629752025, 0.005631282233028236, 0.9803528112812943, 0.007869456667815706, 0.003102410284990617, 0.0030444671995792693, 0.0024790827998862615, 0.5051735961779097, 0.002277310043137538, 0.0836439281377065, 0.4064264580326099, 0.009338129792973831, 0.008287430510522262, 0.1740567992174293, 0.6848084270083021, 0.12350986033292408, 0.004707051847771177, 0.5565374809730991, 0.006648638717659656, 0.4295376171391008, 0.0025695778752826744, 0.03872854578601677, 0.03548938207134557, 0.05507925160560444, 0.8475632140640382, 0.023138807741393427, 0.027122897177258652, 0.04344699504046775, 0.037912194688128224, 0.014651780503532262, 0.87686915556305, 0.8106791470063984, 0.011413888494289176, 0.13280208233197097, 0.029046729733992842, 0.016058293200738413, 0.08501729592963896, 0.011869750346527728, 0.21882155164430636, 0.12542462454001677, 0.5588662041737946, 0.01496913139814009, 0.18701955080914837, 0.020041609573339222, 0.007333219030905596, 0.7706359511681666, 0.011004720388516296, 0.009657203606248995, 0.2583114809562958, 0.005807423021354774, 0.7152188623524947, 0.9442558333276546, 0.006019007950972057, 0.04249900576384092, 0.0036432366211635535, 0.003581664063471695, 0.005185350095583065, 0.00464821496757166, 0.984552357833579, 0.002815422807803018, 0.0027990909964783475, 0.008009300022163802, 0.04498716670439742, 0.19840494033734246, 0.6910818200626709, 0.05751603009148863, 0.017126948281966994, 0.02185821547391602, 0.026697011465682072, 0.9251270161368663, 0.009190725473249468, 0.015196817243348506, 0.0974480974359069, 0.021848908773799396, 0.8258760102133259, 0.03963117579793767, 0.0006922232292496557, 0.10615489408721236, 0.6112501273750269, 0.02295511668906799, 0.25894772484272377, 0.029087219931653956, 0.08214363880286422, 0.5346786267959209, 0.35311417203990986, 0.0009761952944085858, 0.1104603404131637, 0.042196098542531375, 0.06997892432024048, 0.0255959843927016, 0.751768143546807, 0.2847928403835144, 0.3931224846204137, 0.12703116678517745, 0.046160897161769986, 0.14889264620417458, 0.017757300500746708, 0.9177405452329835, 0.02835119661920354, 0.026683299479446497, 0.009469745665287252, 0.7885190375140451, 0.019671856384615462, 0.1835583794822569, 0.0011953291266350384, 0.0070559495849901255, 0.007715173184262852, 0.13810379437582107, 0.08287776634913513, 0.0039847314070301865, 0.7673196033191708, 0.023771638991099006, 0.02155461649201663, 0.0388956423807116, 0.012894502339878726, 0.9028855323889599, 0.9799012540577079, 0.005346027277579249, 0.008373270814331901, 0.003205134171642115, 0.0031741067353241855, 0.02666038198959796, 0.11567351378235749, 0.8377964364879045, 0.014843029774181131, 0.005026860990314539, 0.9019202656376275, 0.002948422290251527, 0.09097564559662798, 0.0017725939935968893, 0.0023830653142009727, 0.6256129886431143, 0.2974534275560877, 0.0018561896822330603, 0.019242036095405313, 0.05583526182573703, 0.5130126631976154, 0.0831745725922894, 0.31869683835856993, 0.05924470699272391, 0.025871295847760243, 0.09525626620013293, 0.037797565728543266, 0.8233567123243415, 0.03007090094920487, 0.013518653125690987, 0.6742140339980609, 0.0011794934571446281, 0.31228108451862147, 0.011602780200466798, 0.0007225828849109324, 0.002114508618883309, 0.057587938677550105, 0.9286698441593514, 0.0007421515343002748, 0.010885368595793114, 0.9620582298863583, 0.010147995811117652, 0.01568558286277061, 0.006064882951438674, 0.0060413604577679355, 0.8949034295937501, 0.00315111550134965, 0.08646724152526769, 0.01263303114671099, 0.0028453649039000216, 0.9545702954065411, 0.011999469650302222, 0.018851934748992674, 0.007264696584517482, 0.007311808754326286, 0.31281469652517596, 0.22532021007288075, 0.2576712398238372, 0.1389546392271597, 0.065239330454482, 0.09835126276428797, 0.14593953206224453, 0.667394747002241, 0.07547513075190364, 0.012839335139768666, 0.005396770164380641, 0.004800894442410827, 0.9840082692498492, 0.002906894517287183, 0.0028861847765552146, 0.005578843209091124, 0.004659622621776662, 0.9841785396766585, 0.0028003106934377372, 0.0027821622119507785, 0.969893711526662, 0.0067271544632217205, 0.015291354590775906, 0.004090714016536219, 0.003995671965865581, 0.011853527543477073, 0.0021056984558113106, 0.9598264193840662, 0.02488276749185483, 0.0013311886789611734, 0.013335592664324014, 0.9378238025083414, 0.019092551669150404, 0.007216634208889878, 0.022535049670413733, 0.054291021379220185, 0.15743750852961985, 0.7521018557012443, 0.029053329833508282, 0.007116154811490797], \"Term\": [\"000\", \"000\", \"000\", \"000\", \"000\", \"1960\", \"1960\", \"1960\", \"1960\", \"1960\", \"1961\", \"1961\", \"1961\", \"1961\", \"1961\", \"30\", \"30\", \"30\", \"30\", \"30\", \"62\", \"62\", \"62\", \"62\", \"62\", \"academic\", \"academic\", \"academic\", \"academic\", \"academic\", \"act\", \"act\", \"act\", \"act\", \"act\", \"adjustments\", \"adjustments\", \"adjustments\", \"adjustments\", \"adjustments\", \"administration\", \"administration\", \"administration\", \"administration\", \"administration\", \"adopting\", \"adopting\", \"adopting\", \"adopting\", \"adopting\", \"agreement\", \"agreement\", \"agreement\", \"agreement\", \"agreement\", \"aid\", \"aid\", \"aid\", \"aid\", \"aid\", \"aircraft\", \"aircraft\", \"aircraft\", \"aircraft\", \"aircraft\", \"alexander\", \"alexander\", \"alexander\", \"alexander\", \"alexander\", \"allocation\", \"allocation\", \"allocation\", \"allocation\", \"allocation\", \"american\", \"american\", \"american\", \"american\", \"american\", \"anne\", \"anne\", \"anne\", \"anne\", \"anne\", \"anti\", \"anti\", \"anti\", \"anti\", \"anti\", \"appearances\", \"appearances\", \"appearances\", \"appearances\", \"appearances\", \"areas\", \"areas\", \"areas\", \"areas\", \"areas\", \"art\", \"art\", \"art\", \"art\", \"art\", \"assessment\", \"assessment\", \"assessment\", \"assessment\", \"assessment\", \"authorities\", \"authorities\", \"authorities\", \"authorities\", \"authorities\", \"authorized\", \"authorized\", \"authorized\", \"authorized\", \"authorized\", \"available\", \"available\", \"available\", \"available\", \"available\", \"away\", \"away\", \"away\", \"away\", \"away\", \"baby\", \"baby\", \"baby\", \"baby\", \"baby\", \"bankers\", \"bankers\", \"bankers\", \"bankers\", \"bankers\", \"banks\", \"banks\", \"banks\", \"banks\", \"banks\", \"baseball\", \"baseball\", \"baseball\", \"baseball\", \"baseball\", \"bed\", \"bed\", \"bed\", \"bed\", \"bed\", \"berlin\", \"berlin\", \"berlin\", \"berlin\", \"berlin\", \"billion\", \"billion\", \"billion\", \"billion\", \"billion\", \"black\", \"black\", \"black\", \"black\", \"black\", \"board\", \"board\", \"board\", \"board\", \"board\", \"boats\", \"boats\", \"boats\", \"boats\", \"boats\", \"bonds\", \"bonds\", \"bonds\", \"bonds\", \"bonds\", \"bride\", \"bride\", \"bride\", \"bride\", \"bride\", \"business\", \"business\", \"business\", \"business\", \"business\", \"calendar\", \"calendar\", \"calendar\", \"calendar\", \"calendar\", \"came\", \"came\", \"came\", \"came\", \"came\", \"campus\", \"campus\", \"campus\", \"campus\", \"campus\", \"captain\", \"captain\", \"captain\", \"captain\", \"captain\", \"cars\", \"cars\", \"cars\", \"cars\", \"cars\", \"castro\", \"castro\", \"castro\", \"castro\", \"castro\", \"catholic\", \"catholic\", \"catholic\", \"catholic\", \"catholic\", \"cattle\", \"cattle\", \"cattle\", \"cattle\", \"cattle\", \"chamber\", \"chamber\", \"chamber\", \"chamber\", \"chamber\", \"charter\", \"charter\", \"charter\", \"charter\", \"charter\", \"chemical\", \"chemical\", \"chemical\", \"chemical\", \"chemical\", \"china\", \"china\", \"china\", \"china\", \"china\", \"chinese\", \"chinese\", \"chinese\", \"chinese\", \"chinese\", \"city\", \"city\", \"city\", \"city\", \"city\", \"claim\", \"claim\", \"claim\", \"claim\", \"claim\", \"claims\", \"claims\", \"claims\", \"claims\", \"claims\", \"class\", \"class\", \"class\", \"class\", \"class\", \"classical\", \"classical\", \"classical\", \"classical\", \"classical\", \"clay\", \"clay\", \"clay\", \"clay\", \"clay\", \"clerical\", \"clerical\", \"clerical\", \"clerical\", \"clerical\", \"cloth\", \"cloth\", \"cloth\", \"cloth\", \"cloth\", \"clothes\", \"clothes\", \"clothes\", \"clothes\", \"clothes\", \"coach\", \"coach\", \"coach\", \"coach\", \"coach\", \"coal\", \"coal\", \"coal\", \"coal\", \"coal\", \"coat\", \"coat\", \"coat\", \"coat\", \"coat\", \"college\", \"college\", \"college\", \"college\", \"college\", \"colleges\", \"colleges\", \"colleges\", \"colleges\", \"colleges\", \"colored\", \"colored\", \"colored\", \"colored\", \"colored\", \"colors\", \"colors\", \"colors\", \"colors\", \"colors\", \"come\", \"come\", \"come\", \"come\", \"come\", \"committee\", \"committee\", \"committee\", \"committee\", \"committee\", \"commodities\", \"commodities\", \"commodities\", \"commodities\", \"commodities\", \"communist\", \"communist\", \"communist\", \"communist\", \"communist\", \"company\", \"company\", \"company\", \"company\", \"company\", \"compared\", \"compared\", \"compared\", \"compared\", \"compared\", \"components\", \"components\", \"components\", \"components\", \"components\", \"congo\", \"congo\", \"congo\", \"congo\", \"congo\", \"connections\", \"connections\", \"connections\", \"connections\", \"connections\", \"conservation\", \"conservation\", \"conservation\", \"conservation\", \"conservation\", \"coordination\", \"coordination\", \"coordination\", \"coordination\", \"coordination\", \"cost\", \"cost\", \"cost\", \"cost\", \"cost\", \"couldn\", \"couldn\", \"couldn\", \"couldn\", \"couldn\", \"countries\", \"countries\", \"countries\", \"countries\", \"countries\", \"county\", \"county\", \"county\", \"county\", \"county\", \"courses\", \"courses\", \"courses\", \"courses\", \"courses\", \"cousin\", \"cousin\", \"cousin\", \"cousin\", \"cousin\", \"creative\", \"creative\", \"creative\", \"creative\", \"creative\", \"cuba\", \"cuba\", \"cuba\", \"cuba\", \"cuba\", \"cuban\", \"cuban\", \"cuban\", \"cuban\", \"cuban\", \"curriculum\", \"curriculum\", \"curriculum\", \"curriculum\", \"curriculum\", \"daily\", \"daily\", \"daily\", \"daily\", \"daily\", \"day\", \"day\", \"day\", \"day\", \"day\", \"definition\", \"definition\", \"definition\", \"definition\", \"definition\", \"democratic\", \"democratic\", \"democratic\", \"democratic\", \"democratic\", \"democrats\", \"democrats\", \"democrats\", \"democrats\", \"democrats\", \"denied\", \"denied\", \"denied\", \"denied\", \"denied\", \"department\", \"department\", \"department\", \"department\", \"department\", \"design\", \"design\", \"design\", \"design\", \"design\", \"designer\", \"designer\", \"designer\", \"designer\", \"designer\", \"development\", \"development\", \"development\", \"development\", \"development\", \"didn\", \"didn\", \"didn\", \"didn\", \"didn\", \"don\", \"don\", \"don\", \"don\", \"don\", \"door\", \"door\", \"door\", \"door\", \"door\", \"dry\", \"dry\", \"dry\", \"dry\", \"dry\", \"east\", \"east\", \"east\", \"east\", \"east\", \"education\", \"education\", \"education\", \"education\", \"education\", \"eisenhower\", \"eisenhower\", \"eisenhower\", \"eisenhower\", \"eisenhower\", \"electronic\", \"electronic\", \"electronic\", \"electronic\", \"electronic\", \"engineer\", \"engineer\", \"engineer\", \"engineer\", \"engineer\", \"entrance\", \"entrance\", \"entrance\", \"entrance\", \"entrance\", \"equipment\", \"equipment\", \"equipment\", \"equipment\", \"equipment\", \"exercise\", \"exercise\", \"exercise\", \"exercise\", \"exercise\", \"eyes\", \"eyes\", \"eyes\", \"eyes\", \"eyes\", \"faculty\", \"faculty\", \"faculty\", \"faculty\", \"faculty\", \"federal\", \"federal\", \"federal\", \"federal\", \"federal\", \"feed\", \"feed\", \"feed\", \"feed\", \"feed\", \"fig\", \"fig\", \"fig\", \"fig\", \"fig\", \"filing\", \"filing\", \"filing\", \"filing\", \"filing\", \"fingers\", \"fingers\", \"fingers\", \"fingers\", \"fingers\", \"fiscal\", \"fiscal\", \"fiscal\", \"fiscal\", \"fiscal\", \"flowers\", \"flowers\", \"flowers\", \"flowers\", \"flowers\", \"forests\", \"forests\", \"forests\", \"forests\", \"forests\", \"frames\", \"frames\", \"frames\", \"frames\", \"frames\", \"fulfill\", \"fulfill\", \"fulfill\", \"fulfill\", \"fulfill\", \"game\", \"game\", \"game\", \"game\", \"game\", \"gen\", \"gen\", \"gen\", \"gen\", \"gen\", \"general\", \"general\", \"general\", \"general\", \"general\", \"good\", \"good\", \"good\", \"good\", \"good\", \"got\", \"got\", \"got\", \"got\", \"got\", \"government\", \"government\", \"government\", \"government\", \"government\", \"growth\", \"growth\", \"growth\", \"growth\", \"growth\", \"hadn\", \"hadn\", \"hadn\", \"hadn\", \"hadn\", \"hair\", \"hair\", \"hair\", \"hair\", \"hair\", \"ham\", \"ham\", \"ham\", \"ham\", \"ham\", \"handicapped\", \"handicapped\", \"handicapped\", \"handicapped\", \"handicapped\", \"handsome\", \"handsome\", \"handsome\", \"handsome\", \"handsome\", \"hated\", \"hated\", \"hated\", \"hated\", \"hated\", \"hearing\", \"hearing\", \"hearing\", \"hearing\", \"hearing\", \"hell\", \"hell\", \"hell\", \"hell\", \"hell\", \"high\", \"high\", \"high\", \"high\", \"high\", \"home\", \"home\", \"home\", \"home\", \"home\", \"house\", \"house\", \"house\", \"house\", \"house\", \"inc\", \"inc\", \"inc\", \"inc\", \"inc\", \"inch\", \"inch\", \"inch\", \"inch\", \"inch\", \"income\", \"income\", \"income\", \"income\", \"income\", \"india\", \"india\", \"india\", \"india\", \"india\", \"industrial\", \"industrial\", \"industrial\", \"industrial\", \"industrial\", \"industry\", \"industry\", \"industry\", \"industry\", \"industry\", \"insurance\", \"insurance\", \"insurance\", \"insurance\", \"insurance\", \"interference\", \"interference\", \"interference\", \"interference\", \"interference\", \"interior\", \"interior\", \"interior\", \"interior\", \"interior\", \"investment\", \"investment\", \"investment\", \"investment\", \"investment\", \"island\", \"island\", \"island\", \"island\", \"island\", \"islands\", \"islands\", \"islands\", \"islands\", \"islands\", \"john\", \"john\", \"john\", \"john\", \"john\", \"junior\", \"junior\", \"junior\", \"junior\", \"junior\", \"katanga\", \"katanga\", \"katanga\", \"katanga\", \"katanga\", \"kennedy\", \"kennedy\", \"kennedy\", \"kennedy\", \"kennedy\", \"khrushchev\", \"khrushchev\", \"khrushchev\", \"khrushchev\", \"khrushchev\", \"knew\", \"knew\", \"knew\", \"knew\", \"knew\", \"know\", \"know\", \"know\", \"know\", \"know\", \"labor\", \"labor\", \"labor\", \"labor\", \"labor\", \"laboratory\", \"laboratory\", \"laboratory\", \"laboratory\", \"laboratory\", \"laos\", \"laos\", \"laos\", \"laos\", \"laos\", \"league\", \"league\", \"league\", \"league\", \"league\", \"left\", \"left\", \"left\", \"left\", \"left\", \"let\", \"let\", \"let\", \"let\", \"let\", \"level\", \"level\", \"level\", \"level\", \"level\", \"life\", \"life\", \"life\", \"life\", \"life\", \"liked\", \"liked\", \"liked\", \"liked\", \"liked\", \"little\", \"little\", \"little\", \"little\", \"little\", \"ll\", \"ll\", \"ll\", \"ll\", \"ll\", \"local\", \"local\", \"local\", \"local\", \"local\", \"location\", \"location\", \"location\", \"location\", \"location\", \"look\", \"look\", \"look\", \"look\", \"look\", \"looked\", \"looked\", \"looked\", \"looked\", \"looked\", \"machine\", \"machine\", \"machine\", \"machine\", \"machine\", \"machinery\", \"machinery\", \"machinery\", \"machinery\", \"machinery\", \"machines\", \"machines\", \"machines\", \"machines\", \"machines\", \"man\", \"man\", \"man\", \"man\", \"man\", \"manufacturers\", \"manufacturers\", \"manufacturers\", \"manufacturers\", \"manufacturers\", \"market\", \"market\", \"market\", \"market\", \"market\", \"marketing\", \"marketing\", \"marketing\", \"marketing\", \"marketing\", \"mathematics\", \"mathematics\", \"mathematics\", \"mathematics\", \"mathematics\", \"mayor\", \"mayor\", \"mayor\", \"mayor\", \"mayor\", \"meat\", \"meat\", \"meat\", \"meat\", \"meat\", \"medical\", \"medical\", \"medical\", \"medical\", \"medical\", \"meeting\", \"meeting\", \"meeting\", \"meeting\", \"meeting\", \"members\", \"members\", \"members\", \"members\", \"members\", \"membership\", \"membership\", \"membership\", \"membership\", \"membership\", \"men\", \"men\", \"men\", \"men\", \"men\", \"military\", \"military\", \"military\", \"military\", \"military\", \"million\", \"million\", \"million\", \"million\", \"million\", \"missile\", \"missile\", \"missile\", \"missile\", \"missile\", \"missiles\", \"missiles\", \"missiles\", \"missiles\", \"missiles\", \"mobile\", \"mobile\", \"mobile\", \"mobile\", \"mobile\", \"monday\", \"monday\", \"monday\", \"monday\", \"monday\", \"moscow\", \"moscow\", \"moscow\", \"moscow\", \"moscow\", \"mother\", \"mother\", \"mother\", \"mother\", \"mother\", \"motors\", \"motors\", \"motors\", \"motors\", \"motors\", \"mr\", \"mr\", \"mr\", \"mr\", \"mr\", \"mrs\", \"mrs\", \"mrs\", \"mrs\", \"mrs\", \"music\", \"music\", \"music\", \"music\", \"music\", \"musical\", \"musical\", \"musical\", \"musical\", \"musical\", \"national\", \"national\", \"national\", \"national\", \"national\", \"nations\", \"nations\", \"nations\", \"nations\", \"nations\", \"officer\", \"officer\", \"officer\", \"officer\", \"officer\", \"old\", \"old\", \"old\", \"old\", \"old\", \"opposition\", \"opposition\", \"opposition\", \"opposition\", \"opposition\", \"pale\", \"pale\", \"pale\", \"pale\", \"pale\", \"party\", \"party\", \"party\", \"party\", \"party\", \"pay\", \"pay\", \"pay\", \"pay\", \"pay\", \"payment\", \"payment\", \"payment\", \"payment\", \"payment\", \"payments\", \"payments\", \"payments\", \"payments\", \"payments\", \"payroll\", \"payroll\", \"payroll\", \"payroll\", \"payroll\", \"people\", \"people\", \"people\", \"people\", \"people\", \"pieces\", \"pieces\", \"pieces\", \"pieces\", \"pieces\", \"pink\", \"pink\", \"pink\", \"pink\", \"pink\", \"place\", \"place\", \"place\", \"place\", \"place\", \"planning\", \"planning\", \"planning\", \"planning\", \"planning\", \"player\", \"player\", \"player\", \"player\", \"player\", \"police\", \"police\", \"police\", \"police\", \"police\", \"political\", \"political\", \"political\", \"political\", \"political\", \"pool\", \"pool\", \"pool\", \"pool\", \"pool\", \"pope\", \"pope\", \"pope\", \"pope\", \"pope\", \"precision\", \"precision\", \"precision\", \"precision\", \"precision\", \"premier\", \"premier\", \"premier\", \"premier\", \"premier\", \"president\", \"president\", \"president\", \"president\", \"president\", \"prestige\", \"prestige\", \"prestige\", \"prestige\", \"prestige\", \"problem\", \"problem\", \"problem\", \"problem\", \"problem\", \"proceedings\", \"proceedings\", \"proceedings\", \"proceedings\", \"proceedings\", \"procurement\", \"procurement\", \"procurement\", \"procurement\", \"procurement\", \"production\", \"production\", \"production\", \"production\", \"production\", \"products\", \"products\", \"products\", \"products\", \"products\", \"professors\", \"professors\", \"professors\", \"professors\", \"professors\", \"program\", \"program\", \"program\", \"program\", \"program\", \"property\", \"property\", \"property\", \"property\", \"property\", \"prosperity\", \"prosperity\", \"prosperity\", \"prosperity\", \"prosperity\", \"provide\", \"provide\", \"provide\", \"provide\", \"provide\", \"providence\", \"providence\", \"providence\", \"providence\", \"providence\", \"provisions\", \"provisions\", \"provisions\", \"provisions\", \"provisions\", \"public\", \"public\", \"public\", \"public\", \"public\", \"puerto\", \"puerto\", \"puerto\", \"puerto\", \"puerto\", \"race\", \"race\", \"race\", \"race\", \"race\", \"radiation\", \"radiation\", \"radiation\", \"radiation\", \"radiation\", \"railroad\", \"railroad\", \"railroad\", \"railroad\", \"railroad\", \"range\", \"range\", \"range\", \"range\", \"range\", \"rayburn\", \"rayburn\", \"rayburn\", \"rayburn\", \"rayburn\", \"recognition\", \"recognition\", \"recognition\", \"recognition\", \"recognition\", \"recommendation\", \"recommendation\", \"recommendation\", \"recommendation\", \"recommendation\", \"recreation\", \"recreation\", \"recreation\", \"recreation\", \"recreation\", \"rehabilitation\", \"rehabilitation\", \"rehabilitation\", \"rehabilitation\", \"rehabilitation\", \"rep\", \"rep\", \"rep\", \"rep\", \"rep\", \"republican\", \"republican\", \"republican\", \"republican\", \"republican\", \"republicans\", \"republicans\", \"republicans\", \"republicans\", \"republicans\", \"research\", \"research\", \"research\", \"research\", \"research\", \"return\", \"return\", \"return\", \"return\", \"return\", \"rhode\", \"rhode\", \"rhode\", \"rhode\", \"rhode\", \"rico\", \"rico\", \"rico\", \"rico\", \"rico\", \"right\", \"right\", \"right\", \"right\", \"right\", \"room\", \"room\", \"room\", \"room\", \"room\", \"said\", \"said\", \"said\", \"said\", \"said\", \"sales\", \"sales\", \"sales\", \"sales\", \"sales\", \"sat\", \"sat\", \"sat\", \"sat\", \"sat\", \"savings\", \"savings\", \"savings\", \"savings\", \"savings\", \"school\", \"school\", \"school\", \"school\", \"school\", \"schools\", \"schools\", \"schools\", \"schools\", \"schools\", \"secretary\", \"secretary\", \"secretary\", \"secretary\", \"secretary\", \"section\", \"section\", \"section\", \"section\", \"section\", \"sectors\", \"sectors\", \"sectors\", \"sectors\", \"sectors\", \"sept\", \"sept\", \"sept\", \"sept\", \"sept\", \"service\", \"service\", \"service\", \"service\", \"service\", \"services\", \"services\", \"services\", \"services\", \"services\", \"shall\", \"shall\", \"shall\", \"shall\", \"shall\", \"shares\", \"shares\", \"shares\", \"shares\", \"shares\", \"shelter\", \"shelter\", \"shelter\", \"shelter\", \"shelter\", \"shipments\", \"shipments\", \"shipments\", \"shipments\", \"shipments\", \"small\", \"small\", \"small\", \"small\", \"small\", \"southern\", \"southern\", \"southern\", \"southern\", \"southern\", \"soviet\", \"soviet\", \"soviet\", \"soviet\", \"soviet\", \"speaker\", \"speaker\", \"speaker\", \"speaker\", \"speaker\", \"st\", \"st\", \"st\", \"st\", \"st\", \"stared\", \"stared\", \"stared\", \"stared\", \"stared\", \"state\", \"state\", \"state\", \"state\", \"state\", \"states\", \"states\", \"states\", \"states\", \"states\", \"stations\", \"stations\", \"stations\", \"stations\", \"stations\", \"stockholders\", \"stockholders\", \"stockholders\", \"stockholders\", \"stockholders\", \"student\", \"student\", \"student\", \"student\", \"student\", \"students\", \"students\", \"students\", \"students\", \"students\", \"studio\", \"studio\", \"studio\", \"studio\", \"studio\", \"sun\", \"sun\", \"sun\", \"sun\", \"sun\", \"sure\", \"sure\", \"sure\", \"sure\", \"sure\", \"sweet\", \"sweet\", \"sweet\", \"sweet\", \"sweet\", \"system\", \"system\", \"system\", \"system\", \"system\", \"systems\", \"systems\", \"systems\", \"systems\", \"systems\", \"tax\", \"tax\", \"tax\", \"tax\", \"tax\", \"teachers\", \"teachers\", \"teachers\", \"teachers\", \"teachers\", \"technical\", \"technical\", \"technical\", \"technical\", \"technical\", \"tends\", \"tends\", \"tends\", \"tends\", \"tends\", \"thereof\", \"thereof\", \"thereof\", \"thereof\", \"thereof\", \"thought\", \"thought\", \"thought\", \"thought\", \"thought\", \"title\", \"title\", \"title\", \"title\", \"title\", \"tractor\", \"tractor\", \"tractor\", \"tractor\", \"tractor\", \"treasury\", \"treasury\", \"treasury\", \"treasury\", \"treasury\", \"trees\", \"trees\", \"trees\", \"trees\", \"trees\", \"troops\", \"troops\", \"troops\", \"troops\", \"troops\", \"trust\", \"trust\", \"trust\", \"trust\", \"trust\", \"trustees\", \"trustees\", \"trustees\", \"trustees\", \"trustees\", \"unions\", \"unions\", \"unions\", \"unions\", \"unions\", \"united\", \"united\", \"united\", \"united\", \"united\", \"university\", \"university\", \"university\", \"university\", \"university\", \"upstairs\", \"upstairs\", \"upstairs\", \"upstairs\", \"upstairs\", \"use\", \"use\", \"use\", \"use\", \"use\", \"utility\", \"utility\", \"utility\", \"utility\", \"utility\", \"ve\", \"ve\", \"ve\", \"ve\", \"ve\", \"vehicles\", \"vehicles\", \"vehicles\", \"vehicles\", \"vehicles\", \"vocational\", \"vocational\", \"vocational\", \"vocational\", \"vocational\", \"walls\", \"walls\", \"walls\", \"walls\", \"walls\", \"war\", \"war\", \"war\", \"war\", \"war\", \"wasn\", \"wasn\", \"wasn\", \"wasn\", \"wasn\", \"water\", \"water\", \"water\", \"water\", \"water\", \"way\", \"way\", \"way\", \"way\", \"way\", \"week\", \"week\", \"week\", \"week\", \"week\", \"went\", \"went\", \"went\", \"went\", \"went\", \"west\", \"west\", \"west\", \"west\", \"west\", \"windows\", \"windows\", \"windows\", \"windows\", \"windows\", \"woman\", \"woman\", \"woman\", \"woman\", \"woman\", \"wondered\", \"wondered\", \"wondered\", \"wondered\", \"wondered\", \"work\", \"work\", \"work\", \"work\", \"work\", \"world\", \"world\", \"world\", \"world\", \"world\", \"yankees\", \"yankees\", \"yankees\", \"yankees\", \"yankees\", \"yards\", \"yards\", \"yards\", \"yards\", \"yards\", \"yellow\", \"yellow\", \"yellow\", \"yellow\", \"yellow\", \"yesterday\", \"yesterday\", \"yesterday\", \"yesterday\", \"yesterday\", \"yield\", \"yield\", \"yield\", \"yield\", \"yield\", \"york\", \"york\", \"york\", \"york\", \"york\"]}, \"R\": 30, \"lambda.step\": 0.01, \"plot.opts\": {\"xlab\": \"PC1\", \"ylab\": \"PC2\"}, \"topic.order\": [1, 2, 3, 4, 5]};\n",
              "\n",
              "function LDAvis_load_lib(url, callback){\n",
              "  var s = document.createElement('script');\n",
              "  s.src = url;\n",
              "  s.async = true;\n",
              "  s.onreadystatechange = s.onload = callback;\n",
              "  s.onerror = function(){console.warn(\"failed to load library \" + url);};\n",
              "  document.getElementsByTagName(\"head\")[0].appendChild(s);\n",
              "}\n",
              "\n",
              "if(typeof(LDAvis) !== \"undefined\"){\n",
              "   // already loaded: just create the visualization\n",
              "   !function(LDAvis){\n",
              "       new LDAvis(\"#\" + \"ldavis_el2131369267218142889436999702\", ldavis_el2131369267218142889436999702_data);\n",
              "   }(LDAvis);\n",
              "}else if(typeof define === \"function\" && define.amd){\n",
              "   // require.js is available: use it to load d3/LDAvis\n",
              "   require.config({paths: {d3: \"https://d3js.org/d3.v5\"}});\n",
              "   require([\"d3\"], function(d3){\n",
              "      window.d3 = d3;\n",
              "      LDAvis_load_lib(\"https://cdn.jsdelivr.net/gh/bmabey/pyLDAvis@3.4.0/pyLDAvis/js/ldavis.v3.0.0.js\", function(){\n",
              "        new LDAvis(\"#\" + \"ldavis_el2131369267218142889436999702\", ldavis_el2131369267218142889436999702_data);\n",
              "      });\n",
              "    });\n",
              "}else{\n",
              "    // require.js not available: dynamically load d3 & LDAvis\n",
              "    LDAvis_load_lib(\"https://d3js.org/d3.v5.js\", function(){\n",
              "         LDAvis_load_lib(\"https://cdn.jsdelivr.net/gh/bmabey/pyLDAvis@3.4.0/pyLDAvis/js/ldavis.v3.0.0.js\", function(){\n",
              "                 new LDAvis(\"#\" + \"ldavis_el2131369267218142889436999702\", ldavis_el2131369267218142889436999702_data);\n",
              "            })\n",
              "         });\n",
              "}\n",
              "</script>"
            ]
          },
          "metadata": {},
          "execution_count": 28
        }
      ],
      "source": [
        "pyLDAvis.display(lda_display)"
      ]
    },
    {
      "cell_type": "markdown",
      "id": "a3d14c87",
      "metadata": {
        "id": "a3d14c87"
      },
      "source": [
        "Q: What conclusions do you draw from the visualization above? Please address the principal component scatterplot and the salient terms graph.\n",
        "\n",
        "A: First and foremost, I love the interactive format to visually display the data. The first aspect of the graph is the principal component scatterplot that displays the similarities between topics and the differences based on a two-dimensional space. It is evident that topic 1 and 3 are more distinctly unique compared to the other topics while 2 and 5 overlap. Topic 4 is similarly comparable to topics 2 and 5. The salient term graph does a great job displaying the top-30 most relative words based on the porportion of the corpus for each topic.\n"
      ]
    }
  ],
  "metadata": {
    "kernelspec": {
      "display_name": "Python 3 (ipykernel)",
      "language": "python",
      "name": "python3"
    },
    "language_info": {
      "codemirror_mode": {
        "name": "ipython",
        "version": 3
      },
      "file_extension": ".py",
      "mimetype": "text/x-python",
      "name": "python",
      "nbconvert_exporter": "python",
      "pygments_lexer": "ipython3",
      "version": "3.9.16"
    },
    "colab": {
      "provenance": []
    }
  },
  "nbformat": 4,
  "nbformat_minor": 5
}